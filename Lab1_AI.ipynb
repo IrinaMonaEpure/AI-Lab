{
 "cells": [
  {
   "cell_type": "markdown",
   "metadata": {},
   "source": [
    "# Artificial Intelligence - Fall 2020 - Laboratory 01 : Python Introduction part I\n",
    "\n",
    "c: Alexandra Dobrescu <alexandramaria.digital@gmail.com>"
   ]
  },
  {
   "cell_type": "markdown",
   "metadata": {},
   "source": [
    "### Special Task 1\n",
    "\n",
    "Unlock your _creativity_ and _knowledge_ by filling this [form](https://forms.gle/GkHqcbiq7vaN4CQh9)."
   ]
  },
  {
   "cell_type": "markdown",
   "metadata": {},
   "source": [
    "## Introduction\n",
    "\n",
    "Let's start our *Artificial Intelligence* journey with a brief introduction to Python - the scripting language that:\n",
    "\n",
    "* Is easy to learn and read thanks to its \"pseudocode\" syntax;\n",
    "* Allows us to express large projects in fewer lines of code;\n",
    "* Sets the scene for _interactive lessons_ ;) !"
   ]
  },
  {
   "cell_type": "markdown",
   "metadata": {},
   "source": [
    "## The Basics\n",
    "\n",
    "### Speaking of syntax:\n",
    "\n",
    "* For building a code block structure, the language uses whitespaces and indentation;\n",
    "\n",
    "```python\n",
    "# Python comments are marked by #symbol.\n",
    "```\n",
    "\n",
    "* To save your files, please use the .py extension."
   ]
  },
  {
   "cell_type": "markdown",
   "metadata": {},
   "source": [
    "### Variables and Operators\n",
    "\n",
    "Declare meaningful variables names using letters, numbers and underscores (Please be careful with Python keywords or reserved names)."
   ]
  },
  {
   "cell_type": "markdown",
   "metadata": {},
   "source": [
    "**Obs 1:** Python is _dynamically typed_ and instantly infers the data type of the variable."
   ]
  },
  {
   "cell_type": "code",
   "execution_count": 1,
   "metadata": {
    "scrolled": true
   },
   "outputs": [
    {
     "name": "stdout",
     "output_type": "stream",
     "text": [
      "This is my first string! <class 'str'>\n",
      "The assignment operator is \"=\" and my variable 2.0245 is of type: <class 'float'>.\n",
      "my_var = 7.0245 is of type: <class 'float'>.\n",
      "The exponent symbol is ** and my_var equals 49.344.\n"
     ]
    }
   ],
   "source": [
    "# To create variables assign values:\n",
    "my_var = 'This is my first string!' # the end of the statement doesn't require a ;\n",
    "print(my_var, type(my_var))\n",
    "\n",
    "my_var = 2.0245\n",
    "print('The assignment operator is \"=\" and my variable {} is of type: {}.' .format(my_var, type(my_var)))\n",
    "\n",
    "my_var += 5\n",
    "print('my_var = {} is of type: {}.' .format(my_var, type(my_var)))\n",
    "\n",
    "my_var = my_var**2\n",
    "print('The exponent symbol is ** and my_var equals {0:.3f}.' .format(my_var))"
   ]
  },
  {
   "cell_type": "markdown",
   "metadata": {},
   "source": [
    "**Obs 2:** Additionally, the automatic conversion of different data types is not allowed (Python is _strongly typed_)."
   ]
  },
  {
   "cell_type": "code",
   "execution_count": 2,
   "metadata": {},
   "outputs": [
    {
     "ename": "TypeError",
     "evalue": "can only concatenate str (not \"float\") to str",
     "output_type": "error",
     "traceback": [
      "\u001b[1;31m---------------------------------------------------------------------------\u001b[0m",
      "\u001b[1;31mTypeError\u001b[0m                                 Traceback (most recent call last)",
      "\u001b[1;32m<ipython-input-2-fb52926791ed>\u001b[0m in \u001b[0;36m<module>\u001b[1;34m\u001b[0m\n\u001b[0;32m      1\u001b[0m \u001b[0mmy_str\u001b[0m \u001b[1;33m=\u001b[0m \u001b[1;34m'Why we like Science?'\u001b[0m\u001b[1;33m\u001b[0m\u001b[1;33m\u001b[0m\u001b[0m\n\u001b[1;32m----> 2\u001b[1;33m \u001b[0mprint\u001b[0m\u001b[1;33m(\u001b[0m\u001b[0mmy_str\u001b[0m \u001b[1;33m+\u001b[0m \u001b[0mmy_var\u001b[0m\u001b[1;33m)\u001b[0m\u001b[1;33m\u001b[0m\u001b[1;33m\u001b[0m\u001b[0m\n\u001b[0m",
      "\u001b[1;31mTypeError\u001b[0m: can only concatenate str (not \"float\") to str"
     ]
    }
   ],
   "source": [
    "my_str = 'Why we like Science?'\n",
    "print(my_str + my_var)"
   ]
  },
  {
   "cell_type": "markdown",
   "metadata": {},
   "source": [
    "### Task 0\n",
    "_Note: Yes, the laboratory uses zero-based indexing._\n",
    "\n",
    "* Convert `my_var` to integer.\n",
    "* Concatenate `my_str` with `my_var`.\n",
    "\n",
    "_Hint_: Mind the types of the variables you are concatenating.\n",
    "\n",
    "Different type conversion functions are:\n",
    "\n",
    "```python\n",
    "    int(variable)\n",
    "    float(variable)\n",
    "    str(variable)\n",
    "    list(variable)\n",
    "```"
   ]
  },
  {
   "cell_type": "code",
   "execution_count": 8,
   "metadata": {},
   "outputs": [
    {
     "name": "stdout",
     "output_type": "stream",
     "text": [
      "Why we like Science? 49.\n"
     ]
    }
   ],
   "source": [
    "# Your impelementation here:\n",
    "\n",
    "my_str = 'Why we like Science?'\n",
    "my_var = str(my_var)\n",
    "result = my_str + \" \" + my_var + \".\"\n",
    "print(result)"
   ]
  },
  {
   "cell_type": "code",
   "execution_count": null,
   "metadata": {},
   "outputs": [],
   "source": [
    "print('result: {}.' .format(result))\n",
    "assert result == 'Why we like Science? 49.'"
   ]
  },
  {
   "cell_type": "code",
   "execution_count": 3,
   "metadata": {},
   "outputs": [
    {
     "data": {
      "text/plain": [
       "True"
      ]
     },
     "execution_count": 3,
     "metadata": {},
     "output_type": "execute_result"
    }
   ],
   "source": [
    "# To verify if a variable has a reserved name:\n",
    "import keyword\n",
    "\n",
    "keyword.iskeyword('def')"
   ]
  },
  {
   "cell_type": "code",
   "execution_count": 4,
   "metadata": {},
   "outputs": [
    {
     "ename": "NameError",
     "evalue": "name 'my_var' is not defined",
     "output_type": "error",
     "traceback": [
      "\u001b[1;31m---------------------------------------------------------------------------\u001b[0m",
      "\u001b[1;31mNameError\u001b[0m                                 Traceback (most recent call last)",
      "\u001b[1;32m<ipython-input-4-72454a2ea43a>\u001b[0m in \u001b[0;36m<module>\u001b[1;34m\u001b[0m\n\u001b[0;32m      1\u001b[0m \u001b[1;31m# To remove a variable:\u001b[0m\u001b[1;33m\u001b[0m\u001b[1;33m\u001b[0m\u001b[1;33m\u001b[0m\u001b[0m\n\u001b[0;32m      2\u001b[0m \u001b[1;32mdel\u001b[0m \u001b[0mmy_var\u001b[0m\u001b[1;33m\u001b[0m\u001b[1;33m\u001b[0m\u001b[0m\n\u001b[1;32m----> 3\u001b[1;33m \u001b[0mprint\u001b[0m\u001b[1;33m(\u001b[0m\u001b[0mmy_var\u001b[0m\u001b[1;33m)\u001b[0m\u001b[1;33m\u001b[0m\u001b[1;33m\u001b[0m\u001b[0m\n\u001b[0m",
      "\u001b[1;31mNameError\u001b[0m: name 'my_var' is not defined"
     ]
    }
   ],
   "source": [
    "# To remove a variable:\n",
    "del my_var\n",
    "print(my_var)"
   ]
  },
  {
   "cell_type": "markdown",
   "metadata": {},
   "source": [
    "### Task 1\n",
    "\n",
    "Write the _sentence_ string based on existing variables and any additional element.\n",
    "\n",
    "_Hint:_ You might want to take a look at `.format()` or `join()` method before."
   ]
  },
  {
   "cell_type": "code",
   "execution_count": null,
   "metadata": {},
   "outputs": [],
   "source": [
    "noun = 'layer'\n",
    "verb = 'has'\n",
    "number = 128\n",
    "punctuation = '.'"
   ]
  },
  {
   "cell_type": "code",
   "execution_count": 10,
   "metadata": {},
   "outputs": [
    {
     "name": "stdout",
     "output_type": "stream",
     "text": [
      "This layer has 128 neurons.\n"
     ]
    }
   ],
   "source": [
    "# Your implementation:\n",
    "noun = 'layer'\n",
    "verb = 'has'\n",
    "number = 128\n",
    "punctuation = '.'\n",
    "sentence = 'This {} {} {} neurons{}'.format(noun,verb,number,punctuation)\n",
    "\n",
    "print(sentence)"
   ]
  },
  {
   "cell_type": "code",
   "execution_count": null,
   "metadata": {},
   "outputs": [],
   "source": [
    "print('sentence: {}'.format(sentence))\n",
    "assert sentence == 'This layer has 128 neurons.'"
   ]
  },
  {
   "cell_type": "markdown",
   "metadata": {},
   "source": [
    "### Loops\n",
    "\n",
    "```python\n",
    "    for item in sequence:\n",
    "        \"\"\"DO STUFF\"\"\"\n",
    "```\n",
    "\n",
    "Look for `break`, `continue`, `pass` statements [here](https://docs.python.org/3/tutorial/controlflow.html#for-statements).\n"
   ]
  },
  {
   "cell_type": "markdown",
   "metadata": {},
   "source": [
    "### Lists\n",
    "\n",
    "To construct computed lists, we can use _list comprehension_ syntax:\n",
    "\n",
    "```python\n",
    "    my_list = [expression for variable in sequence]\n",
    "```"
   ]
  },
  {
   "cell_type": "code",
   "execution_count": 25,
   "metadata": {},
   "outputs": [
    {
     "name": "stdout",
     "output_type": "stream",
     "text": [
      "A is an empty list: [], type: <class 'list'>\n",
      "B is known as `list display`: [0, 2, 4, 6], the number of items in the list: 4\n"
     ]
    }
   ],
   "source": [
    "A = [] # alternative A = list()\n",
    "print('A is an empty list: {}, type: {}'.format(A, type(A)))\n",
    "\n",
    "B = [0, 2, 4, 6] \n",
    "print('B is known as `list display`: {}, the number of items in the list: {}'.format(B, len(B)))"
   ]
  },
  {
   "cell_type": "markdown",
   "metadata": {},
   "source": [
    "### Task 2\n",
    "\n",
    "**a.** Change the values in list B in odd numbers, in a new list C. Using a `for loop` print list items."
   ]
  },
  {
   "cell_type": "code",
   "execution_count": 14,
   "metadata": {},
   "outputs": [
    {
     "name": "stdout",
     "output_type": "stream",
     "text": [
      "C : [1, 3, 5, 7]\n"
     ]
    }
   ],
   "source": [
    "# Your impelementation here:\n",
    "\n",
    "C = [b+1 for b in B]\n",
    "print('C : {}'.format(C))"
   ]
  },
  {
   "cell_type": "code",
   "execution_count": 13,
   "metadata": {},
   "outputs": [
    {
     "name": "stdout",
     "output_type": "stream",
     "text": [
      "C : [1, 3, 5, 7]\n"
     ]
    }
   ],
   "source": [
    "print('C : {}'.format(C))\n",
    "assert C == [1, 3, 5, 7]"
   ]
  },
  {
   "cell_type": "code",
   "execution_count": 15,
   "metadata": {},
   "outputs": [
    {
     "name": "stdout",
     "output_type": "stream",
     "text": [
      "0\n"
     ]
    }
   ],
   "source": [
    "# To acces values in your list:\n",
    "first_elem = B[0] \n",
    "print(first_elem)"
   ]
  },
  {
   "cell_type": "markdown",
   "metadata": {},
   "source": [
    "**b.** Update the third element of B to 0."
   ]
  },
  {
   "cell_type": "code",
   "execution_count": 26,
   "metadata": {},
   "outputs": [
    {
     "name": "stdout",
     "output_type": "stream",
     "text": [
      "Updated list: [0, 2, 4, 0]\n"
     ]
    }
   ],
   "source": [
    "# Your impelementation here:\n",
    "\n",
    "B[3] = 0\n",
    "print('Updated list: {}'.format(B))"
   ]
  },
  {
   "cell_type": "code",
   "execution_count": 17,
   "metadata": {},
   "outputs": [
    {
     "name": "stdout",
     "output_type": "stream",
     "text": [
      "Updated list: [0, 2, 4, 0]\n"
     ]
    }
   ],
   "source": [
    "print('Updated list: {}'.format(B))\n",
    "assert B == [0, 2, 4, 0]"
   ]
  },
  {
   "cell_type": "markdown",
   "metadata": {},
   "source": [
    "**c.** Extract the middle elements from list B.\n",
    "\n",
    "Return a new list containing the objects between the corresponding start and stop indices, separated by `:`."
   ]
  },
  {
   "cell_type": "code",
   "execution_count": 27,
   "metadata": {},
   "outputs": [
    {
     "name": "stdout",
     "output_type": "stream",
     "text": [
      "Distinct elements of B: [2, 4]\n"
     ]
    }
   ],
   "source": [
    "# Your implementation here:\n",
    "\n",
    "D = [B[i] for i in (1,len(B)-2)]\n",
    "print('Distinct elements of B: {}'.format(D))"
   ]
  },
  {
   "cell_type": "code",
   "execution_count": null,
   "metadata": {},
   "outputs": [],
   "source": [
    "print('Distinct elements of B: {}'.format(diff_elems))\n",
    "assert diff_elems == [2, 4]"
   ]
  },
  {
   "cell_type": "markdown",
   "metadata": {},
   "source": [
    "### Dictionaires\n",
    "\n",
    "#### An unordered collection of items, where each item has a `key` and a corresponding `value`.\n",
    "\n",
    "Syntax:\n",
    "\n",
    "```python\n",
    "# To return key-value pairs:\n",
    "\n",
    "dictionary.items()\n",
    "```"
   ]
  },
  {
   "cell_type": "code",
   "execution_count": 28,
   "metadata": {},
   "outputs": [],
   "source": [
    "# Empty dictionary:\n",
    "my_dict = {} # alternative my_dict = dict()\n",
    "\n",
    "# Populating a dictionary:\n",
    "scientists_dict = {1: 'Geoffrey Hinton', 2: 'Yoshua Bengio', 3: 'Yann LeCun'}"
   ]
  },
  {
   "cell_type": "code",
   "execution_count": 34,
   "metadata": {},
   "outputs": [
    {
     "name": "stdout",
     "output_type": "stream",
     "text": [
      "dict_items([(1, 'Geoffrey Hinton'), (2, 'Yoshua Bengio'), (3, 'Yann LeCun')])\n",
      "dict_keys([1, 2, 3])\n",
      "dict_values(['Geoffrey Hinton', 'Yoshua Bengio', 'Yann LeCun'])\n"
     ]
    }
   ],
   "source": [
    "# Your implementation here: \n",
    "# Display items:\n",
    "print(scientists_dict.items())\n",
    "\n",
    "# Keys:\n",
    "print(scientists_dict.keys())\n",
    "\n",
    "# Values:\n",
    "print(scientists_dict.values())"
   ]
  },
  {
   "cell_type": "markdown",
   "metadata": {},
   "source": [
    "To access elements from a dictionary, we can apply `keys` inside `[]` or with `get()` method."
   ]
  },
  {
   "cell_type": "code",
   "execution_count": 35,
   "metadata": {},
   "outputs": [
    {
     "name": "stdout",
     "output_type": "stream",
     "text": [
      "Geoffrey Hinton\n"
     ]
    }
   ],
   "source": [
    "print(scientists_dict[1])"
   ]
  },
  {
   "cell_type": "code",
   "execution_count": 36,
   "metadata": {},
   "outputs": [],
   "source": [
    "del scientists_dict[3]"
   ]
  },
  {
   "cell_type": "markdown",
   "metadata": {},
   "source": [
    "### Task 3\n",
    "\n",
    "**a.** Fill the missing parts of the following sentences, and try to access the 3rd item of the dictionary, using both options presented above."
   ]
  },
  {
   "cell_type": "code",
   "execution_count": 39,
   "metadata": {},
   "outputs": [
    {
     "name": "stdout",
     "output_type": "stream",
     "text": [
      "None\n"
     ]
    }
   ],
   "source": [
    "# Your implementation here\n",
    "\n",
    "print(scientists_dict.get(3))"
   ]
  },
  {
   "cell_type": "markdown",
   "metadata": {},
   "source": [
    "\n",
    "- Accessing a missing key will raise `Key` error if we use the square brackets.\n",
    "- The `get()` method returns `None`."
   ]
  },
  {
   "cell_type": "markdown",
   "metadata": {},
   "source": [
    "**b.** Now update the 3rd item of the dictionary with a _string_ as a key, `scientists_dict` becomes a collection with `mixed keys`.\n",
    " For this new key, add a researcher of your choice."
   ]
  },
  {
   "cell_type": "code",
   "execution_count": 48,
   "metadata": {},
   "outputs": [],
   "source": [
    "# Your implementation here:\n",
    "\n",
    "scientists_dict['three'] ='Albert Einstein'"
   ]
  },
  {
   "cell_type": "code",
   "execution_count": 49,
   "metadata": {},
   "outputs": [
    {
     "name": "stdout",
     "output_type": "stream",
     "text": [
      "Updated dictionary {1: 'Geoffrey Hinton', 2: 'Yoshua Bengio', 'three': 'Albert Einstein'}\n"
     ]
    }
   ],
   "source": [
    "print('Updated dictionary {}'.format(scientists_dict))"
   ]
  },
  {
   "cell_type": "markdown",
   "metadata": {},
   "source": [
    "### Decision making\n",
    "\n",
    "```python\n",
    "if is_expression1a_valid and is_expression1b_valid:\n",
    "    execute_statement1\n",
    "elif is_optional_expression2a_valid or is_optional_expression2a_valid:\n",
    "    execute_statement2\n",
    "elif is_item in optional_expression3:\n",
    "    execute_statement3\n",
    "else:\n",
    "    execute_statement4\n",
    "```"
   ]
  },
  {
   "cell_type": "markdown",
   "metadata": {},
   "source": [
    "**c.** Presuming that `publications` dictionary stores the academic footprint (h-index) left by some of the well known researchers in the AI field, use `list comprehension` to obtain the number of publications.\n",
    "\n",
    "_Hint:_ Take into account only numeric values. "
   ]
  },
  {
   "cell_type": "code",
   "execution_count": 50,
   "metadata": {},
   "outputs": [],
   "source": [
    "publications = {'bengio' : 168,\n",
    "                'lecun' : 'computerVision',\n",
    "                'hinton' : 156,\n",
    "                'feifei' : 104,\n",
    "                'koller' : 142,\n",
    "                'elKaliouby' : 'emotionalAI'\n",
    "               }"
   ]
  },
  {
   "cell_type": "code",
   "execution_count": 56,
   "metadata": {},
   "outputs": [],
   "source": [
    "# Your implementation here:\n",
    "\n",
    "total_publications = 0\n",
    "for key,value in publications.items():\n",
    "    if isinstance(value, int):\n",
    "        total_publications = total_publications + value"
   ]
  },
  {
   "cell_type": "code",
   "execution_count": 57,
   "metadata": {},
   "outputs": [
    {
     "name": "stdout",
     "output_type": "stream",
     "text": [
      "570\n"
     ]
    }
   ],
   "source": [
    "print(total_publications)"
   ]
  },
  {
   "cell_type": "code",
   "execution_count": 58,
   "metadata": {},
   "outputs": [],
   "source": [
    "assert total_publications == 570"
   ]
  },
  {
   "cell_type": "markdown",
   "metadata": {},
   "source": [
    "### Idiomatic loops\n",
    "\n",
    "* Iterating over a range of numbers:\n",
    "\n",
    "```python\n",
    "    for val in range(int_val):\n",
    "        \"\"\"DO STUFF\"\"\"\n",
    "```\n",
    "\n",
    "* Retrieving the index of a list:\n",
    "\n",
    "```python\n",
    "    for i, val in enumerate(my_list):\n",
    "        \"\"\"DO STUFF\"\"\n",
    "```\n",
    "\n",
    "* As well as its elements:\n",
    "\n",
    "```python\n",
    "    for item in my_list:\n",
    "        \"\"\"DO STUFF\"\"\"\n",
    "```"
   ]
  },
  {
   "cell_type": "markdown",
   "metadata": {},
   "source": [
    "### Task 4\n",
    "\n",
    "Create a new string from even numbered characters in `my_str = awareness`. Please use an idiomatic loop."
   ]
  },
  {
   "cell_type": "code",
   "execution_count": 65,
   "metadata": {},
   "outputs": [
    {
     "name": "stdout",
     "output_type": "stream",
     "text": [
      "aaees\n"
     ]
    }
   ],
   "source": [
    "# Your implementation\n",
    "\n",
    "my_str = 'awareness'\n",
    "new_str = \"\"\n",
    "for val in range(len(my_str)):\n",
    "    if val % 2 == 0:\n",
    "        new_str = new_str + my_str[val]\n",
    "print(new_str)"
   ]
  },
  {
   "cell_type": "code",
   "execution_count": 66,
   "metadata": {},
   "outputs": [],
   "source": [
    "assert new_str == 'aaees'"
   ]
  },
  {
   "cell_type": "markdown",
   "metadata": {},
   "source": [
    "### Task 5\n",
    "\n",
    "Given `n = 9`, write a script to generate a dictionary that contains integer `keys ∈ [1, 9]`.\n",
    "\n",
    "**a.** Your values should be computed by the following formula:\n",
    "\n",
    "\\begin{equation*}\n",
    "values   = ax^2 + bx,\n",
    "\\end{equation*}\n",
    "\n",
    "where x is also an integer number between 1 and n, a=2 and b=3.\n",
    "\n",
    "**b.** Split the values from the dictionary that are divisible by 3, respectively 2, into two different lists.\n",
    "\n",
    "**c.** Check if the two lists from point _b._ have any element in common, and create a new list (sorted) removing their intersection. "
   ]
  },
  {
   "cell_type": "code",
   "execution_count": 72,
   "metadata": {},
   "outputs": [
    {
     "name": "stdout",
     "output_type": "stream",
     "text": [
      "dict_items([(1, 5), (2, 14), (3, 27), (4, 44), (5, 65), (6, 90), (7, 119), (8, 152), (9, 189)])\n",
      "div by 2:  [14, 44, 90, 152]\n",
      "div by 3:  [27, 90, 189]\n",
      "[14, 27, 44, 152, 189]\n"
     ]
    }
   ],
   "source": [
    "no = list(range(1,10))\n",
    "dictionary = {}\n",
    "for x in no:\n",
    "    dictionary[x] = 2 * (x ** 2) + 3 * x\n",
    "print(dictionary.items())\n",
    "div_by_2 = []\n",
    "for x in dictionary.values():\n",
    "    if x % 2 == 0:\n",
    "        div_by_2.append(x)\n",
    "print('div by 2: ', div_by_2)\n",
    "div_by_3 = []\n",
    "for x in dictionary.values():\n",
    "    if x % 3 == 0:\n",
    "        div_by_3.append(x)\n",
    "print('div by 3: ', div_by_3)\n",
    "list3 = []\n",
    "for i in div_by_3:\n",
    "    a = 1\n",
    "    for j in div_by_2:\n",
    "        if i == j:\n",
    "            a = 0\n",
    "    if a:\n",
    "        list3.append(i)\n",
    "for i in div_by_2:\n",
    "    a = 1\n",
    "    for j in div_by_3:\n",
    "        if i == j:\n",
    "            a = 0\n",
    "    if a:\n",
    "        list3.append(i)\n",
    "list3.sort()\n",
    "print(list3)"
   ]
  },
  {
   "cell_type": "code",
   "execution_count": null,
   "metadata": {},
   "outputs": [],
   "source": [
    "assert list3 == [14, 27, 44, 152, 189]"
   ]
  },
  {
   "cell_type": "markdown",
   "metadata": {},
   "source": [
    "## As a closing note,"
   ]
  },
  {
   "cell_type": "code",
   "execution_count": 79,
   "metadata": {},
   "outputs": [],
   "source": [
    "# Write:\n",
    "\n",
    "your_thoughts_here = 'this lab format and I think you are a very likeable teacher. Maybe a few instructions at the begining about how to use Jupyter would have been useful for those who had never worked with it before. Otherwise great lab :D'"
   ]
  },
  {
   "cell_type": "code",
   "execution_count": 80,
   "metadata": {},
   "outputs": [
    {
     "name": "stdout",
     "output_type": "stream",
     "text": [
      "I really enjoyed this lab format and I think you are a very likeable teacher. Maybe a few instructions at the begining about how to use Jupyter would have been useful for those who had never worked with it before. Otherwise great lab :D.\n"
     ]
    }
   ],
   "source": [
    "print('I really enjoyed {}.' .format(your_thoughts_here))"
   ]
  },
  {
   "cell_type": "code",
   "execution_count": null,
   "metadata": {},
   "outputs": [],
   "source": []
  },
  {
   "cell_type": "code",
   "execution_count": null,
   "metadata": {},
   "outputs": [],
   "source": []
  }
 ],
 "metadata": {
  "kernelspec": {
   "display_name": "Python 3",
   "language": "python",
   "name": "python3"
  },
  "language_info": {
   "codemirror_mode": {
    "name": "ipython",
    "version": 3
   },
   "file_extension": ".py",
   "mimetype": "text/x-python",
   "name": "python",
   "nbconvert_exporter": "python",
   "pygments_lexer": "ipython3",
   "version": "3.8.3"
  }
 },
 "nbformat": 4,
 "nbformat_minor": 4
}
