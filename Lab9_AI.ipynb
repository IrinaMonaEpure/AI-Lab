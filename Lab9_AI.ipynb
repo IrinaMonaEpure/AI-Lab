{
 "cells": [
  {
   "cell_type": "markdown",
   "metadata": {
    "id": "B001ncHM415s"
   },
   "source": [
    "# Artificial Intelligence - Fall 2020 - Laboratory 09\n",
    "\n",
    "## _First Order Predicate Logic:   Forward chaining in Rule-Based Systems_\n",
    "\n",
    "c: Alexandra Dobrescu <alexandramaria.digital@gmail.com>"
   ]
  },
  {
   "cell_type": "markdown",
   "metadata": {
    "id": "3TYO0Bcq415s"
   },
   "source": [
    "## Introduction\n",
    "\n",
    "The purpose of this laboratory is to understand and implement theorem proving using forward chaining.\n",
    "\n",
    "###  Definite clauses. Rules. Facts.\n",
    "\n",
    "In this laboratory we will use a certain type of formulas, more precisely **definite clauses**. These are Horn clauses with exactly one positive literal.\n",
    "\n",
    "$$\\neg p_1 \\vee \\neg p_2 \\vee \\ldots \\vee \\neg p_N \\vee c$$\n",
    "\n",
    "This leads us to:\n",
    "\n",
    "$$\\left( p_1 \\wedge p_2 \\wedge \\ldots \\wedge p_N \\right) \\rightarrow c$$\n",
    "\n",
    "The particular rule-like form of clauses is similar to the **rules**.\n",
    "\n",
    "We will call **rule** a clause defined with at least one negative literal and we will call **fact** a clause defined with only one literal (the positive one).\n",
    "\n",
    "### Problem to be solved\n",
    "\n",
    "_Given a knowledge base_ `kb` _consisting of defined clauses (facts and rules), prove the theorem_ `t`."
   ]
  },
  {
   "cell_type": "markdown",
   "metadata": {
    "id": "8MAUdT7w415t"
   },
   "source": [
    "## Useful functions from previous laboratories\n",
    "\n",
    "### Task 0\n",
    "\n",
    "Save the solution of `lab 8` (*Representation and Unification*) with the name `Lab08.py`. We will also use the functions already implemented in `Homework3_Resolution`. The important functions for today are:\n",
    "  - `make_var`,` make_const`, `make_atom` - useful for building atoms. \n",
    "  For example, $$ Weather (tomorrow, Cold) $$ is constructed as follows:\n",
    "  \n",
    "`make_atom (\" Weather \", make_var (\" tomorrow \"), make_const (\" Cold \"))`\n",
    " \n",
    "  - `unify` and` substitute` - useful for calculating the most general unifier for two formulas and for applying a substitution\n",
    "  - `is_positive_literal` and` is_negative_literal`\n",
    "  - `add_statement` - adds a defined clause to a knowledge base. We have two variants of use in this laboratory:\n",
    "    * `add_statement (kb, Atom)` - adds the fact to Atom in kb\n",
    "    * `add_statement (kb, C, P1, P2, Pn)` - add in kb the rule $\\left(p_1 \\wedge p_2 \\wedge p_N \\right) \\rightarrow c$ as:\n",
    "   \n",
    "    `make_or (make_neg (P1), make_neg (P2), make_neg (Pn), C)`"
   ]
  },
  {
   "cell_type": "markdown",
   "metadata": {
    "id": "p4KIGJ55415t"
   },
   "source": [
    "### Task 1 (optional)\n",
    "\n",
    "Make the following change to the `unify` function: the function header\n",
    "\n",
    "```python\n",
    "def unify(f1, f2):\n",
    "    ...\n",
    "    subst = {}\n",
    "```\n",
    "\n",
    "should be changed to receive a third parameter, a starting substitution.\n",
    "\n",
    "```python\n",
    "def unify(f1, f2, subst=None):\n",
    "    if not subst:\n",
    "        subst = {}\n",
    "```\n",
    "**Remember:** After modifying `unify` to download `Lab08` again as a Python file and restart Kernel in this file."
   ]
  },
  {
   "cell_type": "code",
   "execution_count": 29,
   "metadata": {
    "id": "LzStW0Uj415t",
    "outputId": "3288120e-750b-438f-e33d-8622f55fa0dd"
   },
   "outputs": [],
   "source": [
    "from Lab08 import make_var, make_const, make_atom, make_or, make_neg, \\\n",
    "                is_variable, is_constant, is_atom, is_function_call, \\\n",
    "                print_formula, get_args, get_head, get_name, get_value ,\\\n",
    "                unify, substitute\n",
    "from Homework3_Resolution import add_statement, is_positive_literal, is_negative_literal, \\\n",
    "                make_unique_var_names, print_KB\n",
    "from LPTester import *"
   ]
  },
  {
   "cell_type": "markdown",
   "metadata": {
    "id": "db6u-UZ3415u"
   },
   "source": [
    "## Knowledge base\n",
    "\n",
    "Complete the representation of the knowledge base below knowing that it corresponds to the following statements:\n",
    "\n",
    "[TODO 2.1:] *If it rained two days in a row, the third day will be sunny.* \n",
    "\n",
    "[TODO 2.2:] *If it was sunny three days in a row, it will rain on the fourth day.* \n",
    "\n",
    "[TODO 2.3:] *A student always goes to the mountains if it is sunny on a weekend day. Those who go to the mountains and practise a winter sport will have activities related to that winter sport.*\n",
    "\n",
    "*Mary and Kevin are students. Mary plays volleyball and skiing, and Kevin skis and sledging. Volleyball is a summer sport, while skiing and sledging are winter sports. It's raining on Friday; Monday, Tuesday and Wednesday is sunny.*\n",
    "\n",
    "### Task 2:\n",
    "\n",
    "Fill in the clauses defined for the first 3 sentences below."
   ]
  },
  {
   "cell_type": "code",
   "execution_count": 30,
   "metadata": {
    "id": "QlVhgLoQ415u",
    "outputId": "cfe481d2-78e2-4551-a6a8-0af8b3a40db5"
   },
   "outputs": [
    {
     "name": "stdout",
     "output_type": "stream",
     "text": [
      "This is how the knowledge base is presented:\n",
      "OK: Added statement Consecutive(Monday, Tuesday)\n",
      "OK: Added statement Consecutive(Tuesday, Wednesday)\n",
      "OK: Added statement Consecutive(Wednesday, Thursday)\n",
      "OK: Added statement Consecutive(Thursday, Friday)\n",
      "OK: Added statement Consecutive(Friday, Saturday)\n",
      "OK: Added statement Consecutive(Saturday, Sunday)\n",
      "OK: Added statement Weekend(Saturday)\n",
      "OK: Added statement Weekend(Sunday)\n",
      "OK: Added statement Rain(Friday)\n",
      "OK: Added statement (V ~Rain(?x) ~Rain(?y) ~Consecutive(?x, ?y) ~Consecutive(?y, ?z) Sunny(?z))\n",
      "OK: Added statement Sunny(Monday)\n",
      "OK: Added statement Sunny(Tuesday)\n",
      "OK: Added statement Sunny(Wednesday)\n",
      "OK: Added statement (V ~Sunny(?x) ~Sunny(?y) ~Sunny(?z) ~Consecutive(?x, ?y) ~Consecutive(?y, ?z) ~Consecutive(?z, ?n) Rain(?n))\n",
      "OK: Added statement Student(Mary)\n",
      "OK: Added statement Student(Kevin)\n",
      "OK: Added statement (V ~Student(?who) ~Sunny(?day) ~Weekend(?day) GoesToMountain(?who, ?day))\n",
      "OK: Added statement SummerSport(Volleyball)\n",
      "OK: Added statement WinterSport(Skiing)\n",
      "OK: Added statement WinterSport(Sledgging)\n",
      "OK: Added statement PractiseSport(Kevin, Skiing)\n",
      "OK: Added statement PractiseSport(Kevin, Sledgging)\n",
      "OK: Added statement PractiseSport(Mary, Skiing)\n",
      "OK: Added statement PractiseSport(Mary, Volleyball)\n",
      "OK: Added statement (V ~GoesToMountain(?who, ?when) ~PractiseSport(?who, ?what) Activity(?who, ?what, ?when))\n",
      "KB now:\n",
      "\t\t\tConsecutive(Monday, Tuesday)\n",
      "\t\t\tConsecutive(Tuesday, Wednesday)\n",
      "\t\t\tConsecutive(Wednesday, Thursday)\n",
      "\t\t\tConsecutive(Thursday, Friday)\n",
      "\t\t\tConsecutive(Friday, Saturday)\n",
      "\t\t\tConsecutive(Saturday, Sunday)\n",
      "\t\t\tWeekend(Saturday)\n",
      "\t\t\tWeekend(Sunday)\n",
      "\t\t\tRain(Friday)\n",
      "\t\t\t(V ~Rain(?x) ~Rain(?y) ~Consecutive(?x, ?y) ~Consecutive(?y, ?z) Sunny(?z))\n",
      "\t\t\tSunny(Monday)\n",
      "\t\t\tSunny(Tuesday)\n",
      "\t\t\tSunny(Wednesday)\n",
      "\t\t\t(V ~Sunny(?x) ~Sunny(?y) ~Sunny(?z) ~Consecutive(?x, ?y) ~Consecutive(?y, ?z) ~Consecutive(?z, ?n) Rain(?n))\n",
      "\t\t\tStudent(Mary)\n",
      "\t\t\tStudent(Kevin)\n",
      "\t\t\t(V ~Student(?who) ~Sunny(?day) ~Weekend(?day) GoesToMountain(?who, ?day))\n",
      "\t\t\tSummerSport(Volleyball)\n",
      "\t\t\tWinterSport(Skiing)\n",
      "\t\t\tWinterSport(Sledgging)\n",
      "\t\t\tPractiseSport(Kevin, Skiing)\n",
      "\t\t\tPractiseSport(Kevin, Sledgging)\n",
      "\t\t\tPractiseSport(Mary, Skiing)\n",
      "\t\t\tPractiseSport(Mary, Volleyball)\n",
      "\t\t\t(V ~GoesToMountain(?who, ?when) ~PractiseSport(?who, ?what) Activity(?who, ?what, ?when))\n",
      "==================== \n",
      " Inside the KB we can notice:\n",
      "(3, 'Consecutive', [(0, 'Monday'), (0, 'Tuesday')])\n",
      "(3, 'Consecutive', [(0, 'Tuesday'), (0, 'Wednesday')])\n",
      "(3, 'Consecutive', [(0, 'Wednesday'), (0, 'Thursday')])\n",
      "(3, 'Consecutive', [(0, 'Thursday'), (0, 'Friday')])\n",
      "(3, 'Consecutive', [(0, 'Friday'), (0, 'Saturday')])\n",
      "(3, 'Consecutive', [(0, 'Saturday'), (0, 'Sunday')])\n",
      "(3, 'Weekend', [(0, 'Saturday')])\n",
      "(3, 'Weekend', [(0, 'Sunday')])\n",
      "(3, 'Rain', [(0, 'Friday')])\n",
      "(6, [(4, [(3, 'Rain', [(1, 'x')])]), (4, [(3, 'Rain', [(1, 'y')])]), (4, [(3, 'Consecutive', [(1, 'x'), (1, 'y')])]), (4, [(3, 'Consecutive', [(1, 'y'), (1, 'z')])]), (3, 'Sunny', [(1, 'z')])])\n",
      "(3, 'Sunny', [(0, 'Monday')])\n",
      "(3, 'Sunny', [(0, 'Tuesday')])\n",
      "(3, 'Sunny', [(0, 'Wednesday')])\n",
      "(6, [(4, [(3, 'Sunny', [(1, 'x')])]), (4, [(3, 'Sunny', [(1, 'y')])]), (4, [(3, 'Sunny', [(1, 'z')])]), (4, [(3, 'Consecutive', [(1, 'x'), (1, 'y')])]), (4, [(3, 'Consecutive', [(1, 'y'), (1, 'z')])]), (4, [(3, 'Consecutive', [(1, 'z'), (1, 'n')])]), (3, 'Rain', [(1, 'n')])])\n",
      "(3, 'Student', [(0, 'Mary')])\n",
      "(3, 'Student', [(0, 'Kevin')])\n",
      "(6, [(4, [(3, 'Student', [(1, 'who')])]), (4, [(3, 'Sunny', [(1, 'day')])]), (4, [(3, 'Weekend', [(1, 'day')])]), (3, 'GoesToMountain', [(1, 'who'), (1, 'day')])])\n",
      "(3, 'SummerSport', [(0, 'Volleyball')])\n",
      "(3, 'WinterSport', [(0, 'Skiing')])\n",
      "(3, 'WinterSport', [(0, 'Sledgging')])\n",
      "(3, 'PractiseSport', [(0, 'Kevin'), (0, 'Skiing')])\n",
      "(3, 'PractiseSport', [(0, 'Kevin'), (0, 'Sledgging')])\n",
      "(3, 'PractiseSport', [(0, 'Mary'), (0, 'Skiing')])\n",
      "(3, 'PractiseSport', [(0, 'Mary'), (0, 'Volleyball')])\n",
      "(6, [(4, [(3, 'GoesToMountain', [(1, 'who'), (1, 'when')])]), (4, [(3, 'PractiseSport', [(1, 'who'), (1, 'what')])]), (3, 'Activity', [(1, 'who'), (1, 'what'), (1, 'when')])])\n",
      "\n"
     ]
    }
   ],
   "source": [
    "def get_sports_kb():\n",
    "    sports_kb = []\n",
    "    # Predicate 'Consecutive'\n",
    "    add_statement(sports_kb, make_atom('Consecutive', make_const('Monday'), make_const('Tuesday')))\n",
    "    add_statement(sports_kb, make_atom('Consecutive', make_const('Tuesday'), make_const('Wednesday')))\n",
    "    add_statement(sports_kb, make_atom('Consecutive', make_const('Wednesday'), make_const('Thursday')))\n",
    "    add_statement(sports_kb, make_atom('Consecutive', make_const('Thursday'), make_const('Friday')))\n",
    "    add_statement(sports_kb, make_atom('Consecutive', make_const('Friday'), make_const('Saturday')))\n",
    "    add_statement(sports_kb, make_atom('Consecutive', make_const('Saturday'), make_const('Sunday')))\n",
    "    # Predicate 'Weekend'\n",
    "    add_statement(sports_kb, make_atom('Weekend', make_const('Saturday')))\n",
    "    add_statement(sports_kb, make_atom('Weekend', make_const('Sunday')))\n",
    "    # Predicate 'Rain'\n",
    "    add_statement(sports_kb, make_atom('Rain', make_const('Friday')))\n",
    "    # TODO 2.1: If it rained two days in a row, the third day will be sunny.\n",
    "    add_statement(sports_kb, make_or(make_neg(make_atom('Rain', make_var('x'))),\\\n",
    "                                     make_neg(make_atom('Rain', make_var('y'))),\\\n",
    "                                     make_neg(make_atom('Consecutive', make_var('x'), make_var('y'))),\\\n",
    "                                     make_neg(make_atom('Consecutive', make_var('y'), make_var('z'))),\\\n",
    "                                     make_atom('Sunny', make_var('z'))))\n",
    "    # Predicate 'Sunny'\n",
    "    add_statement(sports_kb, make_atom('Sunny', make_const('Monday')))\n",
    "    add_statement(sports_kb, make_atom('Sunny', make_const('Tuesday')))\n",
    "    add_statement(sports_kb, make_atom('Sunny', make_const('Wednesday')))\n",
    "    # TODO 2.2: If it was sunny three days in a row, it will rain on the fourth day.\n",
    "    add_statement(sports_kb, make_or(make_neg(make_atom('Sunny', make_var('x'))),\\\n",
    "                                     make_neg(make_atom('Sunny', make_var('y'))),\\\n",
    "                                     make_neg(make_atom('Sunny', make_var('z'))),\\\n",
    "                                     make_neg(make_atom('Consecutive', make_var('x'), make_var('y'))),\\\n",
    "                                     make_neg(make_atom('Consecutive', make_var('y'), make_var('z'))),\\\n",
    "                                     make_neg(make_atom('Consecutive', make_var('z'), make_var('n'))),\\\n",
    "                                     make_atom('Rain', make_var('n'))))\n",
    "    # Predicate 'Student'\n",
    "    add_statement(sports_kb, make_atom('Student', make_const('Mary')))\n",
    "    add_statement(sports_kb, make_atom('Student', make_const('Kevin')))\n",
    "    # GoesToMountain (who, when)\n",
    "    # TODO 2.3: A student always goes to the mountains if it is sunny on a weekend day.\n",
    "    add_statement(sports_kb, make_or(make_neg(make_atom('Student', make_var('who'))),\\\n",
    "                                     make_neg(make_atom('Sunny', make_var('day'))),\\\n",
    "                                     make_neg(make_atom('Weekend', make_var('day'))),\\\n",
    "                                     make_atom('GoesToMountain', make_var('who'), make_var('day'))))\n",
    "    # Predicate 'SummerSport'\n",
    "    add_statement(sports_kb, make_atom('SummerSport', make_const('Volleyball')))\n",
    "    # Predicate 'WinterSport'\n",
    "    add_statement(sports_kb, make_atom('WinterSport', make_const('Skiing')))\n",
    "    add_statement(sports_kb, make_atom('WinterSport', make_const('Sledgging')))\n",
    "    # Predicate 'PractiseSport'\n",
    "    add_statement(sports_kb, make_atom('PractiseSport', make_const('Kevin'), make_const('Skiing')))\n",
    "    add_statement(sports_kb, make_atom('PractiseSport', make_const('Kevin'), make_const('Sledgging')))\n",
    "    add_statement(sports_kb, make_atom('PractiseSport', make_const('Mary'), make_const('Skiing')))\n",
    "    add_statement(sports_kb, make_atom('PractiseSport', make_const('Mary'), make_const('Volleyball')))\n",
    "    # Predicate 'Activity'\n",
    "    add_statement(sports_kb, make_atom('Activity', make_var('who'), make_var('what'), make_var('when')),\n",
    "                  make_atom('GoesToMountain', make_var('who'), make_var('when')),\n",
    "                  make_atom('PractiseSport', make_var('who'), make_var('what'))\n",
    "                 )\n",
    "    make_unique_var_names(sports_kb)\n",
    "    return sports_kb\n",
    "\n",
    "\n",
    "print(\"This is how the knowledge base is presented:\")\n",
    "skb = get_sports_kb()\n",
    "print_KB(skb)\n",
    "print(\"==================== \\n Inside the KB we can notice:\")\n",
    "print(\"\" + \"\".join([(str(s) + \"\\n\") for s in skb]))"
   ]
  },
  {
   "cell_type": "markdown",
   "metadata": {
    "id": "RIgcI1b2415v"
   },
   "source": [
    "## Auxiliary functions\n",
    "\n",
    "### Task 3\n",
    "\n",
    "Implement the functions `get_premises`,` get_conclusion`, `is_fact` and` is_rule`. All of these receive a `definite clause` \n",
    "(in the given knowledge base, it can be a single atom or a disjunction of literals) and return what their name specifies."
   ]
  },
  {
   "cell_type": "code",
   "execution_count": 31,
   "metadata": {
    "id": "UTeOG8lo415v",
    "outputId": "812daad2-8f4b-47d6-936d-074d490755f7"
   },
   "outputs": [
    {
     "name": "stdout",
     "output_type": "stream",
     "text": [
      "P(?x) ; Q(?x)\n",
      "R(?x)\n",
      "True\n",
      "True\n"
     ]
    }
   ],
   "source": [
    "def get_premises(formula):\n",
    "    # TODO\n",
    "    premises = []\n",
    "    for arg in get_args(formula):\n",
    "        if is_negative_literal(arg):\n",
    "            premises.append(get_args(arg)[0])\n",
    "    return premises\n",
    "\n",
    "def get_conclusion(formula):\n",
    "    # TODO\n",
    "    for arg in get_args(formula):\n",
    "        if is_positive_literal(arg):\n",
    "            return arg\n",
    "    return None\n",
    "\n",
    "def is_fact(formula):\n",
    "    # TODO\n",
    "    if len(get_args(formula)) == 1 and not is_negative_literal(get_args(formula)[0]):\n",
    "        return True\n",
    "    return False\n",
    "\n",
    "def is_rule(formula):\n",
    "    # TODO\n",
    "    for arg in get_args(formula):\n",
    "        if is_negative_literal(arg):\n",
    "            return True\n",
    "    return False\n",
    "\n",
    "# Test!\n",
    "# formula: P(x) ^ Q(x) -> R(x)\n",
    "f = make_or(make_neg(make_atom(\"P\", make_var(\"x\"))), make_neg(make_atom(\"Q\", make_var(\"x\"))), make_atom(\"R\", make_var(\"x\")))\n",
    "print(\"\".join([(print_formula(p, True) + \" ; \") for p in get_premises(f)])[:-3]) # Should be P(?x) ; Q(?x)\n",
    "print_formula(get_conclusion(f)) # Should be R(?x)\n",
    "print(is_rule(f)) # must be True\n",
    "print(is_fact(get_conclusion(f))) # must be True"
   ]
  },
  {
   "cell_type": "markdown",
   "metadata": {
    "id": "bloSc4g9415v"
   },
   "source": [
    "**_Expected Output:_**\n",
    "\n",
    "```\n",
    "P(?x) ; Q(?x)\n",
    "R(?x)\n",
    "True\n",
    "True\n",
    "```"
   ]
  },
  {
   "cell_type": "code",
   "execution_count": 32,
   "metadata": {
    "id": "PpOGHEPM415v"
   },
   "outputs": [],
   "source": [
    "def equal_terms(t1, t2):\n",
    "    if is_constant(t1) and is_constant(t2):\n",
    "        return get_value(t1) == get_value(t2)\n",
    "    if is_variable(t1) and is_variable(t2):\n",
    "            return get_name(t1) == get_name(t2)\n",
    "    if is_function_call(t1) and is_function(t2):\n",
    "        if get_head(t1) != get_head(t2):\n",
    "            return all([equal_terms(get_args(t1)[i], get_args(t2)[i]) for i in range(len(get_args(t1)))])\n",
    "    return False\n",
    "\n",
    "def is_equal_to(a1, a2):\n",
    "    # We check atoms with the same predicate name and the same number of arguments\n",
    "    if not (is_atom(a1) and is_atom(a2) and get_head(a1) == get_head(a2) and len(get_args(a1)) == len(get_args(a2))):\n",
    "        return False\n",
    "    return all([equal_terms(get_args(a1)[i], get_args(a2)[i]) for i in range(len(get_args(a1)))])"
   ]
  },
  {
   "cell_type": "markdown",
   "metadata": {
    "id": "QjgVk9hv415v"
   },
   "source": [
    "## Prove theorems by forward chaining\n",
    "\n",
    "### Task 4\n",
    "\n",
    "Implement the `apply_rule (rule, facts)` function which receives a rule and a set of facts and returns all the facts that can be determined by applying the rule to the given facts.\n",
    "\n",
    "Use `unify`,` substitute`, but also `get_premises` and` get_conclusion` implemented earlier."
   ]
  },
  {
   "cell_type": "code",
   "execution_count": 41,
   "metadata": {
    "id": "V15fZ0Eb415v"
   },
   "outputs": [
    {
     "name": "stdout",
     "output_type": "stream",
     "text": [
      "Q(1)\n",
      "=====\n",
      "R(2)\n",
      "R(3)\n",
      "=====\n",
      "T(3, 2)\n"
     ]
    }
   ],
   "source": [
    "from copy import deepcopy\n",
    "# from __future__ import print_function\n",
    "\n",
    "def apply_rule(rule, facts):\n",
    "    #TO DO\n",
    "    \n",
    "    resulting_facts = []\n",
    "    premises = get_premises(rule)\n",
    "    #print(\"Premises \", premises)\n",
    "    conclusion = get_conclusion(rule)\n",
    "    substitutions = []\n",
    "    new_facts = []\n",
    "    \n",
    "    for premise in premises:\n",
    "        #print(\"Premise \", premise)\n",
    "        new_substitutions = []\n",
    "        for fact in facts:\n",
    "            res = unify(premise, fact)\n",
    "            if res:\n",
    "                check = True\n",
    "                for key in res:\n",
    "                    for subst in substitutions:\n",
    "                        if key in subst.keys():\n",
    "                            #print(\"In1\")\n",
    "                            check = False\n",
    "                for key in res:\n",
    "                    for subst in substitutions:\n",
    "                        if key in subst.keys() and res[key]==subst[key]:\n",
    "                            check = True\n",
    "                if check:\n",
    "                    new_substitutions.append(res)\n",
    "        #print(\"New substitutions \", new_substitutions)\n",
    "        for subst in substitutions:\n",
    "            check = False\n",
    "            for key in subst:\n",
    "                #print(key)\n",
    "                for new_subst in new_substitutions:\n",
    "                    #print(\"new subst\", new_subst)\n",
    "                    if key in new_subst.keys():\n",
    "                        #print(\"In\")\n",
    "                        check = True\n",
    "            if check and subst not in new_substitutions:\n",
    "                substitutions.remove(subst)\n",
    "        for new_subst in new_substitutions:\n",
    "            if new_subst not in substitutions:\n",
    "                substitutions.append(new_subst)\n",
    "        #print(\"Substitutions \", substitutions)\n",
    "                \n",
    "    for subst in substitutions:\n",
    "        new_facts.append(substitute(conclusion, subst))\n",
    "    #print(new_facts)\n",
    "        \n",
    "    for nf in new_facts:\n",
    "        keep = True\n",
    "        args = get_args(nf)\n",
    "        for arg in args:\n",
    "            if not is_constant(arg):\n",
    "                keep = False\n",
    "        if keep:\n",
    "            resulting_facts.append(nf)\n",
    "            \n",
    "    return resulting_facts\n",
    "\n",
    "# Test!\n",
    "# Rule: P(x) => Q(x)\n",
    "# Facts: P(1)\n",
    "for f in apply_rule( \n",
    "        make_or(make_neg(make_atom(\"P\", make_var(\"x\"))), make_atom(\"Q\", make_var(\"x\"))), \\\n",
    "        [make_atom(\"P\", make_const(1))]):\n",
    "    print_formula(f) # should be Q(1)\n",
    "print(\"=====\")\n",
    "# Rule: P(x) ^ Q(x) => R(x)\n",
    "# Facts: P(1), P(2), P(3), Q(3), Q(2)\n",
    "for f in apply_rule( \n",
    "        make_or(\n",
    "            make_neg(make_atom(\"P\", make_var(\"x\"))),\n",
    "            make_neg(make_atom(\"Q\", make_var(\"x\"))),\n",
    "            make_atom(\"R\", make_var(\"x\"))),\n",
    "        [make_atom(\"P\", make_const(x)) for x in [1, 2, 3]] + \\\n",
    "        [make_atom(\"Q\", make_const(x)) for x in [3, 2]]):\n",
    "    print_formula(f) # should be R(2) and R(3)\n",
    "print(\"=====\")\n",
    "# Rule: P(x) ^ Q(y) ^ R(x, y) => T(x, y)\n",
    "# Facts: P(1), P(2), P(3), Q(3), Q(2), R(3, 2)\n",
    "for f in apply_rule( \n",
    "        make_or(\n",
    "            make_neg(make_atom(\"P\", make_var(\"x\"))),\n",
    "            make_neg(make_atom(\"Q\", make_var(\"y\"))),\n",
    "            make_neg(make_atom(\"R\", make_var(\"x\"), make_var(\"y\"))),\n",
    "            make_atom(\"T\", make_var(\"x\"), make_var(\"y\"))),\n",
    "        [make_atom(\"P\", make_const(x)) for x in [1, 2, 3]] + \\\n",
    "        [make_atom(\"Q\", make_const(x)) for x in [3, 2]] + \\\n",
    "        [make_atom(\"R\", make_const(3), make_const(2))]):\n",
    "    print_formula(f) # should be T(3, 2)"
   ]
  },
  {
   "cell_type": "markdown",
   "metadata": {
    "id": "vtgzP-RD415v"
   },
   "source": [
    "**_Expected Output:_**\n",
    "\n",
    "```\n",
    "Q(1)\n",
    "=====\n",
    "R(2)\n",
    "R(3)\n",
    "=====\n",
    "T(3, 2)\n",
    "```"
   ]
  },
  {
   "cell_type": "code",
   "execution_count": 42,
   "metadata": {
    "id": "r6Qf0k_l415v"
   },
   "outputs": [],
   "source": [
    "def forward_chaining(kb, theorem, verbose = True):\n",
    "    # We save the original database, we work with a copy\n",
    "    local_kb = deepcopy(kb)\n",
    "    # Two variables that describe the search status\n",
    "    got_new_facts = True   # new facts were found in the last search\n",
    "    is_proved = False      # the theorem has been proved\n",
    "    # We check if the theorem is already proved\n",
    "    for fact in filter(is_fact, local_kb):\n",
    "        if unify(fact, theorem):\n",
    "            if verbose: print(\"This already in KB: \" + print_formula(fact, True))\n",
    "            is_proved = True\n",
    "            break\n",
    "    while (not is_proved) and got_new_facts:\n",
    "        got_new_facts = False\n",
    "        for rule in filter(is_rule, local_kb):\n",
    "            # For each rule:\n",
    "            new_facts = apply_rule(rule, list(filter(is_fact, local_kb)))\n",
    "            new_facts = list(filter(lambda fact: not any(list(filter(lambda orig: is_equal_to(fact, orig), local_kb))), new_facts))\n",
    "            if new_facts:\n",
    "                if verbose: print(\"Applied rule: \" + print_formula(rule, True))\n",
    "                got_new_facts = True\n",
    "                for fact in new_facts:\n",
    "                    #if verbose: print(\"New fact: \" + print_formula(fact, True))\n",
    "                    if unify(fact, theorem) != False:\n",
    "                        is_proved = True\n",
    "                        add_statement(local_kb, fact)\n",
    "                        if verbose: print(\"Now in KB: \" + print_formula(fact, True))\n",
    "                        break\n",
    "                    add_statement(local_kb, fact)\n",
    "            if is_proved:\n",
    "                break\n",
    "    if verbose:\n",
    "        if is_proved:\n",
    "            print(\"The theorem is TRUE!\")\n",
    "        else:\n",
    "            print(\"The theorem is FALSE!\")\n",
    "    return is_proved"
   ]
  },
  {
   "cell_type": "code",
   "execution_count": 43,
   "metadata": {
    "id": "vQei1Jni415v"
   },
   "outputs": [
    {
     "name": "stdout",
     "output_type": "stream",
     "text": [
      "This already in KB: Sunny(Monday)\n",
      "The theorem is TRUE!\n",
      "Test 0 OK!\n",
      "================== \n",
      "This already in KB: Rain(Friday)\n",
      "The theorem is TRUE!\n",
      "Test 1 OK!\n",
      "================== \n",
      "The theorem is FALSE!\n",
      "Test FAILED!\n",
      "================== \n",
      "The theorem is FALSE!\n",
      "Test FAILED!\n",
      "================== \n",
      "The theorem is FALSE!\n",
      "Test FAILED!\n",
      "================== \n"
     ]
    }
   ],
   "source": [
    "def test_result(result, truth, idx):\n",
    "    print(\"Test \" + str(idx) + \" OK!\" if result == truth else \"Test FAILED!\")\n",
    "    print(\"================== \")\n",
    "\n",
    "test_result(forward_chaining(deepcopy(skb), make_atom(\"Sunny\", make_var(\"x\")), True), True, 0)\n",
    "test_result(forward_chaining(deepcopy(skb), make_atom(\"Rain\", make_var(\"x\")), True), True, 1)\n",
    "test_result(forward_chaining(deepcopy(skb), make_atom(\"Rain\", make_const(\"Thursday\")), True), True, 2)\n",
    "test_result(forward_chaining(deepcopy(skb), make_atom(\"Sunny\", make_const(\"Saturday\")), True), True, 3)\n",
    "test_result(forward_chaining(deepcopy(skb), make_atom(\"Activity\",\n",
    "                        make_const(\"Kevin\"), make_var(\"Sport\"), make_const(\"Saturday\")), True), True, 4)"
   ]
  },
  {
   "cell_type": "markdown",
   "metadata": {},
   "source": [
    "# Feedback\n",
    "\n",
    "Hi!\n",
    "\n",
    "I got Task 4 to work, but most of the tests are failed and I don't know why :/\n",
    "Do you have any idea on what I should change?\n",
    "\n",
    "See you in class! :)\n",
    "\n",
    "Irina"
   ]
  }
 ],
 "metadata": {
  "colab": {
   "collapsed_sections": [],
   "name": "Lab9_AI.ipynb",
   "provenance": []
  },
  "kernelspec": {
   "display_name": "Python 3",
   "language": "python",
   "name": "python3"
  },
  "language_info": {
   "codemirror_mode": {
    "name": "ipython",
    "version": 3
   },
   "file_extension": ".py",
   "mimetype": "text/x-python",
   "name": "python",
   "nbconvert_exporter": "python",
   "pygments_lexer": "ipython3",
   "version": "3.8.3"
  }
 },
 "nbformat": 4,
 "nbformat_minor": 1
}
