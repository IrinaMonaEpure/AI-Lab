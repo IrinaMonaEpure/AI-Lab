{
 "cells": [
  {
   "cell_type": "markdown",
   "metadata": {
    "id": "0Y435U2gHFou"
   },
   "source": [
    "# Artificial Intelligence - Fall 2020 - Laboratory 06\n",
    "\n",
    "## _Searching algorithms for optimal decision-making in game theory and AI_\n",
    "\n",
    "c: Alexandra Dobrescu <alexandramaria.digital@gmail.com>"
   ]
  },
  {
   "cell_type": "markdown",
   "metadata": {
    "id": "LSIproEOHFox"
   },
   "source": [
    "## Introduction\n",
    "\n",
    "In gaming tehory, the _decision-making process_ relies on the searching algorithm guiding the investigation of the search-space.\n",
    "\n",
    "Today's challenge sets the **MinMax Algorithm** as the main character of a  two-player game.\n",
    "\n",
    "Using tic-tac-toe as an example, the algorithm should compute the next best move by evaluating the utility of the board."
   ]
  },
  {
   "cell_type": "markdown",
   "metadata": {
    "id": "x254sN9iHFoz"
   },
   "source": [
    "## From definitions to know-how"
   ]
  },
  {
   "cell_type": "code",
   "execution_count": 2,
   "metadata": {
    "id": "HYegED8VHFo1"
   },
   "outputs": [],
   "source": [
    "# Useful libraries:\n",
    "from collections import defaultdict\n",
    "import random\n",
    "import math\n",
    "import functools "
   ]
  },
  {
   "cell_type": "markdown",
   "metadata": {
    "id": "Trb_8jqQHFo-"
   },
   "source": [
    "The mathematical representation of the problem gets an intuitive design `class Board` holding the legal states and possible moves for the allowed positions.\n",
    "\n",
    "Pythonic speaking, `class Board` overrides the built-in subclass `defaultdict` from `class collections`.\n",
    "\n",
    "To manage the empty fields or to assign the corresponding values for each position, the method `__missing__` from `defaultdict`\n",
    "represents a better alternative than using a traditional dictionary.\n",
    "\n",
    "The structure of the board is:\n",
    "`{(coordinates_as_tuple) : attributes}`\n",
    "\n",
    "Where the attributes element might be:\n",
    "* the player which assigns X or O on the board;\n",
    "* the dimensions of the board, given by width and height;\n",
    "* keywords arguments to store the **utility value** meaning the evaluation function for this problem."
   ]
  },
  {
   "cell_type": "markdown",
   "metadata": {
    "id": "OG9nodJMHFpA"
   },
   "source": [
    "### Task 0\n",
    "\n",
    "Build the `class Board`."
   ]
  },
  {
   "cell_type": "code",
   "execution_count": 3,
   "metadata": {
    "id": "s2_TQLz1HFpB"
   },
   "outputs": [],
   "source": [
    "class Board(defaultdict):\n",
    "    empty = '.'\n",
    "    used = '#'\n",
    "    \n",
    "    def __init__(self, width=3, height=3, current_player=None, **kwds):\n",
    "        self.__dict__.update(width=width, height=height, current_player=current_player, **kwds)\n",
    " \n",
    "    def __missing__(self, pos):\n",
    "        \"\"\"\n",
    "        Given the position of a cell, verify if its coordinates are within the\n",
    "        boundaries of the board and mark the cell as an empty square.\n",
    "        Otherwise, the cell will be marked as `used`.\n",
    "        \"\"\"\n",
    "        # TO DO\n",
    "        (x,y) = pos\n",
    "        if x>=0 and x<width and y>=0 and y<height:\n",
    "            return self.empty\n",
    "        else:\n",
    "            return self.used\n",
    "            \n",
    "    def __hash__(self): \n",
    "        \"\"\"\n",
    "        Hash method stores the instances in hash tables.\n",
    "        \"\"\"\n",
    "        return hash(tuple(sorted(self.items()))) + hash(self.current_player)\n",
    "    \n",
    "    def __repr__(self):\n",
    "        def row(y): \n",
    "            return ' '.join(self[x, y] for x in range(self.width))\n",
    "        return '\\n'.join(map(row, range(self.height))) +  '\\n'\n",
    "    \n",
    "    def update_board(self, changes: dict, **kwds) -> 'Board':\n",
    "        \"\"\"\n",
    "        Update the board with the new changes of each cell.\n",
    "        \"\"\"\n",
    "        \n",
    "        # TO DO\n",
    "        \n",
    "        board.__dict__.update(self)\n",
    "        board.__dict__.update(changes)\n",
    "        \n",
    "        return board"
   ]
  },
  {
   "cell_type": "markdown",
   "metadata": {
    "id": "ORg7E4NcHFpI"
   },
   "source": [
    "For this problem the utility value can be:\n",
    "\n",
    "* _-1_ if player that seeks minimum wins;\n",
    "* _0_ if it's a tie;\n",
    "* _1_ if player that seeks maximum wins.\n",
    "\n",
    "The abstract `class TicTacToe` receives a 3X3 board, where a game ends if there:\n",
    "\n",
    "* is a vertical win or,\n",
    "* is a main diagonal win or,\n",
    "* is a second diagonal win or,\n",
    "* is a horizontal win,\n",
    "* are no empty squares. \n",
    "\n",
    "The parameter k is responsible for counting the number of similar symbols (_X_ or _O_) are in a row."
   ]
  },
  {
   "cell_type": "markdown",
   "metadata": {
    "id": "kQSJTfLCHFpS"
   },
   "source": [
    "### Task 1\n",
    "\n",
    "Find the number of _X_ or _O_ placed in a row."
   ]
  },
  {
   "cell_type": "code",
   "execution_count": 3,
   "metadata": {
    "id": "WAjRD0InHFpT"
   },
   "outputs": [],
   "source": [
    "def k_in_row(board, player, square, k):\n",
    "    \"\"\"\n",
    "    Helper function to count if the player has similar symbols in a line.\n",
    "    The player variable represents the player we are counting for (X or O in this case).\n",
    "    The square variable can be used to only check lines that contain a specific position.\n",
    "    You can choose to remove the \"square\" parameter from the function definition.\n",
    "    \"\"\"\n",
    "    \n",
    "    # TO DO\n",
    "    (x,y) = square\n",
    "    no = 0\n",
    "    row = row_check(board,x,k)\n",
    "    rnum = count(row,player)\n",
    "    if rnum>no:\n",
    "        no = rnum\n",
    "    col = col_check(board,y,k)\n",
    "    cnum = count(col,player)\n",
    "    if cnum>no:\n",
    "        no = cnum\n",
    "    diag1 = diag_check1(board,square,k)\n",
    "    dnum1 = count(diag1,player)\n",
    "    if dnum1>no:\n",
    "        no = dnum1\n",
    "    diag2 = diag_check2(board,square,k)\n",
    "    dnum2 = count(diag2,player)\n",
    "    if dnum2>no:\n",
    "        no = dnum2\n",
    "    return no\n",
    "\n",
    "def row_check(board, x, k):\n",
    "    row = []\n",
    "    for i in range(k):\n",
    "        val = board[(x,i)]\n",
    "        row.append(val)\n",
    "    return row\n",
    "    \n",
    "def col_check(board, y, k):\n",
    "    col = []\n",
    "    for i in range(k):\n",
    "        val = board[(i,y)]\n",
    "        col.append(val)\n",
    "    return col\n",
    "\n",
    "def diag_check1(board, square, k):\n",
    "    diag1 = []\n",
    "    for i in range(k), j in range(k):\n",
    "        val = board[(i,j)]\n",
    "        diag1.append(val)\n",
    "    return diag1\n",
    "    \n",
    "def diag_check2(board, square, k):\n",
    "    diag2 = []\n",
    "    for i in range(k),j in range(k):\n",
    "        val = board[(i,k-j)]\n",
    "        diag2.append(val)\n",
    "    return diag2\n",
    "\n",
    "def count(l, player):\n",
    "    num = 0\n",
    "    for i in player:\n",
    "        if i==player:\n",
    "            num += 1\n",
    "    return num"
   ]
  },
  {
   "cell_type": "markdown",
   "metadata": {
    "id": "jBKAiHAkHFpJ"
   },
   "source": [
    "### Task 2\n",
    "\n",
    "Build the `class TicTacToe`:"
   ]
  },
  {
   "cell_type": "code",
   "execution_count": 4,
   "metadata": {
    "id": "fhzT-HFtHFpL"
   },
   "outputs": [],
   "source": [
    "class TicTacToe:\n",
    "    \n",
    "    def __init__(self, height=3, width=3, k=3):\n",
    "        self.k = k # TO DO\n",
    "        self.squares = {(x,y) for x in range(width) for y in range(height)}\n",
    "        \"\"\"\n",
    "        The set of all points within the board.\n",
    "        A set has a similar structure to a dictionary and\n",
    "        contains only the keys.\n",
    "        \"\"\"\n",
    "        self.initial = Board(height=height, width=width, current_player='X', utility=0)\n",
    "        # The board where X plays first, and the utility value is 0.\n",
    " \n",
    "    def actions(self, board):\n",
    "        \"\"\"\n",
    "        Define the possible moves for the allowed positions.\n",
    "        Hint: Remember that you have all the positions on the board in self.squares and\n",
    "        all the occupied positions can be obtained from the board parameter. Set operations\n",
    "        are easily handled by python.\n",
    "        \"\"\"\n",
    "        allowed = []\n",
    "        for pos in self.squares:\n",
    "            if board.__missing__(pos)==board.empty and not(pos in board):\n",
    "                b = Board()\n",
    "        return allowed # TO DO\n",
    "\n",
    "    def utility(self, board, player):\n",
    "        \"\"\"\n",
    "        Compute the utility value for each player. Recall: \n",
    "            -1  - win\n",
    "             0  - a tie\n",
    "             1  - loss\n",
    "        \"\"\"\n",
    "        if player=='X':\n",
    "            num = 0\n",
    "            for pos in self.squares:\n",
    "                a = k_in_row(board,player,pos,3)\n",
    "                if a > num:\n",
    "                    num = a\n",
    "            if num==3:\n",
    "                board.utility = 1\n",
    "                return 1\n",
    "            else:\n",
    "                board.utility = 0\n",
    "                return 0\n",
    "        if player=='0':\n",
    "            num = 0\n",
    "            for pos in self.squares:\n",
    "                if a > num:\n",
    "                    num = a\n",
    "            if num==3:\n",
    "                board.utility = -1\n",
    "                return -1\n",
    "            else:\n",
    "                board.utility = 0\n",
    "                return 0\n",
    "\n",
    "    def make_move(self, board, square):\n",
    "        \"\"\"\n",
    "        Update the board in case the current player (board.current_player) places their symbol in the given square. \n",
    "        Afterwards, update the board's utility function with the corresponding symbol for each player.\n",
    "        \"\"\"\n",
    "        player = board.current_player\n",
    "        return board\n",
    "    \n",
    "    def end(self, board):\n",
    "        \"\"\"\n",
    "        Checks if the game came to an end (we have an utility value for the board or there is a draw).\n",
    "        \"\"\"\n",
    "        numpos = len(actions(board))\n",
    "        val = utility(board, board.current_player)\n",
    "        if numpos == 0 or val == 1 or val == -1:\n",
    "            return True\n",
    "        else:\n",
    "            return False\n",
    " \n",
    "    def draw_board(self, board):\n",
    "        print(board)"
   ]
  },
  {
   "cell_type": "code",
   "execution_count": 5,
   "metadata": {
    "id": "9rHMCuK6HFpw"
   },
   "outputs": [],
   "source": [
    "def random_player(game, state):\n",
    "    \"\"\"\n",
    "    We define a player that always uses random moves.\n",
    "    This will be the challenger for our algorithm.\n",
    "    \"\"\"\n",
    "    return random.choice(list(game.actions(state)))"
   ]
  },
  {
   "cell_type": "code",
   "execution_count": 6,
   "metadata": {
    "id": "hB10fKbVHFpq"
   },
   "outputs": [],
   "source": [
    "def player(search_algorithm):\n",
    "    \"\"\"\n",
    "    We define a general player that uses a strategy (search algorithm).\n",
    "    Given a search algorithm, the player uses the (game, state) values to return an optimal move.\n",
    "    The search_algorithm function will give us: utility_value, action_to_take.\n",
    "    We only return the chosen action.\n",
    "    \"\"\"\n",
    "    return lambda game, state: search_algorithm(game, state)[1]"
   ]
  },
  {
   "cell_type": "markdown",
   "metadata": {
    "id": "slYyr7t8HFpZ"
   },
   "source": [
    "### Task 3\n",
    "\n",
    "To define the actions of the problem, we use the `play_game` function receiving the current game to play and a strategy.\n",
    "The strategy itself reduces to a dictionary with the following structure:\n",
    "```\n",
    "{player_as_key : strategy_function}\n",
    "```\n",
    "where `strategy_function` can be called by: `strategy_function(state, game)`\n",
    "\n",
    "Example:\n",
    "```\n",
    "X: random_player -> random_player(state, game)\n",
    "O: player(minmax_search) -> minmax_search(game,state)[1] (returned by the above lambda expression)\n",
    "```\n",
    "\n",
    "The `strategy_function` returns the action for each round and the current state of each player."
   ]
  },
  {
   "cell_type": "code",
   "execution_count": 10,
   "metadata": {
    "id": "x1MYeB_aHFpb"
   },
   "outputs": [],
   "source": [
    "def play_game(game, strategies: dict): #game is a TicTacToe object\n",
    "    \n",
    "    # TO DO\n",
    "    state = game.initial\n",
    "    i = 0\n",
    "    while not(game.end(state)):\n",
    "        i += 1\n",
    "        apply = lambda game,state: strategies.items(i%len(strategies))\n",
    "    return state\n",
    "\n",
    "#def strategy_function(state, game): #state is also a TicTacToe object"
   ]
  },
  {
   "cell_type": "markdown",
   "metadata": {
    "id": "06WTByxMHFph"
   },
   "source": [
    "## Min-Max Algorithm\n",
    "\n",
    "### Task 4\n",
    "\n",
    "Build the search game tree to determine the best move using:\n",
    "\n",
    "* the `max_value(state)` function in which the AI's strategy is to _maximise_ its score while the opponent's score minimises;\n",
    "* the `min_value(state)` function in which the human's strategy is to _minimise_ AI's score."
   ]
  },
  {
   "cell_type": "code",
   "execution_count": 11,
   "metadata": {
    "id": "CPmxwBVoHFpk"
   },
   "outputs": [],
   "source": [
    "# Set a value worse than the worst case:\n",
    "infinity = math.inf\n",
    "\n",
    "def minimax_search(game, state):\n",
    "    player = state.current_player\n",
    "\n",
    "    def max_value(state):\n",
    "        \"\"\"\n",
    "        TO DO\n",
    "        \"\"\"\n",
    "        if game.end(state):\n",
    "            return game.utility(state,player), state\n",
    "        else:\n",
    "            value = 0\n",
    "            moves = game.actions(state)\n",
    "            for m in moves:\n",
    "                g = game.make_move(state,m)\n",
    "                (v,mo) = max_value(mo)\n",
    "                if value>=v:\n",
    "                    value = v\n",
    "                    move = mo\n",
    "        return value, move\n",
    "\n",
    "    def min_value(state):\n",
    "        \"\"\"\n",
    "        TO DO\n",
    "        \"\"\"\n",
    "        if game.end(state):\n",
    "            return game.utility(state,player), state\n",
    "        else:\n",
    "            value = infinity\n",
    "            moves = game.actions(state)\n",
    "            for m in moves:\n",
    "                g = game.make_move(state,m)\n",
    "                (v,mo) = min_value(mo)\n",
    "                if value<=v:\n",
    "                    value = v\n",
    "                    move = mo\n",
    "        return value, move\n",
    "\n",
    "    return max_value(state)"
   ]
  },
  {
   "cell_type": "markdown",
   "metadata": {
    "id": "qFzeCI7QHFp1"
   },
   "source": [
    "The output of the game should look like:"
   ]
  },
  {
   "cell_type": "code",
   "execution_count": 12,
   "metadata": {
    "id": "NBX3Y24SHFp2",
    "outputId": "341df910-35c4-4265-a70e-6ec7465d3226"
   },
   "outputs": [
    {
     "ename": "NameError",
     "evalue": "name 'actions' is not defined",
     "output_type": "error",
     "traceback": [
      "\u001b[1;31m---------------------------------------------------------------------------\u001b[0m",
      "\u001b[1;31mNameError\u001b[0m                                 Traceback (most recent call last)",
      "\u001b[1;32m<ipython-input-12-a71404db551c>\u001b[0m in \u001b[0;36m<module>\u001b[1;34m\u001b[0m\n\u001b[1;32m----> 1\u001b[1;33m \u001b[0mplay_game\u001b[0m\u001b[1;33m(\u001b[0m\u001b[0mTicTacToe\u001b[0m\u001b[1;33m(\u001b[0m\u001b[1;33m)\u001b[0m\u001b[1;33m,\u001b[0m \u001b[0mdict\u001b[0m\u001b[1;33m(\u001b[0m\u001b[0mX\u001b[0m\u001b[1;33m=\u001b[0m\u001b[0mrandom_player\u001b[0m\u001b[1;33m,\u001b[0m \u001b[0mO\u001b[0m\u001b[1;33m=\u001b[0m\u001b[0mplayer\u001b[0m\u001b[1;33m(\u001b[0m\u001b[0mminimax_search\u001b[0m\u001b[1;33m)\u001b[0m\u001b[1;33m)\u001b[0m\u001b[1;33m)\u001b[0m\u001b[1;33m.\u001b[0m\u001b[0mutility\u001b[0m\u001b[1;33m\u001b[0m\u001b[1;33m\u001b[0m\u001b[0m\n\u001b[0m",
      "\u001b[1;32m<ipython-input-10-5be87f62bfc8>\u001b[0m in \u001b[0;36mplay_game\u001b[1;34m(game, strategies)\u001b[0m\n\u001b[0;32m      4\u001b[0m     \u001b[0mstate\u001b[0m \u001b[1;33m=\u001b[0m \u001b[0mgame\u001b[0m\u001b[1;33m.\u001b[0m\u001b[0minitial\u001b[0m\u001b[1;33m\u001b[0m\u001b[1;33m\u001b[0m\u001b[0m\n\u001b[0;32m      5\u001b[0m     \u001b[0mi\u001b[0m \u001b[1;33m=\u001b[0m \u001b[1;36m0\u001b[0m\u001b[1;33m\u001b[0m\u001b[1;33m\u001b[0m\u001b[0m\n\u001b[1;32m----> 6\u001b[1;33m     \u001b[1;32mwhile\u001b[0m \u001b[1;32mnot\u001b[0m\u001b[1;33m(\u001b[0m\u001b[0mgame\u001b[0m\u001b[1;33m.\u001b[0m\u001b[0mend\u001b[0m\u001b[1;33m(\u001b[0m\u001b[0mstate\u001b[0m\u001b[1;33m)\u001b[0m\u001b[1;33m)\u001b[0m\u001b[1;33m:\u001b[0m\u001b[1;33m\u001b[0m\u001b[1;33m\u001b[0m\u001b[0m\n\u001b[0m\u001b[0;32m      7\u001b[0m         \u001b[0mi\u001b[0m \u001b[1;33m+=\u001b[0m \u001b[1;36m1\u001b[0m\u001b[1;33m\u001b[0m\u001b[1;33m\u001b[0m\u001b[0m\n\u001b[0;32m      8\u001b[0m         \u001b[0mapply\u001b[0m \u001b[1;33m=\u001b[0m \u001b[1;32mlambda\u001b[0m \u001b[0mgame\u001b[0m\u001b[1;33m,\u001b[0m\u001b[0mstate\u001b[0m\u001b[1;33m:\u001b[0m \u001b[0mstrategies\u001b[0m\u001b[1;33m.\u001b[0m\u001b[0mitems\u001b[0m\u001b[1;33m(\u001b[0m\u001b[0mi\u001b[0m\u001b[1;33m%\u001b[0m\u001b[0mlen\u001b[0m\u001b[1;33m(\u001b[0m\u001b[0mstrategies\u001b[0m\u001b[1;33m)\u001b[0m\u001b[1;33m)\u001b[0m\u001b[1;33m\u001b[0m\u001b[1;33m\u001b[0m\u001b[0m\n",
      "\u001b[1;32m<ipython-input-4-b5ee69a566bd>\u001b[0m in \u001b[0;36mend\u001b[1;34m(self, board)\u001b[0m\n\u001b[0;32m     68\u001b[0m         \u001b[0mChecks\u001b[0m \u001b[1;32mif\u001b[0m \u001b[0mthe\u001b[0m \u001b[0mgame\u001b[0m \u001b[0mcame\u001b[0m \u001b[0mto\u001b[0m \u001b[0man\u001b[0m \u001b[0mend\u001b[0m \u001b[1;33m(\u001b[0m\u001b[0mwe\u001b[0m \u001b[0mhave\u001b[0m \u001b[0man\u001b[0m \u001b[0mutility\u001b[0m \u001b[0mvalue\u001b[0m \u001b[1;32mfor\u001b[0m \u001b[0mthe\u001b[0m \u001b[0mboard\u001b[0m \u001b[1;32mor\u001b[0m \u001b[0mthere\u001b[0m \u001b[1;32mis\u001b[0m \u001b[0ma\u001b[0m \u001b[0mdraw\u001b[0m\u001b[1;33m)\u001b[0m\u001b[1;33m.\u001b[0m\u001b[1;33m\u001b[0m\u001b[1;33m\u001b[0m\u001b[0m\n\u001b[0;32m     69\u001b[0m         \"\"\"\n\u001b[1;32m---> 70\u001b[1;33m         \u001b[0mnumpos\u001b[0m \u001b[1;33m=\u001b[0m \u001b[0mlen\u001b[0m\u001b[1;33m(\u001b[0m\u001b[0mactions\u001b[0m\u001b[1;33m(\u001b[0m\u001b[0mboard\u001b[0m\u001b[1;33m)\u001b[0m\u001b[1;33m)\u001b[0m\u001b[1;33m\u001b[0m\u001b[1;33m\u001b[0m\u001b[0m\n\u001b[0m\u001b[0;32m     71\u001b[0m         \u001b[0mval\u001b[0m \u001b[1;33m=\u001b[0m \u001b[0mutility\u001b[0m\u001b[1;33m(\u001b[0m\u001b[0mboard\u001b[0m\u001b[1;33m,\u001b[0m \u001b[0mboard\u001b[0m\u001b[1;33m.\u001b[0m\u001b[0mcurrent_player\u001b[0m\u001b[1;33m)\u001b[0m\u001b[1;33m\u001b[0m\u001b[1;33m\u001b[0m\u001b[0m\n\u001b[0;32m     72\u001b[0m         \u001b[1;32mif\u001b[0m \u001b[0mnumpos\u001b[0m \u001b[1;33m==\u001b[0m \u001b[1;36m0\u001b[0m \u001b[1;32mor\u001b[0m \u001b[0mval\u001b[0m \u001b[1;33m==\u001b[0m \u001b[1;36m1\u001b[0m \u001b[1;32mor\u001b[0m \u001b[0mval\u001b[0m \u001b[1;33m==\u001b[0m \u001b[1;33m-\u001b[0m\u001b[1;36m1\u001b[0m\u001b[1;33m:\u001b[0m\u001b[1;33m\u001b[0m\u001b[1;33m\u001b[0m\u001b[0m\n",
      "\u001b[1;31mNameError\u001b[0m: name 'actions' is not defined"
     ]
    }
   ],
   "source": [
    "play_game(TicTacToe(), dict(X=random_player, O=player(minimax_search))).utility"
   ]
  },
  {
   "cell_type": "markdown",
   "metadata": {},
   "source": [
    "Feedback:\n",
    "\n",
    "Hello! Thank you so much for your help during the lab. I really appreciate you helping us out more. My code doesn't run properly, but I tried to at least show my way of thinking. I would have spent more time on it, but I'm running out of time now. I think I had a hard time with it because I didn't really understand how to use class Board. Also, there was no way for me to check my functions and classes along the way to see if they work well or not. Could you please share your solution with us after the deadline? Or show it to us at the lab?\n",
    "Have a nice weekend!\n",
    "Irina"
   ]
  }
 ],
 "metadata": {
  "colab": {
   "collapsed_sections": [],
   "name": "Lab06_AI.ipynb",
   "provenance": []
  },
  "kernelspec": {
   "display_name": "Python 3",
   "language": "python",
   "name": "python3"
  },
  "language_info": {
   "codemirror_mode": {
    "name": "ipython",
    "version": 3
   },
   "file_extension": ".py",
   "mimetype": "text/x-python",
   "name": "python",
   "nbconvert_exporter": "python",
   "pygments_lexer": "ipython3",
   "version": "3.8.3"
  }
 },
 "nbformat": 4,
 "nbformat_minor": 1
}
