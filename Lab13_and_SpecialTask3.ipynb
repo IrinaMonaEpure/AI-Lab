{
 "cells": [
  {
   "cell_type": "markdown",
   "metadata": {},
   "source": [
    "## Special Task 13\n",
    "\n",
    "# Movie Recommender System for Groups of People\n",
    "\n",
    "Most movie streaming websites nowadays use recommender systems in order to cater to their user's needs. But what do you do when you want to watch a movie with your group of friends? It seems like an impossible task since such websites only take into account one user's personal preferences when trying to predict how much they'll like a certain movie. But I believe there is a solution to make streaming services more accomodating to group viewings.\n",
    "<br>\n",
    "<br>\n",
    "The algorithm K Nearest Neighbors is commonly used in order to predict a person's preferences based on previous activity, by using data provided by other users. A User-User collaborative filtering model based on K-NN could be improved to include preferences from multiple people when making a prediction for that whole group. \n",
    "<br>\n",
    "<br>\n",
    "Presuming each user has a dataset of ratings (from 1.0 to 5.0) for the movies they have watched, a good starting point would be to create a new dataset containing as ratings the averages of the ratings given by the group members. This could be obtained automatically if the respective streaming website offered to users a feature such as \"watch with friends\", which would allow a user to select the friends they are watching with (as long as they also have accounts on that website) in order to merge their datasets. Since it's very likely that there are movies that only a part of the group has watched, the average should be computed as follows:\n",
    "<br>\n",
    "average_rating = sum_of_ratings_from_group_members/number_of_group_members_that_have_watched_the_movie.\n",
    "<br>\n",
    "<br>\n",
    "Some additional changes could be made to improve the algorithm further. For example, movies for which any individual group member would normally have a very low predicted appreciation could be automatically eliminated from the list of suggestions for the group.\n",
    "<br>\n",
    "<br>\n",
    "Taking into consideration the popularity of online streaming services and the enjoyment that people get from watching movies and series together, I think this idea is a very potentially useful one.\n",
    "<br>\n",
    "<br>\n",
    "References:\n",
    "1. F. Maxwell Harper and Joseph A. Konstan. 2015. The MovieLens Datasets: History and Context. ACM Transactions on Interactive Intelligent Systems (TiiS) 5, 4: 19:1–19:19. https://doi.org/10.1145/2827872 <br>\n",
    "2. Nilashi, Mehrbakhsh & Bagherifard, Karamollah & Ibrahim, Assoc Prof. Dr. Othman & Alizadeh, Hamid & Lasisi, Ayodele & Roozegar, Nazanin. (2013). Collaborative Filtering Recommender Systems. Research Journal of Applied Sciences, Engineering and Technology. 5. 4168-4182. 10.19026/rjaset.5.4644. https://www.researchgate.net/publication/287952023"
   ]
  },
  {
   "cell_type": "code",
   "execution_count": 26,
   "metadata": {},
   "outputs": [],
   "source": [
    "#The purpose of this lab is to create a maze solver."
   ]
  },
  {
   "cell_type": "code",
   "execution_count": 27,
   "metadata": {},
   "outputs": [],
   "source": [
    "from PIL import Image, ImageDraw"
   ]
  },
  {
   "cell_type": "code",
   "execution_count": 28,
   "metadata": {},
   "outputs": [],
   "source": [
    "#We have the following data\n",
    "#A is the maze matrix where 0 are the path wich are avaible and 1 are the walls\n",
    "#Start is the start point of the player\n",
    "#End is the maze exit"
   ]
  },
  {
   "cell_type": "code",
   "execution_count": 29,
   "metadata": {},
   "outputs": [],
   "source": [
    "images = []\n",
    "\n",
    "a = [\n",
    "    [1, 1, 1, 1, 1, 1, 1, 1, 1, 1, 1, 1, 1, 1, 1, 1, 1, 1, 1, 1],\n",
    "    [1, 0, 1, 0, 0, 0, 0, 0, 0, 1, 0 ,0, 0, 0, 0, 0, 0, 0, 0, 1],\n",
    "    [1, 0, 1, 0, 1, 0, 0, 0, 0, 0, 0 ,0, 0, 1, 1, 1, 1, 0, 0, 1],\n",
    "    [1, 0, 1, 0, 1, 1, 1, 1, 0, 1, 0 ,0, 0, 0, 0, 0, 0, 0, 0, 1],\n",
    "    [1, 0, 1, 0, 1, 0, 0, 1, 0, 1, 1 ,0, 1, 1, 1, 0, 1, 1, 1, 1],\n",
    "    [1, 0, 1, 1, 1, 1, 1, 1, 0, 1, 0 ,0, 1, 0, 1, 0, 0, 0, 0, 0],\n",
    "    [1, 0, 0, 0, 0, 0, 0, 1, 0, 1, 0 ,0, 1, 0, 1, 1, 1, 1, 1, 1],\n",
    "    [1, 1, 1, 0, 0, 0, 0, 0, 0, 1, 0 ,0, 0, 0, 0, 1, 0, 0, 0, 1],\n",
    "    [1, 1, 1, 0, 0, 0, 0, 0, 0, 1, 0 ,0, 0, 1, 0, 0, 0, 0, 0, 1],\n",
    "    [1, 1, 1, 1, 1, 1, 1, 1, 1, 1, 1, 1, 1, 1, 1, 1, 1, 1, 1, 1],\n",
    "]\n",
    "zoom = 20\n",
    "borders = 6\n",
    "start = 1,1\n",
    "end = 5,19"
   ]
  },
  {
   "cell_type": "code",
   "execution_count": null,
   "metadata": {},
   "outputs": [],
   "source": [
    "#The print_m method will be used to print the matrix\n",
    "#The draw_matrix is used to generate the gif, generation a new image for every move"
   ]
  },
  {
   "cell_type": "code",
   "execution_count": 30,
   "metadata": {},
   "outputs": [],
   "source": [
    "def draw_matrix(a,m, the_path = []):\n",
    "    im = Image.new('RGB', (zoom * len(a[0]), zoom * len(a)), (255, 255, 255))\n",
    "    draw = ImageDraw.Draw(im)\n",
    "    for i in range(len(a)):\n",
    "        for j in range(len(a[i])):\n",
    "            color = (255, 255, 255)\n",
    "            r = 0\n",
    "            if a[i][j] == 1:\n",
    "                color = (0, 0, 0)\n",
    "            if i == start[0] and j == start[1]:\n",
    "                color = (0, 255, 0)\n",
    "                r = borders\n",
    "            if i == end[0] and j == end[1]:\n",
    "                color = (0, 255, 0)\n",
    "                r = borders\n",
    "            draw.rectangle((j*zoom+r, i*zoom+r, j*zoom+zoom-r-1, i*zoom+zoom-r-1), fill=color)\n",
    "            if m[i][j] > 0:\n",
    "                r = borders\n",
    "                draw.ellipse((j * zoom + r, i * zoom + r, j * zoom + zoom - r - 1, i * zoom + zoom - r - 1),fill=(255,0,0))\n",
    "    for u in range(len(the_path)-1):\n",
    "        y = the_path[u][0]*zoom + int(zoom/2)\n",
    "        x = the_path[u][1]*zoom + int(zoom/2)\n",
    "        y1 = the_path[u+1][0]*zoom + int(zoom/2)\n",
    "        x1 = the_path[u+1][1]*zoom + int(zoom/2)\n",
    "        draw.line((x,y,x1,y1), fill=(255, 0,0), width=5)\n",
    "    draw.rectangle((0, 0, zoom * len(a[0]), zoom * len(a)), outline=(0,255,0), width=2)\n",
    "    images.append(im)"
   ]
  },
  {
   "cell_type": "code",
   "execution_count": 31,
   "metadata": {},
   "outputs": [
    {
     "name": "stdout",
     "output_type": "stream",
     "text": [
      "[[0 0 0 0 0 0 0 0 0 0 0 0 0 0 0 0 0 0 0 0]\n",
      " [0 1 0 0 0 0 0 0 0 0 0 0 0 0 0 0 0 0 0 0]\n",
      " [0 0 0 0 0 0 0 0 0 0 0 0 0 0 0 0 0 0 0 0]\n",
      " [0 0 0 0 0 0 0 0 0 0 0 0 0 0 0 0 0 0 0 0]\n",
      " [0 0 0 0 0 0 0 0 0 0 0 0 0 0 0 0 0 0 0 0]\n",
      " [0 0 0 0 0 0 0 0 0 0 0 0 0 0 0 0 0 0 0 0]\n",
      " [0 0 0 0 0 0 0 0 0 0 0 0 0 0 0 0 0 0 0 0]\n",
      " [0 0 0 0 0 0 0 0 0 0 0 0 0 0 0 0 0 0 0 0]\n",
      " [0 0 0 0 0 0 0 0 0 0 0 0 0 0 0 0 0 0 0 0]\n",
      " [0 0 0 0 0 0 0 0 0 0 0 0 0 0 0 0 0 0 0 0]]\n"
     ]
    }
   ],
   "source": [
    "import numpy as np\n",
    "\n",
    "#Task 0\n",
    "#Fill the matrix with zeros and 1 on the start position\n",
    "#TODO\n",
    "m = []\n",
    "for i in range(len(a)):\n",
    "    m.append([])\n",
    "    for j in range(len(a[i])):\n",
    "        m[-1].append(0)\n",
    "i,j = start\n",
    "m[i][j] = 1\n",
    "print(np.matrix(m))"
   ]
  },
  {
   "cell_type": "code",
   "execution_count": 23,
   "metadata": {},
   "outputs": [],
   "source": [
    "#Now we have to implement the make_step function which is the core of the algorithm\n",
    "#The function get one parameter k which represent the current step\n",
    "#On every step we need to find the next valid move and mark that move with k + 1"
   ]
  },
  {
   "cell_type": "code",
   "execution_count": 32,
   "metadata": {},
   "outputs": [],
   "source": [
    "def make_step(k):\n",
    "    for i in range(len(m)):\n",
    "        for j in range(len(m[i])):\n",
    "              if m[i][j] == k:\n",
    "                    if i>0 and m[i-1][j] == 0 and a[i-1][j] == 0:\n",
    "                          m[i-1][j] = k + 1\n",
    "                    if j>0 and m[i][j-1] == 0 and a[i][j-1] == 0:\n",
    "                          m[i][j-1] = k + 1\n",
    "                    if i<len(m)-1 and m[i+1][j] == 0 and a[i+1][j] == 0:\n",
    "                          m[i+1][j] = k + 1\n",
    "                    if j<len(m[i])-1 and m[i][j+1] == 0 and a[i][j+1] == 0:\n",
    "                          m[i][j+1] = k + 1"
   ]
  },
  {
   "cell_type": "code",
   "execution_count": 33,
   "metadata": {},
   "outputs": [
    {
     "name": "stdout",
     "output_type": "stream",
     "text": [
      "0  0  0  0  0  0  0  0  0  0  0  0  0  0  0  0  0  0  0  0  \n",
      "0  1  0  25 24 23 22 21 20 0  22 23 24 25 26 27 28 29 30 0  \n",
      "0  2  0  26 0  22 21 20 19 20 21 22 23 0  0  0  0  30 31 0  \n",
      "0  3  0  27 0  0  0  0  18 0  22 23 24 25 26 27 28 29 30 0  \n",
      "0  4  0  28 0  0  0  0  17 0  0  24 0  0  0  28 0  0  0  0  \n",
      "0  5  0  0  0  0  0  0  16 0  26 25 0  31 0  29 30 31 32 33 \n",
      "0  6  7  8  9  10 11 0  15 0  27 26 0  30 0  0  0  0  0  0  \n",
      "0  0  0  9  10 11 12 13 14 0  28 27 28 29 30 0  0  0  0  0  \n",
      "0  0  0  10 11 12 13 14 15 0  29 28 29 0  31 32 33 0  0  0  \n",
      "0  0  0  0  0  0  0  0  0  0  0  0  0  0  0  0  0  0  0  0  \n",
      "[(5, 19), (5, 18), (5, 17), (5, 16), (5, 15), (4, 15), (3, 15), (3, 14), (3, 13), (3, 12), (2, 12), (2, 11), (2, 10), (2, 9), (2, 8), (3, 8), (4, 8), (5, 8), (6, 8), (7, 8), (7, 7), (7, 6), (6, 6), (6, 5), (6, 4), (6, 3), (6, 2), (6, 1), (5, 1), (4, 1), (3, 1), (2, 1), (1, 1)]\n"
     ]
    }
   ],
   "source": [
    "k = 0\n",
    "while m[end[0]][end[1]] == 0:\n",
    "    k += 1\n",
    "    make_step(k)\n",
    "    draw_matrix(a, m)\n",
    "\n",
    "\n",
    "i, j = end\n",
    "k = m[i][j]\n",
    "the_path = [(i,j)]\n",
    "while k > 1:\n",
    "    if i > 0 and m[i - 1][j] == k-1:\n",
    "        i, j = i-1, j\n",
    "        the_path.append((i, j))\n",
    "        k-=1\n",
    "    elif j > 0 and m[i][j - 1] == k-1:\n",
    "        i, j = i, j-1\n",
    "        the_path.append((i, j))\n",
    "        k-=1\n",
    "    elif i < len(m) - 1 and m[i + 1][j] == k-1:\n",
    "        i, j = i+1, j\n",
    "        the_path.append((i, j))\n",
    "        k-=1\n",
    "    elif j < len(m[i]) - 1 and m[i][j + 1] == k-1:\n",
    "        i, j = i, j+1\n",
    "        the_path.append((i, j))\n",
    "        k -= 1\n",
    "    draw_matrix(a, m, the_path)\n",
    "\n",
    "for i in range(10):\n",
    "    if i % 2 == 0:\n",
    "        draw_matrix(a, m, the_path)\n",
    "    else:\n",
    "        draw_matrix(a, m)\n",
    "\n",
    "print_m(m)\n",
    "print(the_path)"
   ]
  },
  {
   "cell_type": "code",
   "execution_count": null,
   "metadata": {},
   "outputs": [],
   "source": [
    "Expected result\n",
    "The matrix:\n",
    "0  0  0  0  0  0  0  0  0  0  0  0  0  0  0  0  0  0  0  0  \n",
    "0  1  0  25 24 23 22 21 20 0  22 23 24 25 26 27 28 29 30 0  \n",
    "0  2  0  26 0  22 21 20 19 20 21 22 23 0  0  0  0  30 31 0  \n",
    "0  3  0  27 0  0  0  0  18 0  22 23 24 25 26 27 28 29 30 0  \n",
    "0  4  0  28 0  0  0  0  17 0  0  24 0  0  0  28 0  0  0  0  \n",
    "0  5  0  0  0  0  0  0  16 0  26 25 0  31 0  29 30 31 32 33 \n",
    "0  6  7  8  9  10 11 0  15 0  27 26 0  30 0  0  0  0  0  0  \n",
    "0  0  0  9  10 11 12 13 14 0  28 27 28 29 30 0  0  0  0  0  \n",
    "0  0  0  10 11 12 13 14 15 0  29 28 29 0  31 32 33 0  0  0  \n",
    "0  0  0  0  0  0  0  0  0  0  0  0  0  0  0  0  0  0  0  0  \n",
    "\n",
    "The path\n",
    "[(5, 19), (5, 18), (5, 17), (5, 16), (5, 15), (4, 15), (3, 15), (3, 14), (3, 13), (3, 12), (2, 12), (2, 11), (2, 10), (2, 9), (2, 8), (3, 8), (4, 8), (5, 8), (6, 8), (7, 8), (7, 7), (7, 6), (6, 6), (6, 5), (6, 4), (6, 3), (6, 2), (6, 1), (5, 1), (4, 1), (3, 1), (2, 1), (1, 1)]"
   ]
  },
  {
   "cell_type": "code",
   "execution_count": null,
   "metadata": {},
   "outputs": [],
   "source": [
    "#For a visual representation of the algorithm we have the following code"
   ]
  },
  {
   "cell_type": "code",
   "execution_count": 34,
   "metadata": {},
   "outputs": [],
   "source": [
    "images[0].save('maze.gif',\n",
    "               save_all=True, append_images=images[1:],\n",
    "               optimize=False, duration=1, loop=0)"
   ]
  },
  {
   "cell_type": "code",
   "execution_count": 7,
   "metadata": {},
   "outputs": [
    {
     "name": "stderr",
     "output_type": "stream",
     "text": [
      "'[alt' is not recognized as an internal or external command,\n",
      "operable program or batch file.\n"
     ]
    }
   ],
   "source": [
    "#Expected result in the expectedMaze.gif file"
   ]
  },
  {
   "cell_type": "code",
   "execution_count": null,
   "metadata": {},
   "outputs": [],
   "source": []
  }
 ],
 "metadata": {
  "kernelspec": {
   "display_name": "Python 3",
   "language": "python",
   "name": "python3"
  },
  "language_info": {
   "codemirror_mode": {
    "name": "ipython",
    "version": 3
   },
   "file_extension": ".py",
   "mimetype": "text/x-python",
   "name": "python",
   "nbconvert_exporter": "python",
   "pygments_lexer": "ipython3",
   "version": "3.8.3"
  }
 },
 "nbformat": 4,
 "nbformat_minor": 2
}
