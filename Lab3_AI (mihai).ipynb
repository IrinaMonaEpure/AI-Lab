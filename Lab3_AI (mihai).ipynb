{
 "cells": [
  {
   "cell_type": "markdown",
   "metadata": {
    "id": "gVtTU731ugud"
   },
   "source": [
    "# Artificial Intelligence - Fall 2020 - Laboratory 03:Python Introduction part III\n",
    "\n",
    "c: Alexandra Dobrescu <alexandramaria.digital@gmail.com>"
   ]
  },
  {
   "cell_type": "markdown",
   "metadata": {
    "id": "18ICxssnuguh"
   },
   "source": [
    "## Classes\n",
    "\n",
    "The object-oriented programming paradigm in Python helps with structuring programs into `individual objects`. But how?\n",
    "\n",
    "* An Object **O** from a class **C** has a set of properties **_p_** and actions **_a_**.\n",
    "\n",
    "* The functions of a class are called `methods`. Their responsibility is to model the data corresponding to a given object.\n",
    "\n",
    "* The objects of a class are known as `instances` and represent the source of collecting data.\n",
    "\n",
    "```python\n",
    "\n",
    "class EmptyClas:\n",
    "    \"\"\"\n",
    "    This is a class without variables and methods\n",
    "    \"\"\"\n",
    "    pass # The keyword pass is a placeholder\n",
    "\n",
    "\n",
    "class MyClass:\n",
    "    # A class variable\n",
    "    name = 'My Class'\n",
    "    \n",
    "    def my_method(self, my_var):\n",
    "        # An instance variable\n",
    "        self.my_instance = my_var\n",
    "```"
   ]
  },
  {
   "cell_type": "code",
   "execution_count": 139,
   "metadata": {
    "id": "XhgoWxJGuguk"
   },
   "outputs": [],
   "source": [
    "class ScientificConference:\n",
    "    \"\"\"\n",
    "    To define the properties of a class, \n",
    "    we use a special method called init.\n",
    "\n",
    "    The special variable called \"self\"\n",
    "    helps with associating the attributes\n",
    "    w\\ the new object: similar to this\n",
    "    keyword from other programming languages\n",
    "    and required to address variables from\n",
    "    classes. \n",
    "    \"\"\"\n",
    "    def __init__(self, name, year, papers):\n",
    "        \"\"\"\n",
    "        Establish the attributes of the\n",
    "        class and assign values to the \n",
    "        corresponding parameters.\n",
    "        \"\"\" \n",
    "        \n",
    "        #start Task 0b\n",
    "        self.name = name\n",
    "        self.year = year\n",
    "        if papers == None:\n",
    "            self.papers = {}\n",
    "        else:\n",
    "            self.papers = papers\n",
    "\n",
    "    def add_manuscript(self, title, researcher):\n",
    "        self.papers[researcher] = title\n",
    "\n",
    "    def __str__(self):\n",
    "        \"\"\"\n",
    "        To return the String representation of\n",
    "        an object, we use the str method. \n",
    "        \"\"\"\n",
    "        result = self.name + ' ' + str(self.year) + ': \\n'\n",
    "        for author, papers in self.papers.items():\n",
    "            result += f'{author}: {\", \".join([str(paper) for paper in papers])} \\n'\n",
    "        return result"
   ]
  },
  {
   "cell_type": "markdown",
   "metadata": {
    "id": "6xdy3BZ7ugu1"
   },
   "source": [
    "### Task 0\n",
    "\n",
    "**a.** Define two new `instances` of the `class ScientificConference` and return their representations.\n",
    "\n",
    "Your output should look like:\n",
    "\n",
    "`Proposals for ICML and NeurIPS conferences will be accepted until the end of November 2020.`\n",
    "\n",
    "_Hint:_ `instance.attribute` helps you extracting a certain property."
   ]
  },
  {
   "cell_type": "code",
   "execution_count": 140,
   "metadata": {
    "id": "ezLUEAgkugu5"
   },
   "outputs": [
    {
     "name": "stdout",
     "output_type": "stream",
     "text": [
      "Proposals for ICML and NeurIPS will be accepted until the end of November 2020.\n"
     ]
    },
    {
     "data": {
      "text/plain": [
       "'TO DO'"
      ]
     },
     "execution_count": 140,
     "metadata": {},
     "output_type": "execute_result"
    }
   ],
   "source": [
    "# Your implementation here\n",
    "inst1 = ScientificConference(\"ICML\", 2020, None)\n",
    "inst2 = ScientificConference(\"NeurIPS\", 2020, None)\n",
    "\n",
    "print(\"Proposals for \" + inst1.name + \" and \" + inst2.name + \" will be accepted until the end of November \" + str(inst1.year) +\".\")\n",
    "'TO DO'"
   ]
  },
  {
   "cell_type": "markdown",
   "metadata": {
    "id": "7ZvLz1GZugvC"
   },
   "source": [
    "**b.** Create a new attribute for the `class ScientificConference`, which is a dictionary passed as a parameter to the instances of the class and holds all of the papers of the conference.\n",
    "\n",
    "_Note:_ You should check if `papers` is `None` in `__init__` and set it to `{}` instead.\n",
    "\n",
    "_Please handle duplicate entries by removing them!_"
   ]
  },
  {
   "cell_type": "markdown",
   "metadata": {
    "id": "Tw7tlZtTugvF"
   },
   "source": [
    "**c.** Define the `add_manuscript` method which generates new entries in the dictionary described before. Please consider using the _researcher_ as a `key` and the _manuscript_ as `values`."
   ]
  },
  {
   "cell_type": "code",
   "execution_count": 142,
   "metadata": {
    "id": "yUDsQUowugvH"
   },
   "outputs": [
    {
     "name": "stdout",
     "output_type": "stream",
     "text": [
      "{'Zig Ziglar': 'Success for Dummies'}\n"
     ]
    }
   ],
   "source": [
    "# Your implementation here\n",
    "# Verify if your add_manuscript method works: add an item & print it\n",
    "inst1.add_manuscript(\"Success for Dummies\", \"Zig Ziglar\")\n",
    "print(inst1.papers)"
   ]
  },
  {
   "cell_type": "markdown",
   "metadata": {
    "id": "HUKrHifWugvP"
   },
   "source": [
    "### Task 1\n",
    "\n",
    "**a.** Define the class `Person` which stores the `title`, `name` and `surname` of a person.\n",
    "\n",
    "The _tuple_ `allowed_titles` is a class variable which helps to verify if the title of a person is \"Mr\", \"Mrs\", \"Ms\", \"Senior Researcher\", \"Professor of CS\" or \"Computer Scientist\".\n",
    "\n",
    "An error is returned if the title is not valid.\n",
    "\n",
    "Use `__str__` defined below:\n",
    "\n",
    "```python\n",
    "    def __str__(self):\n",
    "        return self.title + ' ' + self.surname + ' ' + self.name\n",
    "```"
   ]
  },
  {
   "cell_type": "code",
   "execution_count": 1,
   "metadata": {
    "id": "CLYRkzHSugvR"
   },
   "outputs": [
    {
     "data": {
      "text/plain": [
       "'Mr Jeff Keller'"
      ]
     },
     "execution_count": 1,
     "metadata": {},
     "output_type": "execute_result"
    }
   ],
   "source": [
    "# Your implementation here\n",
    "\n",
    "class Person:\n",
    "    \n",
    "    allowed_titles = (\"Mr\", \"Mrs\", \"Ms\", \"Senior Researcher\", \"Professor of CS\", \"Computer Scinetist\")\n",
    "    \n",
    "    def __init__(self, title, name, surname):\n",
    "        \n",
    "        self.title = title\n",
    "        self.name = name\n",
    "        self.surname = surname\n",
    "              \n",
    "            \n",
    "            \n",
    "    def __str__(self):\n",
    "        if (self.title in self.allowed_titles):\n",
    "            return self.title + \" \" + self.surname + \" \" + self.name\n",
    "        else:\n",
    "            return \"Invalid title!\"\n",
    "\n",
    "        \n",
    "        \n",
    "        \n",
    "person1 = Person(\"Mr\", \"Keller\", \"Jeff\")\n",
    "person1.__str__()"
   ]
  },
  {
   "cell_type": "markdown",
   "metadata": {
    "id": "ZcjB03J3ugva"
   },
   "source": [
    "**b.** Create two instances of the class Person and verify if the following entries are valid:\n",
    "\n",
    "* _Mr Ian Goodfellow_,\n",
    "* _SeniorResearcher Tomas Mikolov._"
   ]
  },
  {
   "cell_type": "code",
   "execution_count": 2,
   "metadata": {
    "id": "U8jKwHK8ugvc"
   },
   "outputs": [
    {
     "data": {
      "text/plain": [
       "'Invalid title!'"
      ]
     },
     "execution_count": 2,
     "metadata": {},
     "output_type": "execute_result"
    }
   ],
   "source": [
    "# Your implementation here\n",
    "person2 = Person(\"_Mr\", \"Ian\", \"Goodfellow_\")\n",
    "person3 = Person(\"SeniorResearcher\", \"Tomas\", \"Mikolov\")\n",
    "\n",
    "person2.__str__()\n",
    "person3.__str__()"
   ]
  },
  {
   "cell_type": "markdown",
   "metadata": {
    "id": "sJGqy2Zxugvm"
   },
   "source": [
    "### Task 2\n",
    "\n",
    "In `ScientificConference` we have been using the paper parameter as a string, but this concept requires a detailed structure.\n",
    "\n",
    "Introduce a new class, `Paper`, which has the following attributes:\n",
    "\n",
    "* `authors`, \n",
    "* `title`, \n",
    "* `a_id`,\n",
    "* `year`, \n",
    "* `status` (published or in development), \n",
    "* `peer_rating` (Excellent, Good, Fair, Poor, Barely Acceptable, Unacceptable)."
   ]
  },
  {
   "cell_type": "code",
   "execution_count": 3,
   "metadata": {
    "id": "1hPZ7q3rugvn"
   },
   "outputs": [],
   "source": [
    "class Paper:\n",
    "    def __init__(self, authors, title, a_id, status, year, peer_rating):\n",
    "        allowed_peer_rating = [\"Excellent\", \"Good\", \"Fair\", \"Poor\", \"Barely Acceptable\", \"Unacceptable\"];\n",
    "        allowed_status = [\"Published\", \"In development\"]\n",
    "        for a in authors:\n",
    "            a.papers.append(self)\n",
    "        self.authors=authors\n",
    "        self.title=title\n",
    "        self.a_id=a_id\n",
    "        if status in allowed_status:\n",
    "            self.status=status\n",
    "        else:\n",
    "            print(\"Invalid status!\")\n",
    "        \n",
    "        self.year=year\n",
    "        if peer_rating in allowed_peer_rating:\n",
    "            self.peer_rating=peer_rating\n",
    "        else:\n",
    "            print(\"Invalid peer rating!\")\n",
    "        \n",
    "\n",
    "    def __str__(self):\n",
    "        return  f'{self.title}, {self.authors[0]} et al. ({self.year}), a_id: '\\\n",
    "                f'{self.a_id}, status: {self.status}, rating: {self.peer_rating}'"
   ]
  },
  {
   "cell_type": "markdown",
   "metadata": {
    "id": "j82CL54Augvv"
   },
   "source": [
    "## Inheritence\n",
    "\n",
    "In Object-Oriented programming, this concept enables us to transfer the methods and the properties of a class to another class."
   ]
  },
  {
   "cell_type": "markdown",
   "metadata": {
    "id": "rZqutiFsugvw"
   },
   "source": [
    "### Task 3\n",
    "\n",
    "Create a class named `Researcher`, which inherits the properties and methods from the `Person` class. Besides, this class has an additional parameter, `papers` which is `None` by default.\n",
    "\n",
    "_Note:_ You should check if `papers` is `None` in `__init__` and set it to `[]` instead.\n",
    "\n",
    "```python\n",
    "class Researcher(Person):\n",
    "    def __init__('Add arguments'):\n",
    "        super().__init__(title, name, surname)\n",
    "```"
   ]
  },
  {
   "cell_type": "code",
   "execution_count": 4,
   "metadata": {
    "id": "QCfpoVveugvy"
   },
   "outputs": [
    {
     "name": "stdout",
     "output_type": "stream",
     "text": [
      "Senior Researcher Mikolov Tomas\n"
     ]
    }
   ],
   "source": [
    "# Define your first researcher\n",
    "# Expected output: Senior Researcher Tomas Mikolov\n",
    "\n",
    "\n",
    "class Researcher(Person):\n",
    "    def __init__(self,title, name, surname,papers):\n",
    "        super().__init__(title, name, surname)\n",
    "        self.papers=[]\n",
    "        self.co_authored = False\n",
    "        \n",
    "    #start Task 4b   \n",
    "    def verify_co_autorship(self):\n",
    "        for i in self.papers:\n",
    "            if len(i.authors) > 1:\n",
    "                self.co_authored = True\n",
    "        return self.co_authored\n",
    "    #end Task 4b\n",
    "    \n",
    "    \n",
    "    \n",
    "    #start Task 4c\n",
    "    def get_collab(self, j):\n",
    "        for i in self.papers:\n",
    "            if j in i.authors and self in i.authors:\n",
    "                print(i.title, \",\", j, \" et al.\", \"(\", i.year, \")\", \", a_id:\", i.a_id, \", status:\", i.status, \", rating:\", i.peer_rating)\n",
    "    #end Task 4c\n",
    "    \n",
    "    \n",
    "    \n",
    "    #start Task 4d\n",
    "    def get_papers(self):\n",
    "        for i in self.papers:\n",
    "            print(i.__str__())\n",
    "    #end Task 4d\n",
    "\n",
    "            \n",
    "res = Researcher(\"Senior Researcher\",\"Tomas\",\"Mikolov\", \"\")\n",
    "print(res)\n",
    "\n"
   ]
  },
  {
   "cell_type": "markdown",
   "metadata": {
    "id": "40nAxy14ugv8"
   },
   "source": [
    "### Task 4\n",
    "\n",
    "Consider the following scientists:\n",
    "\n",
    "1.  Paper _Deep Learning_ published by Yann LeCun, Yoshua Bengio, Geoffrey Hinton, in _nature 521_, id = https://doi.org/10.1038/nature14539, peer_rating = Excelent.\n",
    "\n",
    "2. Paper _On the difficulty of training recurrent neural networks_ by Razvan Pascanu, Tomas Mikolov, Professor of computer science Yoshua Bengio, in ICML 2013, id = https://arxiv.org/abs/1211.5063, peer_rating = Excelent.\n",
    "\n",
    "2. Paper _Generative Adversarial Nets_ by Ian Goodfellow and Yoshua Bengio, NeurIPS 2015, id = http://papers.nips.cc/paper/5423-generative-adversarial-nets.pdf, peer_rating = Excelent.\n",
    "\n",
    "3. Paper _Handwritten Digit Recognition with a Back-Propagation Network_ by Computer Scientist Yan LeCun, NeurIPS 1989, id =  https://papers.nips.cc/paper/293-handwritten-digit-recognition-with-a-back-propagation-network, peer_rating = Excelent.\n",
    "\n",
    "4. Paper _Gated Softmax Classification_ by Geoffrey Hintorn, NeurIPS 2010, id = http://papers.neurips.cc/paper/3895-gated-softmax-classification, peer_rating = Good.\n",
    "\n",
    "_Note:_ Let us consider \"Mr\" as a default title for the researchers without a specific caption. Also, for the id of a paper, please use only integers from the provided links.\n",
    "\n",
    "**a.** Define the next 5 scientists and use them in your `paper` objects.\n",
    "\n",
    "**b.** Create the `verify_co_authorship` function inside the `class Researcher` which checks if a certain researcher ever co-authored a paper.\n",
    "_Hint:_ Use `self.co_authored = False` inside the `__init__` function.\n",
    "\n",
    "**c.** Implement the `get_collab` function inside the `class Researcher` to discover the papers written by two researchers.\n",
    "\n",
    "For instance, if Yoshua Bengio is researcher2 and Ian Goodfellow is researcher3, then:\n",
    "\n",
    "`print_papers(researcher2.get_collab(researcher3))` should output:\n",
    "\n",
    "_Generative Adversarial Nets, Mr Ian Goodfellow et al. (2015), a_id: 5423, status: published, rating: Excelent_\n",
    "\n",
    "_Note:_ This function helps you to print the papers from a given list.\n",
    "\n",
    "```python\n",
    "def print_papers(paper_list):\n",
    "    for paper in paper_list:\n",
    "        print(paper)\n",
    "```\n",
    "\n",
    "**d.** What are the papers written by Yoshua Bengio?\n",
    "\n",
    "Expected output:\n",
    "\n",
    "`Deep Learning, Computer Scientist Yann LeCun et al. (2015), a_id: 14539, status: published, rating: Excelent`\n",
    "\n",
    "`Generative Adversarial Nets, Mr Ian Goodfellow et al. (2015), a_id: 5423, status: published, rating: Excelent`\n",
    "\n",
    "`Paper On the difficulty of training recurrent neural networks, Mr Razvan Pascanu et al. (2013), a_id: 5063, status: published, rating: Excelent`\n",
    "\n",
    "**e.** Did he ever co-author a paper?\n",
    "\n",
    "**f.** Which papers are published by Yann LeCun?\n",
    "\n",
    "Expected output:\n",
    "\n",
    "`Deep Learning, Computer Scientist Yann LeCun et al. (2015), a_id: 14539, status: published, rating: Excelent`\n",
    "\n",
    "`Handwritten Digit Recognition with a Back-Propagation Network, Computer Scientist Yann LeCun et al. (1989), a_id: 293, status: published, rating: Good`"
   ]
  },
  {
   "cell_type": "code",
   "execution_count": 5,
   "metadata": {},
   "outputs": [
    {
     "name": "stdout",
     "output_type": "stream",
     "text": [
      "Yann\n",
      "Mr\n",
      "Hinton\n"
     ]
    }
   ],
   "source": [
    "#start Task 4a\n",
    "researcher1 = Researcher(\"Mr\", \"Yann\", \"LeCun\", [])\n",
    "researcher2 = Researcher(\"Mr\", \"Yoshua\", \"Bengio\", [])\n",
    "researcher3 = Researcher(\"Mr\", \"Geoffrey\", \"Hinton\", [])\n",
    "researcher4 = Researcher(\"Mr\", \"Ian\", \"Goodfellow\", [])\n",
    "researcher5 = Researcher(\"Mr\", \"Tomas\", \"Mikolov\", [])\n",
    "researcher6 = Researcher(\"Mr\", \"Razvan\", \"Pascanu\", [])\n",
    "\n",
    "\n",
    "paper1 = Paper([researcher1, researcher2, researcher3], \"Deep Learning\", 14539, \"Published\", 2015, \"Excellent\")\n",
    "paper2 = Paper([researcher6, researcher5, researcher2], \"Paper on the difficulty of training recurrent neural networks\", 5063, \"Published\", 2012, \"Excellent\")\n",
    "paper3 = Paper([researcher4, researcher2], \"Generative Adversarial Nets\", 5423, \"Published\", 2015, \"Excellent\")\n",
    "paper4 = Paper([researcher1], \"Handwritten Digit Recognition with a Back-Propagation Network\", 293, \"Published\", 1989, \"Excellent\")\n",
    "paper5 = Paper([researcher3], \"Gated Softmax Classification\", 3895, \"Published\", 2010, \"Good\")\n",
    "\n",
    "print(researcher1.name)\n",
    "print(researcher2.title)\n",
    "print(researcher3.surname)"
   ]
  },
  {
   "cell_type": "code",
   "execution_count": 6,
   "metadata": {},
   "outputs": [
    {
     "name": "stdout",
     "output_type": "stream",
     "text": [
      "True\n"
     ]
    }
   ],
   "source": [
    "#start Task 4b\n",
    "print(researcher1.verify_co_autorship())"
   ]
  },
  {
   "cell_type": "code",
   "execution_count": 7,
   "metadata": {},
   "outputs": [
    {
     "name": "stdout",
     "output_type": "stream",
     "text": [
      "Generative Adversarial Nets , Mr Goodfellow Ian  et al. ( 2015 ) , a_id: 5423 , status: Published , rating: Excellent\n"
     ]
    }
   ],
   "source": [
    "#start Task 4c\n",
    "researcher2.get_collab(researcher4)"
   ]
  },
  {
   "cell_type": "code",
   "execution_count": 151,
   "metadata": {},
   "outputs": [
    {
     "name": "stdout",
     "output_type": "stream",
     "text": [
      "Deep Learning, Mr LeCun Yann et al. (2015), a_id: 14539, status: Published, rating: Excellent\n",
      "Paper on the difficulty of training recurrent neural networks, Mr Pascanu Razvan et al. (2012), a_id: 5063, status: Published, rating: Excellent\n",
      "Generative Adversarial Nets, Mr Goodfellow Ian et al. (2015), a_id: 5423, status: Published, rating: Excellent\n"
     ]
    }
   ],
   "source": [
    "#start Task 4d\n",
    "researcher2.get_papers()"
   ]
  },
  {
   "cell_type": "code",
   "execution_count": 152,
   "metadata": {},
   "outputs": [
    {
     "name": "stdout",
     "output_type": "stream",
     "text": [
      "True\n"
     ]
    }
   ],
   "source": [
    "#start Task 4e\n",
    "print(researcher2.verify_co_autorship())"
   ]
  },
  {
   "cell_type": "code",
   "execution_count": 153,
   "metadata": {},
   "outputs": [
    {
     "name": "stdout",
     "output_type": "stream",
     "text": [
      "Deep Learning, Mr LeCun Yann et al. (2015), a_id: 14539, status: Published, rating: Excellent\n",
      "Handwritten Digit Recognition with a Back-Propagation Network, Mr LeCun Yann et al. (1989), a_id: 293, status: Published, rating: Excellent\n"
     ]
    }
   ],
   "source": [
    "#start Task 4f\n",
    "researcher1.get_papers()"
   ]
  },
  {
   "cell_type": "markdown",
   "metadata": {
    "id": "AImKzUZgugv9"
   },
   "source": [
    "### Task 5 - Homework\n",
    "\n",
    "Consider an updated version of the `ScientificConference` class, which should have a modified version of the function `add_manuscript`.\n",
    "\n",
    "Use the `status` and the `peer_rating` variables as a **threshold** to add papers in your `papers` dictionary. The conferences will only be accepting `Excelent` papers. For this case, the dictionary has the year of the paper as `key`, and the `values` are stored as a tuple of `(researcher, manuscript)`. For the papers which don't satisfy this condition, the message _\"Please review your submission.\"_ is displayed.\n",
    "\n",
    "For papers submitted in 2015, when printing the conference, the `str` function should output:\n",
    "\n",
    "```\n",
    "NeurIPS 2020: \n",
    "2015: \n",
    "Mr Ian Goodfellow: Generative Adversarial Nets, Mr Ian Goodfellow et al. (2015), id: 5423, status: published, rating: Excelent \n",
    "Computer Scientist Yann LeCun: Deep Learning, Computer Scientist Yann LeCun et al. (2015), id: 14539, status: published, rating: Excelent\n",
    "```"
   ]
  },
  {
   "cell_type": "code",
   "execution_count": 154,
   "metadata": {
    "id": "EDsHycjEugv_"
   },
   "outputs": [],
   "source": [
    "#start Homework\n",
    "\n",
    "class ScientificConferenceUpdate:\n",
    "    \"\"\"\n",
    "    To define the properties of a class, \n",
    "    we use a special method called __init__.\n",
    "    \n",
    "    The special variable called \"self\"\n",
    "    helps with associating the attributes\n",
    "    w\\ the new object: similar to `this`\n",
    "    keyword from other programming languages\n",
    "    and required to address variables from\n",
    "    classes. \n",
    "    \"\"\"\n",
    "    def __init__(self, name):\n",
    "        \"\"\"\n",
    "        Establish the attributes of the\n",
    "        class and assign values to the \n",
    "        corresponding parameters.\n",
    "        \"\"\" \n",
    "        self.name = name\n",
    "        self.year = year\n",
    "        \"\"\"\n",
    "        Add new attribute `papers`\n",
    "        \"\"\"\n",
    "    \n",
    "    def add_manuscript(self, manuscript, researcher):\n",
    "        'TO DO'\n",
    "        \n",
    "    def __str__(self):\n",
    "        \"\"\"\n",
    "        To return the String representation of\n",
    "        an object, we use the __str__ method. \n",
    "        \"\"\"\n",
    "        result = self.name + ' ' + str(self.year) + ': \\n'\n",
    "        for year, papers in self.papers.items():\n",
    "            result += f'{year}: \\n'\n",
    "            for (author, paper) in papers: \n",
    "                result += f'{author}: {paper} \\n'\n",
    "        return result"
   ]
  },
  {
   "cell_type": "code",
   "execution_count": null,
   "metadata": {},
   "outputs": [],
   "source": []
  }
 ],
 "metadata": {
  "colab": {
   "collapsed_sections": [],
   "name": "Lab03_AI.ipynb",
   "provenance": []
  },
  "kernelspec": {
   "display_name": "Python 3",
   "language": "python",
   "name": "python3"
  },
  "language_info": {
   "codemirror_mode": {
    "name": "ipython",
    "version": 3
   },
   "file_extension": ".py",
   "mimetype": "text/x-python",
   "name": "python",
   "nbconvert_exporter": "python",
   "pygments_lexer": "ipython3",
   "version": "3.8.3"
  }
 },
 "nbformat": 4,
 "nbformat_minor": 1
}
