{
 "cells": [
  {
   "cell_type": "code",
   "execution_count": 2,
   "metadata": {},
   "outputs": [
    {
     "name": "stdout",
     "output_type": "stream",
     "text": [
      "0  0  0  0  0  0  0  0  0  0  0  0  0  0  0  0  0  0  0  0  \n",
      "0  1  0  25 24 23 22 21 20 0  22 23 24 25 26 27 28 29 30 0  \n",
      "0  2  0  26 0  22 21 20 19 20 21 22 23 0  0  0  0  30 31 0  \n",
      "0  3  0  27 0  0  0  0  18 0  22 23 24 25 26 27 28 29 30 0  \n",
      "0  4  0  28 0  0  0  0  17 0  0  24 0  0  0  28 0  0  0  0  \n",
      "0  5  0  0  0  0  0  0  16 0  26 25 0  31 0  29 30 31 32 33 \n",
      "0  6  7  8  9  10 11 0  15 0  27 26 0  30 0  0  0  0  0  0  \n",
      "0  0  0  9  10 11 12 13 14 0  28 27 28 29 30 0  0  0  0  0  \n",
      "0  0  0  10 11 12 13 14 15 0  29 28 29 0  31 32 33 0  0  0  \n",
      "0  0  0  0  0  0  0  0  0  0  0  0  0  0  0  0  0  0  0  0  \n",
      "[(5, 19), (5, 18), (5, 17), (5, 16), (5, 15), (4, 15), (3, 15), (3, 14), (3, 13), (3, 12), (2, 12), (2, 11), (2, 10), (2, 9), (2, 8), (3, 8), (4, 8), (5, 8), (6, 8), (7, 8), (7, 7), (7, 6), (6, 6), (6, 5), (6, 4), (6, 3), (6, 2), (6, 1), (5, 1), (4, 1), (3, 1), (2, 1), (1, 1)]\n"
     ]
    }
   ],
   "source": [
    "#The purpose of this lab is to create a maze solver."
   ]
  },
  {
   "cell_type": "code",
   "execution_count": 3,
   "metadata": {},
   "outputs": [],
   "source": [
    "from PIL import Image, ImageDraw"
   ]
  },
  {
   "cell_type": "code",
   "execution_count": 8,
   "metadata": {},
   "outputs": [],
   "source": [
    "#We have the following data\n",
    "#A is the maze matrix where 0 are the path wich are avaible and 1 are the walls\n",
    "#Start is the start point of the player\n",
    "#End is the maze exit"
   ]
  },
  {
   "cell_type": "code",
   "execution_count": 9,
   "metadata": {},
   "outputs": [],
   "source": [
    "images = []\n",
    "\n",
    "a = [\n",
    "    [1, 1, 1, 1, 1, 1, 1, 1, 1, 1, 1, 1, 1, 1, 1, 1, 1, 1, 1, 1],\n",
    "    [1, 0, 1, 0, 0, 0, 0, 0, 0, 1, 0 ,0, 0, 0, 0, 0, 0, 0, 0, 1],\n",
    "    [1, 0, 1, 0, 1, 0, 0, 0, 0, 0, 0 ,0, 0, 1, 1, 1, 1, 0, 0, 1],\n",
    "    [1, 0, 1, 0, 1, 1, 1, 1, 0, 1, 0 ,0, 0, 0, 0, 0, 0, 0, 0, 1],\n",
    "    [1, 0, 1, 0, 1, 0, 0, 1, 0, 1, 1 ,0, 1, 1, 1, 0, 1, 1, 1, 1],\n",
    "    [1, 0, 1, 1, 1, 1, 1, 1, 0, 1, 0 ,0, 1, 0, 1, 0, 0, 0, 0, 0],\n",
    "    [1, 0, 0, 0, 0, 0, 0, 1, 0, 1, 0 ,0, 1, 0, 1, 1, 1, 1, 1, 1],\n",
    "    [1, 1, 1, 0, 0, 0, 0, 0, 0, 1, 0 ,0, 0, 0, 0, 1, 0, 0, 0, 1],\n",
    "    [1, 1, 1, 0, 0, 0, 0, 0, 0, 1, 0 ,0, 0, 1, 0, 0, 0, 0, 0, 1],\n",
    "    [1, 1, 1, 1, 1, 1, 1, 1, 1, 1, 1, 1, 1, 1, 1, 1, 1, 1, 1, 1],\n",
    "]\n",
    "zoom = 20\n",
    "borders = 6\n",
    "start = 1,1\n",
    "end = 5,19"
   ]
  },
  {
   "cell_type": "code",
   "execution_count": null,
   "metadata": {},
   "outputs": [],
   "source": [
    "#The print_m method will be used to print the matrix\n",
    "#The draw_matrix is used to generate the gif, generation a new image for every move"
   ]
  },
  {
   "cell_type": "code",
   "execution_count": null,
   "metadata": {},
   "outputs": [],
   "source": [
    "def print_m(m):\n",
    "    for i in range(len(m)):\n",
    "        for j in range(len(m[i])):\n",
    "            print( str(m[i][j]).ljust(2),end=' ')\n",
    "        print()\n",
    "\n",
    "def draw_matrix(a,m, the_path = []):\n",
    "    im = Image.new('RGB', (zoom * len(a[0]), zoom * len(a)), (255, 255, 255))\n",
    "    draw = ImageDraw.Draw(im)\n",
    "    for i in range(len(a)):\n",
    "        for j in range(len(a[i])):\n",
    "            color = (255, 255, 255)\n",
    "            r = 0\n",
    "            if a[i][j] == 1:\n",
    "                color = (0, 0, 0)\n",
    "            if i == start[0] and j == start[1]:\n",
    "                color = (0, 255, 0)\n",
    "                r = borders\n",
    "            if i == end[0] and j == end[1]:\n",
    "                color = (0, 255, 0)\n",
    "                r = borders\n",
    "            draw.rectangle((j*zoom+r, i*zoom+r, j*zoom+zoom-r-1, i*zoom+zoom-r-1), fill=color)\n",
    "            if m[i][j] > 0:\n",
    "                r = borders\n",
    "                draw.ellipse((j * zoom + r, i * zoom + r, j * zoom + zoom - r - 1, i * zoom + zoom - r - 1),\n",
    "                               fill=(255,0,0))\n",
    "    for u in range(len(the_path)-1):\n",
    "        y = the_path[u][0]*zoom + int(zoom/2)\n",
    "        x = the_path[u][1]*zoom + int(zoom/2)\n",
    "        y1 = the_path[u+1][0]*zoom + int(zoom/2)\n",
    "        x1 = the_path[u+1][1]*zoom + int(zoom/2)\n",
    "        draw.line((x,y,x1,y1), fill=(255, 0,0), width=5)\n",
    "    draw.rectangle((0, 0, zoom * len(a[0]), zoom * len(a)), outline=(0,255,0), width=2)\n",
    "    images.append(im)"
   ]
  },
  {
   "cell_type": "code",
   "execution_count": null,
   "metadata": {},
   "outputs": [],
   "source": [
    "#Task 0\n",
    "#Fill the matrix with zeros and 1 on the start position\n",
    "m = []\n",
    "#TODO"
   ]
  },
  {
   "cell_type": "code",
   "execution_count": null,
   "metadata": {},
   "outputs": [],
   "source": [
    "#Now we have to implement the make_step function which is the core of the algorithm\n",
    "#The function get one parameter k which represent the current step\n",
    "#On every step we need to find the next valid move and mark that move with k + 1"
   ]
  },
  {
   "cell_type": "code",
   "execution_count": 4,
   "metadata": {},
   "outputs": [
    {
     "name": "stdout",
     "output_type": "stream",
     "text": [
      "0  0  0  0  0  0  0  0  0  0  0  0  0  0  0  0  0  0  0  0  \n",
      "0  1  0  25 24 23 22 21 20 0  22 23 24 25 26 27 28 29 30 0  \n",
      "0  2  0  26 0  22 21 20 19 20 21 22 23 0  0  0  0  30 31 0  \n",
      "0  3  0  27 0  0  0  0  18 0  22 23 24 25 26 27 28 29 30 0  \n",
      "0  4  0  28 0  0  0  0  17 0  0  24 0  0  0  28 0  0  0  0  \n",
      "0  5  0  0  0  0  0  0  16 0  26 25 0  31 0  29 30 31 32 33 \n",
      "0  6  7  8  9  10 11 0  15 0  27 26 0  30 0  0  0  0  0  0  \n",
      "0  0  0  9  10 11 12 13 14 0  28 27 28 29 30 0  0  0  0  0  \n",
      "0  0  0  10 11 12 13 14 15 0  29 28 29 0  31 32 33 0  0  0  \n",
      "0  0  0  0  0  0  0  0  0  0  0  0  0  0  0  0  0  0  0  0  \n",
      "[(5, 19), (5, 18), (5, 17), (5, 16), (5, 15), (4, 15), (3, 15), (3, 14), (3, 13), (3, 12), (2, 12), (2, 11), (2, 10), (2, 9), (2, 8), (3, 8), (4, 8), (5, 8), (6, 8), (7, 8), (7, 7), (7, 6), (6, 6), (6, 5), (6, 4), (6, 3), (6, 2), (6, 1), (5, 1), (4, 1), (3, 1), (2, 1), (1, 1)]\n"
     ]
    }
   ],
   "source": [
    "def make_step(k):\n",
    "    #TODO"
   ]
  },
  {
   "cell_type": "code",
   "execution_count": null,
   "metadata": {},
   "outputs": [],
   "source": [
    "k = 0\n",
    "while m[end[0]][end[1]] == 0:\n",
    "    k += 1\n",
    "    make_step(k)\n",
    "    draw_matrix(a, m)\n",
    "\n",
    "i, j = end\n",
    "k = m[i][j]\n",
    "the_path = [(i,j)]\n",
    "while k > 1:\n",
    "    #fill the_path variable with the path from m\n",
    "    draw_matrix(a, m, the_path)\n",
    "\n",
    "for i in range(10):\n",
    "    if i % 2 == 0:\n",
    "        draw_matrix(a, m, the_path)\n",
    "    else:\n",
    "        draw_matrix(a, m)\n",
    "\n",
    "print_m(m)\n",
    "print(the_path)"
   ]
  },
  {
   "cell_type": "code",
   "execution_count": null,
   "metadata": {},
   "outputs": [],
   "source": [
    "Expected result\n",
    "The matrix:\n",
    "0  0  0  0  0  0  0  0  0  0  0  0  0  0  0  0  0  0  0  0  \n",
    "0  1  0  25 24 23 22 21 20 0  22 23 24 25 26 27 28 29 30 0  \n",
    "0  2  0  26 0  22 21 20 19 20 21 22 23 0  0  0  0  30 31 0  \n",
    "0  3  0  27 0  0  0  0  18 0  22 23 24 25 26 27 28 29 30 0  \n",
    "0  4  0  28 0  0  0  0  17 0  0  24 0  0  0  28 0  0  0  0  \n",
    "0  5  0  0  0  0  0  0  16 0  26 25 0  31 0  29 30 31 32 33 \n",
    "0  6  7  8  9  10 11 0  15 0  27 26 0  30 0  0  0  0  0  0  \n",
    "0  0  0  9  10 11 12 13 14 0  28 27 28 29 30 0  0  0  0  0  \n",
    "0  0  0  10 11 12 13 14 15 0  29 28 29 0  31 32 33 0  0  0  \n",
    "0  0  0  0  0  0  0  0  0  0  0  0  0  0  0  0  0  0  0  0  \n",
    "\n",
    "The path\n",
    "[(5, 19), (5, 18), (5, 17), (5, 16), (5, 15), (4, 15), (3, 15), (3, 14), (3, 13), (3, 12), (2, 12), (2, 11), (2, 10), (2, 9), (2, 8), (3, 8), (4, 8), (5, 8), (6, 8), (7, 8), (7, 7), (7, 6), (6, 6), (6, 5), (6, 4), (6, 3), (6, 2), (6, 1), (5, 1), (4, 1), (3, 1), (2, 1), (1, 1)]"
   ]
  },
  {
   "cell_type": "code",
   "execution_count": null,
   "metadata": {},
   "outputs": [],
   "source": [
    "#For a visual representation of the algorithm we have the following code"
   ]
  },
  {
   "cell_type": "code",
   "execution_count": null,
   "metadata": {},
   "outputs": [],
   "source": [
    "images[0].save('maze.gif',\n",
    "               save_all=True, append_images=images[1:],\n",
    "               optimize=False, duration=1, loop=0)"
   ]
  },
  {
   "cell_type": "code",
   "execution_count": 7,
   "metadata": {},
   "outputs": [
    {
     "name": "stderr",
     "output_type": "stream",
     "text": [
      "'[alt' is not recognized as an internal or external command,\n",
      "operable program or batch file.\n"
     ]
    }
   ],
   "source": [
    "#Expected result in the expectedMaze.gif file"
   ]
  },
  {
   "cell_type": "code",
   "execution_count": null,
   "metadata": {},
   "outputs": [],
   "source": []
  }
 ],
 "metadata": {
  "kernelspec": {
   "display_name": "Python 3",
   "language": "python",
   "name": "python3"
  },
  "language_info": {
   "codemirror_mode": {
    "name": "ipython",
    "version": 3
   },
   "file_extension": ".py",
   "mimetype": "text/x-python",
   "name": "python",
   "nbconvert_exporter": "python",
   "pygments_lexer": "ipython3",
   "version": "3.8.3"
  }
 },
 "nbformat": 4,
 "nbformat_minor": 2
}
