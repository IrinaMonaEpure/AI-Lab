{
 "cells": [
  {
   "cell_type": "markdown",
   "metadata": {
    "id": "RRDk1pAZuKRs"
   },
   "source": [
    "# Artificial Intelligence - Fall 2020 - Laboratory 11\n",
    "\n",
    "## _Supervised Learning:   Random Forest Classifier, Linear Classifier_\n",
    "\n",
    "c: Alexandra Dobrescu <alexandramaria.digital@gmail.com>"
   ]
  },
  {
   "cell_type": "markdown",
   "metadata": {},
   "source": [
    "### Special Task 3\n",
    "\n",
    "Be creative and define a new concept, starting from one of the classical AI algorithms studied during this Fall. Use the one which most inspires you to expand it to a new task, technology or application.\n",
    "\n",
    "Please consider using **your own words** to introduce **the problem** that you want to solve, **its importance** in today's world and **the solution** you bring, on a very high level and in a concise manner. \n",
    "\n",
    "Don't forget to **use scientific references** at the end of your assignment.\n",
    "\n",
    "_Timeline:_ You can write your solution in a markdown section of your notebook (Lab 11, Lab 12 or Lab 13) **until the 28th of January 2021**."
   ]
  },
  {
   "cell_type": "code",
   "execution_count": 1,
   "metadata": {
    "id": "Vg8LEAKOuKR4"
   },
   "outputs": [],
   "source": [
    "import pandas as pd\n",
    "import numpy as np\n",
    "from sklearn.linear_model import LogisticRegression\n",
    "import warnings\n",
    "from pandas.core.common import SettingWithCopyWarning\n",
    "warnings.simplefilter(action=\"ignore\", category=SettingWithCopyWarning)"
   ]
  },
  {
   "cell_type": "code",
   "execution_count": 2,
   "metadata": {
    "id": "vUr4HX_luKR6"
   },
   "outputs": [],
   "source": [
    "# Read data\n",
    "\n",
    "root_path = 'C:/Users/irina/Documents/Uni/AI/'"
   ]
  },
  {
   "cell_type": "code",
   "execution_count": 3,
   "metadata": {
    "id": "ONjxm1p9uKR7"
   },
   "outputs": [],
   "source": [
    "df = pd.read_csv(root_path + 'credit_approval.csv')"
   ]
  },
  {
   "cell_type": "code",
   "execution_count": 4,
   "metadata": {
    "id": "jpjOQZnMuKR7",
    "outputId": "0fe64cac-53a5-4e76-a984-dea98ac308c5"
   },
   "outputs": [
    {
     "data": {
      "text/html": [
       "<div>\n",
       "<style scoped>\n",
       "    .dataframe tbody tr th:only-of-type {\n",
       "        vertical-align: middle;\n",
       "    }\n",
       "\n",
       "    .dataframe tbody tr th {\n",
       "        vertical-align: top;\n",
       "    }\n",
       "\n",
       "    .dataframe thead th {\n",
       "        text-align: right;\n",
       "    }\n",
       "</style>\n",
       "<table border=\"1\" class=\"dataframe\">\n",
       "  <thead>\n",
       "    <tr style=\"text-align: right;\">\n",
       "      <th></th>\n",
       "      <th>Unnamed: 0</th>\n",
       "      <th>1</th>\n",
       "      <th>2</th>\n",
       "      <th>3</th>\n",
       "      <th>4</th>\n",
       "      <th>5</th>\n",
       "      <th>6</th>\n",
       "      <th>7</th>\n",
       "      <th>8</th>\n",
       "      <th>9</th>\n",
       "      <th>10</th>\n",
       "      <th>11</th>\n",
       "      <th>12</th>\n",
       "      <th>13</th>\n",
       "      <th>14</th>\n",
       "      <th>15</th>\n",
       "    </tr>\n",
       "  </thead>\n",
       "  <tbody>\n",
       "    <tr>\n",
       "      <th>0</th>\n",
       "      <td>0</td>\n",
       "      <td>1</td>\n",
       "      <td>22.08</td>\n",
       "      <td>11.46</td>\n",
       "      <td>2</td>\n",
       "      <td>4</td>\n",
       "      <td>4</td>\n",
       "      <td>1.585</td>\n",
       "      <td>0</td>\n",
       "      <td>0</td>\n",
       "      <td>0</td>\n",
       "      <td>1</td>\n",
       "      <td>2</td>\n",
       "      <td>100</td>\n",
       "      <td>1213</td>\n",
       "      <td>0</td>\n",
       "    </tr>\n",
       "    <tr>\n",
       "      <th>1</th>\n",
       "      <td>1</td>\n",
       "      <td>0</td>\n",
       "      <td>22.67</td>\n",
       "      <td>7.00</td>\n",
       "      <td>2</td>\n",
       "      <td>8</td>\n",
       "      <td>4</td>\n",
       "      <td>0.165</td>\n",
       "      <td>0</td>\n",
       "      <td>0</td>\n",
       "      <td>0</td>\n",
       "      <td>0</td>\n",
       "      <td>2</td>\n",
       "      <td>160</td>\n",
       "      <td>1</td>\n",
       "      <td>0</td>\n",
       "    </tr>\n",
       "    <tr>\n",
       "      <th>2</th>\n",
       "      <td>2</td>\n",
       "      <td>0</td>\n",
       "      <td>29.58</td>\n",
       "      <td>1.75</td>\n",
       "      <td>1</td>\n",
       "      <td>4</td>\n",
       "      <td>4</td>\n",
       "      <td>1.250</td>\n",
       "      <td>0</td>\n",
       "      <td>0</td>\n",
       "      <td>0</td>\n",
       "      <td>1</td>\n",
       "      <td>2</td>\n",
       "      <td>280</td>\n",
       "      <td>1</td>\n",
       "      <td>0</td>\n",
       "    </tr>\n",
       "    <tr>\n",
       "      <th>3</th>\n",
       "      <td>3</td>\n",
       "      <td>0</td>\n",
       "      <td>21.67</td>\n",
       "      <td>11.50</td>\n",
       "      <td>1</td>\n",
       "      <td>5</td>\n",
       "      <td>3</td>\n",
       "      <td>0.000</td>\n",
       "      <td>1</td>\n",
       "      <td>1</td>\n",
       "      <td>11</td>\n",
       "      <td>1</td>\n",
       "      <td>2</td>\n",
       "      <td>0</td>\n",
       "      <td>1</td>\n",
       "      <td>1</td>\n",
       "    </tr>\n",
       "    <tr>\n",
       "      <th>4</th>\n",
       "      <td>4</td>\n",
       "      <td>1</td>\n",
       "      <td>20.17</td>\n",
       "      <td>8.17</td>\n",
       "      <td>2</td>\n",
       "      <td>6</td>\n",
       "      <td>4</td>\n",
       "      <td>1.960</td>\n",
       "      <td>1</td>\n",
       "      <td>1</td>\n",
       "      <td>14</td>\n",
       "      <td>0</td>\n",
       "      <td>2</td>\n",
       "      <td>60</td>\n",
       "      <td>159</td>\n",
       "      <td>1</td>\n",
       "    </tr>\n",
       "  </tbody>\n",
       "</table>\n",
       "</div>"
      ],
      "text/plain": [
       "   Unnamed: 0  1      2      3  4  5  6      7  8  9  10  11  12   13    14  \\\n",
       "0           0  1  22.08  11.46  2  4  4  1.585  0  0   0   1   2  100  1213   \n",
       "1           1  0  22.67   7.00  2  8  4  0.165  0  0   0   0   2  160     1   \n",
       "2           2  0  29.58   1.75  1  4  4  1.250  0  0   0   1   2  280     1   \n",
       "3           3  0  21.67  11.50  1  5  3  0.000  1  1  11   1   2    0     1   \n",
       "4           4  1  20.17   8.17  2  6  4  1.960  1  1  14   0   2   60   159   \n",
       "\n",
       "   15  \n",
       "0   0  \n",
       "1   0  \n",
       "2   0  \n",
       "3   1  \n",
       "4   1  "
      ]
     },
     "execution_count": 4,
     "metadata": {},
     "output_type": "execute_result"
    }
   ],
   "source": [
    "df.head()"
   ]
  },
  {
   "cell_type": "code",
   "execution_count": 5,
   "metadata": {
    "id": "a_vTom12uKR9",
    "outputId": "b4bb2cac-098f-461d-f428-7865aba061ea"
   },
   "outputs": [
    {
     "name": "stdout",
     "output_type": "stream",
     "text": [
      "<class 'pandas.core.frame.DataFrame'>\n",
      "RangeIndex: 690 entries, 0 to 689\n",
      "Data columns (total 16 columns):\n",
      " #   Column      Non-Null Count  Dtype  \n",
      "---  ------      --------------  -----  \n",
      " 0   Unnamed: 0  690 non-null    int64  \n",
      " 1   1           690 non-null    int64  \n",
      " 2   2           690 non-null    float64\n",
      " 3   3           690 non-null    float64\n",
      " 4   4           690 non-null    int64  \n",
      " 5   5           690 non-null    int64  \n",
      " 6   6           690 non-null    int64  \n",
      " 7   7           690 non-null    float64\n",
      " 8   8           690 non-null    int64  \n",
      " 9   9           690 non-null    int64  \n",
      " 10  10          690 non-null    int64  \n",
      " 11  11          690 non-null    int64  \n",
      " 12  12          690 non-null    int64  \n",
      " 13  13          690 non-null    int64  \n",
      " 14  14          690 non-null    int64  \n",
      " 15  15          690 non-null    int64  \n",
      "dtypes: float64(3), int64(13)\n",
      "memory usage: 86.4 KB\n"
     ]
    }
   ],
   "source": [
    "df.info()"
   ]
  },
  {
   "cell_type": "code",
   "execution_count": 6,
   "metadata": {
    "id": "9SnZFIlcuKR-",
    "outputId": "41208a11-267d-43d8-c8b7-501dfd9976f3"
   },
   "outputs": [
    {
     "data": {
      "text/plain": [
       "Index(['Unnamed: 0', '1', '2', '3', '4', '5', '6', '7', '8', '9', '10', '11',\n",
       "       '12', '13', '14', '15'],\n",
       "      dtype='object')"
      ]
     },
     "execution_count": 6,
     "metadata": {},
     "output_type": "execute_result"
    }
   ],
   "source": [
    "df.columns"
   ]
  },
  {
   "cell_type": "markdown",
   "metadata": {
    "id": "qr3MCmpzuKR_"
   },
   "source": [
    "### Exploring Data"
   ]
  },
  {
   "cell_type": "code",
   "execution_count": 7,
   "metadata": {
    "id": "rhEEtFkbuKR_"
   },
   "outputs": [],
   "source": [
    "import matplotlib.pyplot as plt"
   ]
  },
  {
   "cell_type": "code",
   "execution_count": 8,
   "metadata": {
    "id": "PKzIVKZguKR_",
    "outputId": "d886e3d4-3d5a-41d2-e22d-bc3726741a34"
   },
   "outputs": [
    {
     "data": {
      "text/plain": [
       "<matplotlib.collections.PathCollection at 0x22735ea1e80>"
      ]
     },
     "execution_count": 8,
     "metadata": {},
     "output_type": "execute_result"
    },
    {
     "data": {
      "image/png": "[encoded data removed]",
      "text/plain": [
       "<Figure size 432x288 with 1 Axes>"
      ]
     },
     "metadata": {
      "needs_background": "light"
     },
     "output_type": "display_data"
    }
   ],
   "source": [
    "# Categorical attributes\n",
    "\n",
    "plt.scatter(range(len(df)), df['1'])"
   ]
  },
  {
   "cell_type": "code",
   "execution_count": 9,
   "metadata": {
    "id": "Vr4o5d6XuKSA",
    "outputId": "3b235e3e-9df8-4fca-de48-b4f7e4bf8aab"
   },
   "outputs": [
    {
     "data": {
      "text/plain": [
       "<matplotlib.collections.PathCollection at 0x22735f4da00>"
      ]
     },
     "execution_count": 9,
     "metadata": {},
     "output_type": "execute_result"
    },
    {
     "data": {
      "image/png": "[encoded data removed]",
      "text/plain": [
       "<Figure size 432x288 with 1 Axes>"
      ]
     },
     "metadata": {
      "needs_background": "light"
     },
     "output_type": "display_data"
    }
   ],
   "source": [
    "# Numerical attributes\n",
    "\n",
    "plt.scatter(range(len(df)), df['2'])"
   ]
  },
  {
   "cell_type": "markdown",
   "metadata": {
    "id": "LSqVVR-uuKSB"
   },
   "source": [
    "### Preprocessing"
   ]
  },
  {
   "cell_type": "markdown",
   "metadata": {
    "id": "5BiMsrFUuKSB"
   },
   "source": [
    "### Task 0\n",
    "\n",
    "**a)** Rename the first 14th (relevant) columns as `col1`, `col2` ... `col14` and the last column as `target`. Your function should return both the data corresponding to the _X values_ and the _Y values_.\n",
    "\n",
    "_Hint:_ You can use the `drop` function explained [here](https://pandas.pydata.org/pandas-docs/stable/reference/api/pandas.DataFrame.drop.html) to eliminate the first column."
   ]
  },
  {
   "cell_type": "code",
   "execution_count": 10,
   "metadata": {
    "id": "L9mBseMBuKSC"
   },
   "outputs": [],
   "source": [
    "def clean_df(df):\n",
    "    'TO DO'\n",
    "    new_df = df.drop(['Unnamed: 0'], axis=1)\n",
    "    new_df = new_df.rename(columns={\"1\": \"col1\", \"2\": \"col2\", \"3\": \"col3\", \"4\": \"col4\", \"5\": \"col5\", \"6\": \"col6\", \"7\": \"col7\", \"8\": \"col8\", \"9\": \"col9\", \"9\": \"col9\", \"10\": \"col10\", \"11\": \"col11\", \"12\": \"col12\", \"13\": \"col13\", \"14\": \"col14\", \"15\": \"target\"})\n",
    "    dataX = new_df.iloc[:,0:-1]\n",
    "    dataY = new_df.iloc[:,-1]\n",
    "    return dataX, dataY"
   ]
  },
  {
   "cell_type": "code",
   "execution_count": 11,
   "metadata": {
    "id": "o4NDx2gYuKSC"
   },
   "outputs": [],
   "source": [
    "dataX, dataY = clean_df(df)"
   ]
  },
  {
   "cell_type": "code",
   "execution_count": 12,
   "metadata": {
    "id": "ryH_vROXuKSD",
    "outputId": "c4d5f218-d264-44c6-93df-1b2a3b57960f"
   },
   "outputs": [
    {
     "data": {
      "text/html": [
       "<div>\n",
       "<style scoped>\n",
       "    .dataframe tbody tr th:only-of-type {\n",
       "        vertical-align: middle;\n",
       "    }\n",
       "\n",
       "    .dataframe tbody tr th {\n",
       "        vertical-align: top;\n",
       "    }\n",
       "\n",
       "    .dataframe thead th {\n",
       "        text-align: right;\n",
       "    }\n",
       "</style>\n",
       "<table border=\"1\" class=\"dataframe\">\n",
       "  <thead>\n",
       "    <tr style=\"text-align: right;\">\n",
       "      <th></th>\n",
       "      <th>col1</th>\n",
       "      <th>col2</th>\n",
       "      <th>col3</th>\n",
       "      <th>col4</th>\n",
       "      <th>col5</th>\n",
       "      <th>col6</th>\n",
       "      <th>col7</th>\n",
       "      <th>col8</th>\n",
       "      <th>col9</th>\n",
       "      <th>col10</th>\n",
       "      <th>col11</th>\n",
       "      <th>col12</th>\n",
       "      <th>col13</th>\n",
       "      <th>col14</th>\n",
       "    </tr>\n",
       "  </thead>\n",
       "  <tbody>\n",
       "    <tr>\n",
       "      <th>0</th>\n",
       "      <td>1</td>\n",
       "      <td>22.08</td>\n",
       "      <td>11.46</td>\n",
       "      <td>2</td>\n",
       "      <td>4</td>\n",
       "      <td>4</td>\n",
       "      <td>1.585</td>\n",
       "      <td>0</td>\n",
       "      <td>0</td>\n",
       "      <td>0</td>\n",
       "      <td>1</td>\n",
       "      <td>2</td>\n",
       "      <td>100</td>\n",
       "      <td>1213</td>\n",
       "    </tr>\n",
       "    <tr>\n",
       "      <th>1</th>\n",
       "      <td>0</td>\n",
       "      <td>22.67</td>\n",
       "      <td>7.00</td>\n",
       "      <td>2</td>\n",
       "      <td>8</td>\n",
       "      <td>4</td>\n",
       "      <td>0.165</td>\n",
       "      <td>0</td>\n",
       "      <td>0</td>\n",
       "      <td>0</td>\n",
       "      <td>0</td>\n",
       "      <td>2</td>\n",
       "      <td>160</td>\n",
       "      <td>1</td>\n",
       "    </tr>\n",
       "    <tr>\n",
       "      <th>2</th>\n",
       "      <td>0</td>\n",
       "      <td>29.58</td>\n",
       "      <td>1.75</td>\n",
       "      <td>1</td>\n",
       "      <td>4</td>\n",
       "      <td>4</td>\n",
       "      <td>1.250</td>\n",
       "      <td>0</td>\n",
       "      <td>0</td>\n",
       "      <td>0</td>\n",
       "      <td>1</td>\n",
       "      <td>2</td>\n",
       "      <td>280</td>\n",
       "      <td>1</td>\n",
       "    </tr>\n",
       "    <tr>\n",
       "      <th>3</th>\n",
       "      <td>0</td>\n",
       "      <td>21.67</td>\n",
       "      <td>11.50</td>\n",
       "      <td>1</td>\n",
       "      <td>5</td>\n",
       "      <td>3</td>\n",
       "      <td>0.000</td>\n",
       "      <td>1</td>\n",
       "      <td>1</td>\n",
       "      <td>11</td>\n",
       "      <td>1</td>\n",
       "      <td>2</td>\n",
       "      <td>0</td>\n",
       "      <td>1</td>\n",
       "    </tr>\n",
       "    <tr>\n",
       "      <th>4</th>\n",
       "      <td>1</td>\n",
       "      <td>20.17</td>\n",
       "      <td>8.17</td>\n",
       "      <td>2</td>\n",
       "      <td>6</td>\n",
       "      <td>4</td>\n",
       "      <td>1.960</td>\n",
       "      <td>1</td>\n",
       "      <td>1</td>\n",
       "      <td>14</td>\n",
       "      <td>0</td>\n",
       "      <td>2</td>\n",
       "      <td>60</td>\n",
       "      <td>159</td>\n",
       "    </tr>\n",
       "  </tbody>\n",
       "</table>\n",
       "</div>"
      ],
      "text/plain": [
       "   col1   col2   col3  col4  col5  col6   col7  col8  col9  col10  col11  \\\n",
       "0     1  22.08  11.46     2     4     4  1.585     0     0      0      1   \n",
       "1     0  22.67   7.00     2     8     4  0.165     0     0      0      0   \n",
       "2     0  29.58   1.75     1     4     4  1.250     0     0      0      1   \n",
       "3     0  21.67  11.50     1     5     3  0.000     1     1     11      1   \n",
       "4     1  20.17   8.17     2     6     4  1.960     1     1     14      0   \n",
       "\n",
       "   col12  col13  col14  \n",
       "0      2    100   1213  \n",
       "1      2    160      1  \n",
       "2      2    280      1  \n",
       "3      2      0      1  \n",
       "4      2     60    159  "
      ]
     },
     "execution_count": 12,
     "metadata": {},
     "output_type": "execute_result"
    }
   ],
   "source": [
    "# Verify result\n",
    "dataX.head()"
   ]
  },
  {
   "cell_type": "code",
   "execution_count": 13,
   "metadata": {},
   "outputs": [
    {
     "data": {
      "text/plain": [
       "0    0\n",
       "1    0\n",
       "2    0\n",
       "3    1\n",
       "4    1\n",
       "Name: target, dtype: int64"
      ]
     },
     "execution_count": 13,
     "metadata": {},
     "output_type": "execute_result"
    }
   ],
   "source": [
    "dataY.head()"
   ]
  },
  {
   "cell_type": "markdown",
   "metadata": {
    "id": "Ab1QlIMwuKSD"
   },
   "source": [
    "**b)** Which columns could be classified as categorical? Plot one column of your choice containing numerical values. Justify your choice (please use the `markdown` option provided in your notebook)."
   ]
  },
  {
   "cell_type": "code",
   "execution_count": 14,
   "metadata": {
    "id": "fHVXKRaPuKSD"
   },
   "outputs": [
    {
     "data": {
      "text/plain": [
       "<matplotlib.collections.PathCollection at 0x22735fc1cd0>"
      ]
     },
     "execution_count": 14,
     "metadata": {},
     "output_type": "execute_result"
    },
    {
     "data": {
      "image/png": "[encoded data removed]",
      "text/plain": [
       "<Figure size 432x288 with 1 Axes>"
      ]
     },
     "metadata": {
      "needs_background": "light"
     },
     "output_type": "display_data"
    }
   ],
   "source": [
    "# TO DO: \n",
    "plt.scatter(range(len(df)), dataX['col7']) # This is a numeric column"
   ]
  },
  {
   "cell_type": "markdown",
   "metadata": {},
   "source": [
    "Categorical columns are: col1, col8, col9, col11 (which could be one-hot encoded). It is also possible that columns col4, col5, col6, col10, col12 and even col13 and col14 have categorical values if they are label encoded. I think that col2, col3 and col7 have numerical values. But I don't think there's any way to know for sure."
   ]
  },
  {
   "cell_type": "code",
   "execution_count": 15,
   "metadata": {
    "id": "UnZlLDtSuKSE",
    "outputId": "574e3c69-a33e-4129-a90d-f4af91f9326c"
   },
   "outputs": [
    {
     "data": {
      "text/plain": [
       "0    0\n",
       "1    0\n",
       "2    0\n",
       "3    1\n",
       "4    1\n",
       "Name: target, dtype: int64"
      ]
     },
     "execution_count": 15,
     "metadata": {},
     "output_type": "execute_result"
    }
   ],
   "source": [
    "# Verify result\n",
    "dataY.head()"
   ]
  },
  {
   "cell_type": "markdown",
   "metadata": {
    "id": "GobV6xJkuKSE"
   },
   "source": [
    "**c)** Does the data stored in the `target` data frame have numerical attributes? Besides the graphical representation, how can the values of a column be classified as numerical or categorical?"
   ]
  },
  {
   "cell_type": "markdown",
   "metadata": {
    "id": "SijUs2yduKSF"
   },
   "source": [
    "TO DO:\n",
    "I think the data in the column target has categorical attributes, not numerical. In order to decide whether the values of a column are numerical or categorical, we could observe whether the values are discrete (categorical) or continuous (numerical)."
   ]
  },
  {
   "cell_type": "markdown",
   "metadata": {
    "id": "t9xX0frwuKSF"
   },
   "source": [
    "### Normalization"
   ]
  },
  {
   "cell_type": "markdown",
   "metadata": {
    "id": "pl3RXtBsuKSF"
   },
   "source": [
    "### Task 1\n",
    "\n",
    "The following formula computes a _Z score_ and measures how far a single raw data value is from the population mean.\n",
    "\n",
    "\\begin{equation*}\n",
    "z = \\frac{X - \\mu }{\\sigma }\n",
    "\\end{equation*}\n",
    "\n",
    "where:\n",
    "* **_X_** is a single raw data value\n",
    "* `mu` is the population mean\n",
    "* `sigma` is the population standard deviation\n",
    "\n",
    "The `compute_stats` function receives a `DataFrame object` for which builds a `stats DataFrame` where the mean and standard deviation are computed for each column of the input.\n",
    "\n",
    "The final result should have 3 columns:\n",
    "* the name of the column for which the mean and the standard deviation were computed,\n",
    "* the mean column computed for the values in the corresponding column,\n",
    "* the standard deviation computed for the values in the corresponding column.\n",
    "\n",
    "_Hints:_ \n",
    "1. You might want to use `df.loc` property [which can be found here.](https://pandas.pydata.org/pandas-docs/stable/reference/api/pandas.DataFrame.loc.html)\n",
    "\n",
    "2. Verify your data by using `notnull()` [function.](https://pandas.pydata.org/pandas-docs/stable/reference/api/pandas.DataFrame.notnull.html)\n",
    "\n",
    "You may use:\n",
    "`df.loc[df[column_name].notnull(), column_name]` to access all the elements of a column that are not null."
   ]
  },
  {
   "cell_type": "code",
   "execution_count": 16,
   "metadata": {
    "id": "2FiotVQ6uKSG"
   },
   "outputs": [],
   "source": [
    "def compute_stats(df):\n",
    "    # Create a new DataFrame using df's columns as a starting point\n",
    "    # stats = ...\n",
    "    'TO DO'\n",
    "    ds = {'name': df.columns}\n",
    "    stats = pd.DataFrame(data=ds)\n",
    "    \n",
    "    # Initialise the mean and std column by 0\n",
    "    'TO DO'\n",
    "    stats['mean'] = 0\n",
    "    stats['std'] = 0\n",
    "    \n",
    "    # Iterate through the columns of df and for each column compute mean and std.\n",
    "    for col in df.columns:\n",
    "        'TO DO'\n",
    "        stats.loc[stats.name == col, 'mean'] = df.loc[df[col].notnull(), col].mean()\n",
    "        stats.loc[stats.name == col, 'std'] = df.loc[df[col].notnull(), col].std()\n",
    "    return stats"
   ]
  },
  {
   "cell_type": "code",
   "execution_count": 17,
   "metadata": {
    "id": "NoTh8NmZuKSH"
   },
   "outputs": [],
   "source": [
    "stats_dataX = compute_stats(dataX)"
   ]
  },
  {
   "cell_type": "code",
   "execution_count": 18,
   "metadata": {
    "id": "XbY6dLyCuKSH",
    "outputId": "1b7b6ea5-7ca9-45f0-8b64-29f898e59b44"
   },
   "outputs": [
    {
     "data": {
      "text/html": [
       "<div>\n",
       "<style scoped>\n",
       "    .dataframe tbody tr th:only-of-type {\n",
       "        vertical-align: middle;\n",
       "    }\n",
       "\n",
       "    .dataframe tbody tr th {\n",
       "        vertical-align: top;\n",
       "    }\n",
       "\n",
       "    .dataframe thead th {\n",
       "        text-align: right;\n",
       "    }\n",
       "</style>\n",
       "<table border=\"1\" class=\"dataframe\">\n",
       "  <thead>\n",
       "    <tr style=\"text-align: right;\">\n",
       "      <th></th>\n",
       "      <th>name</th>\n",
       "      <th>mean</th>\n",
       "      <th>std</th>\n",
       "    </tr>\n",
       "  </thead>\n",
       "  <tbody>\n",
       "    <tr>\n",
       "      <th>0</th>\n",
       "      <td>col1</td>\n",
       "      <td>0.678261</td>\n",
       "      <td>0.467482</td>\n",
       "    </tr>\n",
       "    <tr>\n",
       "      <th>1</th>\n",
       "      <td>col2</td>\n",
       "      <td>31.568203</td>\n",
       "      <td>11.853273</td>\n",
       "    </tr>\n",
       "    <tr>\n",
       "      <th>2</th>\n",
       "      <td>col3</td>\n",
       "      <td>4.758725</td>\n",
       "      <td>4.978163</td>\n",
       "    </tr>\n",
       "    <tr>\n",
       "      <th>3</th>\n",
       "      <td>col4</td>\n",
       "      <td>1.766667</td>\n",
       "      <td>0.430063</td>\n",
       "    </tr>\n",
       "    <tr>\n",
       "      <th>4</th>\n",
       "      <td>col5</td>\n",
       "      <td>7.372464</td>\n",
       "      <td>3.683265</td>\n",
       "    </tr>\n",
       "    <tr>\n",
       "      <th>5</th>\n",
       "      <td>col6</td>\n",
       "      <td>4.692754</td>\n",
       "      <td>1.992316</td>\n",
       "    </tr>\n",
       "    <tr>\n",
       "      <th>6</th>\n",
       "      <td>col7</td>\n",
       "      <td>2.223406</td>\n",
       "      <td>3.346513</td>\n",
       "    </tr>\n",
       "    <tr>\n",
       "      <th>7</th>\n",
       "      <td>col8</td>\n",
       "      <td>0.523188</td>\n",
       "      <td>0.499824</td>\n",
       "    </tr>\n",
       "    <tr>\n",
       "      <th>8</th>\n",
       "      <td>col9</td>\n",
       "      <td>0.427536</td>\n",
       "      <td>0.495080</td>\n",
       "    </tr>\n",
       "    <tr>\n",
       "      <th>9</th>\n",
       "      <td>col10</td>\n",
       "      <td>2.400000</td>\n",
       "      <td>4.862940</td>\n",
       "    </tr>\n",
       "    <tr>\n",
       "      <th>10</th>\n",
       "      <td>col11</td>\n",
       "      <td>0.457971</td>\n",
       "      <td>0.498592</td>\n",
       "    </tr>\n",
       "    <tr>\n",
       "      <th>11</th>\n",
       "      <td>col12</td>\n",
       "      <td>1.928986</td>\n",
       "      <td>0.298813</td>\n",
       "    </tr>\n",
       "    <tr>\n",
       "      <th>12</th>\n",
       "      <td>col13</td>\n",
       "      <td>184.014493</td>\n",
       "      <td>172.159274</td>\n",
       "    </tr>\n",
       "    <tr>\n",
       "      <th>13</th>\n",
       "      <td>col14</td>\n",
       "      <td>1018.385507</td>\n",
       "      <td>5210.102598</td>\n",
       "    </tr>\n",
       "  </tbody>\n",
       "</table>\n",
       "</div>"
      ],
      "text/plain": [
       "     name         mean          std\n",
       "0    col1     0.678261     0.467482\n",
       "1    col2    31.568203    11.853273\n",
       "2    col3     4.758725     4.978163\n",
       "3    col4     1.766667     0.430063\n",
       "4    col5     7.372464     3.683265\n",
       "5    col6     4.692754     1.992316\n",
       "6    col7     2.223406     3.346513\n",
       "7    col8     0.523188     0.499824\n",
       "8    col9     0.427536     0.495080\n",
       "9   col10     2.400000     4.862940\n",
       "10  col11     0.457971     0.498592\n",
       "11  col12     1.928986     0.298813\n",
       "12  col13   184.014493   172.159274\n",
       "13  col14  1018.385507  5210.102598"
      ]
     },
     "execution_count": 18,
     "metadata": {},
     "output_type": "execute_result"
    }
   ],
   "source": [
    "# Expected Output:\n",
    "stats_dataX"
   ]
  },
  {
   "cell_type": "markdown",
   "metadata": {
    "id": "FU6v8vPruKSO"
   },
   "source": [
    "To finish this task, use the `stats DataFrame` computed before and compute the _Z score_ formula."
   ]
  },
  {
   "cell_type": "code",
   "execution_count": 19,
   "metadata": {
    "id": "U8y-SbtBuKSP"
   },
   "outputs": [],
   "source": [
    "def normalize(df, s):\n",
    "    # Iterate through the columns of df\n",
    "    df_std = df.copy()\n",
    "    for col in df.columns:\n",
    "        # Use the df.loc property & notnull() to select data\n",
    "        'TO DO'\n",
    "        df_std[col] = (df_std[col] - df_std[col].mean()) / df_std[col].std()\n",
    "    return df_std"
   ]
  },
  {
   "cell_type": "code",
   "execution_count": 20,
   "metadata": {
    "id": "y47Li0s7uKSP"
   },
   "outputs": [],
   "source": [
    "norm_dataX = normalize(dataX, stats_dataX)"
   ]
  },
  {
   "cell_type": "code",
   "execution_count": 21,
   "metadata": {
    "id": "IhA-lzRguKSQ",
    "outputId": "8a7357aa-1ecb-4949-cf00-40faa299f434"
   },
   "outputs": [
    {
     "data": {
      "text/html": [
       "<div>\n",
       "<style scoped>\n",
       "    .dataframe tbody tr th:only-of-type {\n",
       "        vertical-align: middle;\n",
       "    }\n",
       "\n",
       "    .dataframe tbody tr th {\n",
       "        vertical-align: top;\n",
       "    }\n",
       "\n",
       "    .dataframe thead th {\n",
       "        text-align: right;\n",
       "    }\n",
       "</style>\n",
       "<table border=\"1\" class=\"dataframe\">\n",
       "  <thead>\n",
       "    <tr style=\"text-align: right;\">\n",
       "      <th></th>\n",
       "      <th>col1</th>\n",
       "      <th>col2</th>\n",
       "      <th>col3</th>\n",
       "      <th>col4</th>\n",
       "      <th>col5</th>\n",
       "      <th>col6</th>\n",
       "      <th>col7</th>\n",
       "      <th>col8</th>\n",
       "      <th>col9</th>\n",
       "      <th>col10</th>\n",
       "      <th>col11</th>\n",
       "      <th>col12</th>\n",
       "      <th>col13</th>\n",
       "      <th>col14</th>\n",
       "    </tr>\n",
       "  </thead>\n",
       "  <tbody>\n",
       "    <tr>\n",
       "      <th>0</th>\n",
       "      <td>0.688238</td>\n",
       "      <td>-0.800471</td>\n",
       "      <td>1.346134</td>\n",
       "      <td>0.542556</td>\n",
       "      <td>-0.915618</td>\n",
       "      <td>-0.347713</td>\n",
       "      <td>-0.190767</td>\n",
       "      <td>-1.046745</td>\n",
       "      <td>-0.863570</td>\n",
       "      <td>-0.493529</td>\n",
       "      <td>1.087120</td>\n",
       "      <td>0.237655</td>\n",
       "      <td>-0.488004</td>\n",
       "      <td>0.037353</td>\n",
       "    </tr>\n",
       "    <tr>\n",
       "      <th>1</th>\n",
       "      <td>-1.450880</td>\n",
       "      <td>-0.750696</td>\n",
       "      <td>0.450221</td>\n",
       "      <td>0.542556</td>\n",
       "      <td>0.170375</td>\n",
       "      <td>-0.347713</td>\n",
       "      <td>-0.615090</td>\n",
       "      <td>-1.046745</td>\n",
       "      <td>-0.863570</td>\n",
       "      <td>-0.493529</td>\n",
       "      <td>-0.918529</td>\n",
       "      <td>0.237655</td>\n",
       "      <td>-0.139490</td>\n",
       "      <td>-0.195272</td>\n",
       "    </tr>\n",
       "    <tr>\n",
       "      <th>2</th>\n",
       "      <td>-1.450880</td>\n",
       "      <td>-0.167735</td>\n",
       "      <td>-0.604384</td>\n",
       "      <td>-1.782685</td>\n",
       "      <td>-0.915618</td>\n",
       "      <td>-0.347713</td>\n",
       "      <td>-0.290872</td>\n",
       "      <td>-1.046745</td>\n",
       "      <td>-0.863570</td>\n",
       "      <td>-0.493529</td>\n",
       "      <td>1.087120</td>\n",
       "      <td>0.237655</td>\n",
       "      <td>0.557539</td>\n",
       "      <td>-0.195272</td>\n",
       "    </tr>\n",
       "    <tr>\n",
       "      <th>3</th>\n",
       "      <td>-1.450880</td>\n",
       "      <td>-0.835061</td>\n",
       "      <td>1.354169</td>\n",
       "      <td>-1.782685</td>\n",
       "      <td>-0.644120</td>\n",
       "      <td>-0.849641</td>\n",
       "      <td>-0.664395</td>\n",
       "      <td>0.953958</td>\n",
       "      <td>1.156306</td>\n",
       "      <td>1.768477</td>\n",
       "      <td>1.087120</td>\n",
       "      <td>0.237655</td>\n",
       "      <td>-1.068862</td>\n",
       "      <td>-0.195272</td>\n",
       "    </tr>\n",
       "    <tr>\n",
       "      <th>4</th>\n",
       "      <td>0.688238</td>\n",
       "      <td>-0.961608</td>\n",
       "      <td>0.685248</td>\n",
       "      <td>0.542556</td>\n",
       "      <td>-0.372622</td>\n",
       "      <td>-0.347713</td>\n",
       "      <td>-0.078711</td>\n",
       "      <td>0.953958</td>\n",
       "      <td>1.156306</td>\n",
       "      <td>2.385388</td>\n",
       "      <td>-0.918529</td>\n",
       "      <td>0.237655</td>\n",
       "      <td>-0.720347</td>\n",
       "      <td>-0.164946</td>\n",
       "    </tr>\n",
       "  </tbody>\n",
       "</table>\n",
       "</div>"
      ],
      "text/plain": [
       "       col1      col2      col3      col4      col5      col6      col7  \\\n",
       "0  0.688238 -0.800471  1.346134  0.542556 -0.915618 -0.347713 -0.190767   \n",
       "1 -1.450880 -0.750696  0.450221  0.542556  0.170375 -0.347713 -0.615090   \n",
       "2 -1.450880 -0.167735 -0.604384 -1.782685 -0.915618 -0.347713 -0.290872   \n",
       "3 -1.450880 -0.835061  1.354169 -1.782685 -0.644120 -0.849641 -0.664395   \n",
       "4  0.688238 -0.961608  0.685248  0.542556 -0.372622 -0.347713 -0.078711   \n",
       "\n",
       "       col8      col9     col10     col11     col12     col13     col14  \n",
       "0 -1.046745 -0.863570 -0.493529  1.087120  0.237655 -0.488004  0.037353  \n",
       "1 -1.046745 -0.863570 -0.493529 -0.918529  0.237655 -0.139490 -0.195272  \n",
       "2 -1.046745 -0.863570 -0.493529  1.087120  0.237655  0.557539 -0.195272  \n",
       "3  0.953958  1.156306  1.768477  1.087120  0.237655 -1.068862 -0.195272  \n",
       "4  0.953958  1.156306  2.385388 -0.918529  0.237655 -0.720347 -0.164946  "
      ]
     },
     "execution_count": 21,
     "metadata": {},
     "output_type": "execute_result"
    }
   ],
   "source": [
    "# Expected Output:\n",
    "norm_dataX.head()"
   ]
  },
  {
   "cell_type": "markdown",
   "metadata": {
    "id": "-W2R-gNvuKSQ"
   },
   "source": [
    "### Task 2\n",
    " \n",
    "Fill in the missing elements in:\n",
    " \n",
    "**a)** the `get_score` function below:"
   ]
  },
  {
   "cell_type": "code",
   "execution_count": 22,
   "metadata": {
    "id": "jUZTxT3s52Nq"
   },
   "outputs": [],
   "source": [
    "from sklearn.metrics import roc_auc_score"
   ]
  },
  {
   "cell_type": "code",
   "execution_count": 23,
   "metadata": {
    "id": "MqxaWx1TuKSR"
   },
   "outputs": [],
   "source": [
    "def get_score(model, X_train, X_test, y_train, y_test):\n",
    "    model.fit(X_train, y_train.values.ravel())\n",
    "    # train_roc_scores = TO DO\n",
    "    train_roc_scores = roc_auc_score(y_train,model.predict(X_train))\n",
    "    # test_roc_scores = TO DO\n",
    "    test_roc_scores = roc_auc_score(y_test,model.predict(X_test))\n",
    "    return train_roc_scores, test_roc_scores"
   ]
  },
  {
   "cell_type": "code",
   "execution_count": 24,
   "metadata": {
    "id": "YfQQRTcduKSR"
   },
   "outputs": [],
   "source": [
    "# Perform k-fold manually\n",
    " \n",
    "dataX_i = list(dataX.index.values)\n",
    " \n",
    "import random\n",
    " \n",
    "random.shuffle(dataX_i)"
   ]
  },
  {
   "cell_type": "markdown",
   "metadata": {
    "id": "WV8QKSl2uKSR"
   },
   "source": [
    "**b)** Store the rearranged indices in 5 different lists, congregated in the list of lists `xi`."
   ]
  },
  {
   "cell_type": "code",
   "execution_count": 41,
   "metadata": {
    "id": "Bgu4SFYruKSS"
   },
   "outputs": [],
   "source": [
    "# xi = TO DO\n",
    "xi = []\n",
    "n = int(len(dataX_i)/5)\n",
    "for i in range(0, len(dataX_i), n):\n",
    "    xi.append(dataX_i[i:i + n])"
   ]
  },
  {
   "cell_type": "code",
   "execution_count": 42,
   "metadata": {
    "id": "ZS9bgC52uKSS",
    "outputId": "b3ea6ed9-7788-48cb-87d2-4adff003a939"
   },
   "outputs": [
    {
     "name": "stdout",
     "output_type": "stream",
     "text": [
      "[[128, 675, 538, 626, 168, 483, 72, 245, 166, 122, 640, 362, 465, 369, 55, 19, 526, 684, 53, 343, 165, 268, 237, 332, 653, 520, 162, 530, 645, 570, 266, 324, 58, 201, 184, 472, 404, 77, 271, 399, 514, 620, 170, 457, 156, 376, 477, 150, 350, 293, 668, 344, 417, 432, 149, 613, 327, 453, 542, 17, 395, 307, 73, 226, 476, 218, 642, 387, 541, 512, 181, 172, 262, 65, 598, 602, 56, 259, 192, 241, 433, 398, 159, 624, 413, 125, 375, 347, 188, 117, 521, 180, 353, 649, 32, 515, 454, 85, 489, 7, 211, 272, 63, 195, 291, 443, 223, 207, 301, 348, 416, 511, 402, 326, 590, 560, 420, 629, 297, 605, 596, 357, 229, 199, 544, 47, 543, 102, 364, 380, 217, 575, 425, 349, 442, 312, 564, 565], [663, 555, 468, 255, 292, 70, 438, 495, 571, 28, 133, 313, 290, 584, 660, 323, 144, 154, 174, 46, 667, 658, 167, 177, 196, 595, 116, 68, 27, 329, 263, 69, 42, 361, 142, 366, 24, 139, 29, 302, 659, 491, 308, 236, 131, 547, 147, 295, 401, 383, 132, 641, 486, 115, 424, 16, 152, 676, 95, 278, 687, 441, 97, 93, 83, 487, 202, 106, 384, 608, 568, 516, 405, 175, 665, 497, 593, 478, 581, 673, 84, 393, 305, 674, 296, 299, 43, 579, 60, 389, 529, 467, 146, 390, 13, 220, 269, 234, 336, 22, 163, 623, 190, 444, 247, 386, 303, 279, 215, 615, 458, 464, 51, 341, 627, 484, 492, 358, 558, 479, 577, 685, 370, 683, 450, 656, 586, 354, 501, 321, 562, 136, 94, 161, 204, 176, 536, 503], [304, 40, 311, 289, 130, 319, 409, 135, 346, 382, 439, 448, 87, 141, 157, 580, 111, 630, 10, 502, 173, 306, 257, 612, 455, 265, 249, 407, 363, 689, 331, 567, 583, 545, 569, 158, 532, 119, 655, 15, 666, 548, 92, 267, 137, 12, 504, 309, 205, 337, 518, 614, 283, 50, 328, 592, 678, 475, 318, 248, 462, 400, 54, 224, 107, 646, 310, 412, 320, 246, 585, 222, 397, 554, 471, 422, 539, 415, 4, 110, 98, 368, 446, 171, 513, 490, 338, 473, 551, 178, 423, 650, 681, 187, 488, 316, 314, 230, 235, 191, 213, 210, 193, 71, 34, 496, 23, 664, 44, 252, 300, 617, 408, 600, 563, 274, 251, 373, 597, 639, 78, 219, 20, 333, 90, 421, 394, 315, 5, 636, 654, 164, 688, 519, 679, 523, 436, 672], [25, 14, 426, 517, 240, 379, 298, 82, 610, 461, 335, 38, 460, 435, 546, 49, 275, 619, 482, 31, 183, 367, 553, 360, 499, 633, 525, 507, 325, 418, 374, 160, 59, 11, 611, 61, 451, 233, 285, 449, 244, 74, 88, 429, 522, 216, 221, 91, 434, 628, 206, 638, 634, 657, 198, 185, 445, 670, 524, 533, 112, 447, 388, 508, 151, 470, 648, 197, 281, 67, 355, 510, 578, 677, 359, 622, 556, 631, 480, 686, 428, 9, 225, 625, 203, 437, 566, 264, 372, 89, 550, 591, 36, 340, 153, 35, 385, 2, 618, 261, 391, 392, 103, 430, 494, 637, 101, 194, 661, 3, 582, 632, 21, 528, 238, 64, 100, 549, 431, 1, 33, 561, 601, 118, 30, 39, 182, 227, 573, 466, 209, 250, 37, 239, 635, 62, 493, 381], [6, 8, 0, 452, 114, 108, 500, 140, 123, 481, 99, 587, 256, 531, 284, 527, 506, 559, 120, 288, 80, 576, 616, 411, 351, 66, 594, 540, 228, 113, 253, 155, 396, 463, 588, 254, 200, 138, 124, 45, 365, 589, 414, 403, 143, 378, 572, 270, 286, 334, 121, 509, 485, 287, 75, 214, 603, 669, 18, 621, 52, 145, 406, 474, 557, 282, 104, 76, 330, 371, 208, 410, 662, 169, 456, 86, 505, 273, 105, 644, 643, 79, 342, 276, 652, 574, 599, 212, 179, 231, 682, 647, 57, 680, 356, 339, 129, 427, 134, 609, 242, 498, 651, 459, 440, 277, 81, 127, 345, 535, 186, 607, 469, 26, 41, 260, 96, 294, 317, 419, 126, 352, 671, 280, 258, 534, 232, 243, 148, 322, 606, 604, 109, 48, 537, 552, 377, 189]]\n"
     ]
    }
   ],
   "source": [
    "print(xi)"
   ]
  },
  {
   "cell_type": "code",
   "execution_count": 49,
   "metadata": {
    "id": "ZlJb5fzxuKST"
   },
   "outputs": [],
   "source": [
    "train_scores_lr = []\n",
    "test_scores_lr = []"
   ]
  },
  {
   "cell_type": "markdown",
   "metadata": {
    "id": "zoNUR6m26VI6"
   },
   "source": [
    "### Cross Validation\n",
    "\n",
    "Cross-Validation is a statistical method of evaluating and comparing learning algorithms by dividing data into two segments: one used to learn or train a model and the other used to validate the model. In typical cross-validation, the training and validation sets must cross-over in successive rounds such that each data point has a chance of being validated against. [Source](https://doi.org/10.1007/978-0-387-39940-9_565)\n",
    "\n",
    "One example of _Cross Validation_ techniques that can be useful is represented by k-fold cross validation. In our exercise, let us set the value of `k=5` such that we test different portions of our dataset and verify the performance of the model."
   ]
  },
  {
   "cell_type": "code",
   "execution_count": 50,
   "metadata": {
    "id": "a3StCSFxuKST",
    "outputId": "eb8097e9-2eaa-411d-eb81-577351be1f32"
   },
   "outputs": [],
   "source": [
    "i=0\n",
    "while i < 5:\n",
    "    test_xi = np.asarray(xi[i]) \n",
    "    train_xi = np.concatenate(xi[:i] + xi[i+1:])\n",
    "    \n",
    "    X_train, X_test = dataX.iloc[train_xi, :], dataX.iloc[test_xi, :]\n",
    "    y_train, y_test = dataY.iloc[train_xi], dataY.iloc[test_xi]\n",
    "    \n",
    "    # Compute stats and normalize data\n",
    "    stats = compute_stats(X_train)\n",
    "    \n",
    "    X_train = normalize(X_train, stats)\n",
    "    X_test = normalize(X_test, stats)\n",
    "    \n",
    "    # Perform Logistic Regression\n",
    "    logReg = LogisticRegression(solver='liblinear')\n",
    "    #TO DO\n",
    "    logReg.fit(X_train, y_train)\n",
    "    \n",
    "    # Evaluate model\n",
    "    train_slr, test_slr = get_score(logReg, X_train, X_test, y_train, y_test)\n",
    "    \n",
    "    # Store the obtained results for further comparisons\n",
    "    train_scores_lr.append(train_slr)\n",
    "    test_scores_lr.append(test_slr)\n",
    "    \n",
    "    i += 1"
   ]
  },
  {
   "cell_type": "code",
   "execution_count": 51,
   "metadata": {
    "id": "aKDNHIUjuKSU",
    "outputId": "2bb7e1ee-45e4-468b-f06f-9fdf519b8ad6"
   },
   "outputs": [
    {
     "name": "stdout",
     "output_type": "stream",
     "text": [
      "Logistic Regression scores TRAIN:  [0.8769761730935156, 0.8711538461538462, 0.8790004645914914, 0.8850806451612903, 0.8764945002391201]\n",
      "Logistic Regression scores TEST:  [0.8628205128205129, 0.8607315535001051, 0.8544871794871796, 0.8583994850890366, 0.8582073664040878]\n"
     ]
    }
   ],
   "source": [
    "print('Logistic Regression scores TRAIN: ', train_scores_lr)\n",
    "print('Logistic Regression scores TEST: ', test_scores_lr)"
   ]
  },
  {
   "cell_type": "code",
   "execution_count": 53,
   "metadata": {
    "id": "5LvGGmcWuKSV"
   },
   "outputs": [
    {
     "data": {
      "text/html": [
       "<div>\n",
       "<style scoped>\n",
       "    .dataframe tbody tr th:only-of-type {\n",
       "        vertical-align: middle;\n",
       "    }\n",
       "\n",
       "    .dataframe tbody tr th {\n",
       "        vertical-align: top;\n",
       "    }\n",
       "\n",
       "    .dataframe thead th {\n",
       "        text-align: right;\n",
       "    }\n",
       "</style>\n",
       "<table border=\"1\" class=\"dataframe\">\n",
       "  <thead>\n",
       "    <tr style=\"text-align: right;\">\n",
       "      <th></th>\n",
       "      <th>LR scores train</th>\n",
       "      <th>LR scores test</th>\n",
       "    </tr>\n",
       "  </thead>\n",
       "  <tbody>\n",
       "    <tr>\n",
       "      <th>0</th>\n",
       "      <td>0.876976</td>\n",
       "      <td>0.862821</td>\n",
       "    </tr>\n",
       "    <tr>\n",
       "      <th>1</th>\n",
       "      <td>0.871154</td>\n",
       "      <td>0.860732</td>\n",
       "    </tr>\n",
       "    <tr>\n",
       "      <th>2</th>\n",
       "      <td>0.879000</td>\n",
       "      <td>0.854487</td>\n",
       "    </tr>\n",
       "    <tr>\n",
       "      <th>3</th>\n",
       "      <td>0.885081</td>\n",
       "      <td>0.858399</td>\n",
       "    </tr>\n",
       "    <tr>\n",
       "      <th>4</th>\n",
       "      <td>0.876495</td>\n",
       "      <td>0.858207</td>\n",
       "    </tr>\n",
       "  </tbody>\n",
       "</table>\n",
       "</div>"
      ],
      "text/plain": [
       "   LR scores train  LR scores test\n",
       "0         0.876976        0.862821\n",
       "1         0.871154        0.860732\n",
       "2         0.879000        0.854487\n",
       "3         0.885081        0.858399\n",
       "4         0.876495        0.858207"
      ]
     },
     "execution_count": 53,
     "metadata": {},
     "output_type": "execute_result"
    }
   ],
   "source": [
    "dataScores = pd.DataFrame()\n",
    "dataScores['LR scores train'] = train_scores_lr\n",
    "dataScores['LR scores test'] = test_scores_lr\n",
    "dataScores.to_csv(root_path + 'scores.csv')\n",
    "dataScores"
   ]
  },
  {
   "cell_type": "markdown",
   "metadata": {
    "id": "NLqftdoVuKSW"
   },
   "source": [
    "### Task 3\n",
    "\n",
    "**a)** Implement for this problem a Random Forest Classifier using the [sklearn library module](https://scikit-learn.org/stable/modules/generated/sklearn.ensemble.RandomForestClassifier.html) and optimise its parameters. Justify your conclusions. Add new columns to `dataScores DataFrame` for the obtained results.\n",
    "\n",
    "**b)** Implement for this problem a Linear Classifier using the [sklearn library module](https://scikit-learn.org/stable/modules/generated/sklearn.svm.LinearSVC.html) and optimise its parameters. Justify your conclusions. Add new columns to `dataScores DataFrame` for the obtained results.\n",
    "\n",
    "**c)** Which algorithm performed best? Why?"
   ]
  },
  {
   "cell_type": "code",
   "execution_count": 61,
   "metadata": {},
   "outputs": [
    {
     "data": {
      "text/html": [
       "<div>\n",
       "<style scoped>\n",
       "    .dataframe tbody tr th:only-of-type {\n",
       "        vertical-align: middle;\n",
       "    }\n",
       "\n",
       "    .dataframe tbody tr th {\n",
       "        vertical-align: top;\n",
       "    }\n",
       "\n",
       "    .dataframe thead th {\n",
       "        text-align: right;\n",
       "    }\n",
       "</style>\n",
       "<table border=\"1\" class=\"dataframe\">\n",
       "  <thead>\n",
       "    <tr style=\"text-align: right;\">\n",
       "      <th></th>\n",
       "      <th>LR scores train</th>\n",
       "      <th>LR scores test</th>\n",
       "      <th>RFC scores train</th>\n",
       "      <th>RFC scores test</th>\n",
       "      <th>LinR scores train</th>\n",
       "      <th>LinR scores test</th>\n",
       "    </tr>\n",
       "  </thead>\n",
       "  <tbody>\n",
       "    <tr>\n",
       "      <th>0</th>\n",
       "      <td>0.876976</td>\n",
       "      <td>0.862821</td>\n",
       "      <td>1.000000</td>\n",
       "      <td>0.897436</td>\n",
       "      <td>0.937824</td>\n",
       "      <td>0.926709</td>\n",
       "    </tr>\n",
       "    <tr>\n",
       "      <th>1</th>\n",
       "      <td>0.871154</td>\n",
       "      <td>0.860732</td>\n",
       "      <td>1.000000</td>\n",
       "      <td>0.874816</td>\n",
       "      <td>0.930943</td>\n",
       "      <td>0.964684</td>\n",
       "    </tr>\n",
       "    <tr>\n",
       "      <th>2</th>\n",
       "      <td>0.879000</td>\n",
       "      <td>0.854487</td>\n",
       "      <td>1.000000</td>\n",
       "      <td>0.819231</td>\n",
       "      <td>0.939616</td>\n",
       "      <td>0.925214</td>\n",
       "    </tr>\n",
       "    <tr>\n",
       "      <th>3</th>\n",
       "      <td>0.885081</td>\n",
       "      <td>0.858399</td>\n",
       "      <td>1.000000</td>\n",
       "      <td>0.852178</td>\n",
       "      <td>0.938893</td>\n",
       "      <td>0.929414</td>\n",
       "    </tr>\n",
       "    <tr>\n",
       "      <th>4</th>\n",
       "      <td>0.876495</td>\n",
       "      <td>0.858207</td>\n",
       "      <td>0.997967</td>\n",
       "      <td>0.833617</td>\n",
       "      <td>0.944856</td>\n",
       "      <td>0.901852</td>\n",
       "    </tr>\n",
       "  </tbody>\n",
       "</table>\n",
       "</div>"
      ],
      "text/plain": [
       "   LR scores train  LR scores test  RFC scores train  RFC scores test  \\\n",
       "0         0.876976        0.862821          1.000000         0.897436   \n",
       "1         0.871154        0.860732          1.000000         0.874816   \n",
       "2         0.879000        0.854487          1.000000         0.819231   \n",
       "3         0.885081        0.858399          1.000000         0.852178   \n",
       "4         0.876495        0.858207          0.997967         0.833617   \n",
       "\n",
       "   LinR scores train  LinR scores test  \n",
       "0           0.937824          0.926709  \n",
       "1           0.930943          0.964684  \n",
       "2           0.939616          0.925214  \n",
       "3           0.938893          0.929414  \n",
       "4           0.944856          0.901852  "
      ]
     },
     "execution_count": 61,
     "metadata": {},
     "output_type": "execute_result"
    }
   ],
   "source": [
    "#a\n",
    "from sklearn.ensemble import RandomForestClassifier\n",
    "\n",
    "train_scores_rfc = []\n",
    "test_scores_rfc = []\n",
    "\n",
    "i=0\n",
    "while i < 5:\n",
    "    test_xi = np.asarray(xi[i]) \n",
    "    train_xi = np.concatenate(xi[:i] + xi[i+1:])\n",
    "    \n",
    "    X_train, X_test = dataX.iloc[train_xi, :], dataX.iloc[test_xi, :]\n",
    "    y_train, y_test = dataY.iloc[train_xi], dataY.iloc[test_xi]\n",
    "    \n",
    "    # Compute stats and normalize data\n",
    "    stats = compute_stats(X_train)\n",
    "    \n",
    "    X_train = normalize(X_train, stats)\n",
    "    X_test = normalize(X_test, stats)\n",
    "    \n",
    "    # Perform Random Forest Classification\n",
    "    classifier = RandomForestClassifier(n_estimators = 50, criterion = 'entropy')\n",
    "    classifier.fit(X_train, y_train)\n",
    "    \n",
    "    # Evaluate model\n",
    "    train_srfc, test_srfc = get_score(classifier, X_train, X_test, y_train, y_test)\n",
    "    \n",
    "    # Store the obtained results for further comparisons\n",
    "    train_scores_rfc.append(train_srfc)\n",
    "    test_scores_rfc.append(test_srfc)\n",
    "    \n",
    "    i += 1\n",
    "\n",
    "dataScores['RFC scores train'] = train_scores_rfc\n",
    "dataScores['RFC scores test'] = test_scores_rfc\n",
    "dataScores.to_csv(root_path + 'scores.csv')\n",
    "dataScores"
   ]
  },
  {
   "cell_type": "code",
   "execution_count": 62,
   "metadata": {},
   "outputs": [
    {
     "data": {
      "text/html": [
       "<div>\n",
       "<style scoped>\n",
       "    .dataframe tbody tr th:only-of-type {\n",
       "        vertical-align: middle;\n",
       "    }\n",
       "\n",
       "    .dataframe tbody tr th {\n",
       "        vertical-align: top;\n",
       "    }\n",
       "\n",
       "    .dataframe thead th {\n",
       "        text-align: right;\n",
       "    }\n",
       "</style>\n",
       "<table border=\"1\" class=\"dataframe\">\n",
       "  <thead>\n",
       "    <tr style=\"text-align: right;\">\n",
       "      <th></th>\n",
       "      <th>LR scores train</th>\n",
       "      <th>LR scores test</th>\n",
       "      <th>RFC scores train</th>\n",
       "      <th>RFC scores test</th>\n",
       "      <th>LinR scores train</th>\n",
       "      <th>LinR scores test</th>\n",
       "    </tr>\n",
       "  </thead>\n",
       "  <tbody>\n",
       "    <tr>\n",
       "      <th>0</th>\n",
       "      <td>0.876976</td>\n",
       "      <td>0.862821</td>\n",
       "      <td>1.000000</td>\n",
       "      <td>0.897436</td>\n",
       "      <td>0.937824</td>\n",
       "      <td>0.926709</td>\n",
       "    </tr>\n",
       "    <tr>\n",
       "      <th>1</th>\n",
       "      <td>0.871154</td>\n",
       "      <td>0.860732</td>\n",
       "      <td>1.000000</td>\n",
       "      <td>0.874816</td>\n",
       "      <td>0.930943</td>\n",
       "      <td>0.964684</td>\n",
       "    </tr>\n",
       "    <tr>\n",
       "      <th>2</th>\n",
       "      <td>0.879000</td>\n",
       "      <td>0.854487</td>\n",
       "      <td>1.000000</td>\n",
       "      <td>0.819231</td>\n",
       "      <td>0.939616</td>\n",
       "      <td>0.925214</td>\n",
       "    </tr>\n",
       "    <tr>\n",
       "      <th>3</th>\n",
       "      <td>0.885081</td>\n",
       "      <td>0.858399</td>\n",
       "      <td>1.000000</td>\n",
       "      <td>0.852178</td>\n",
       "      <td>0.938893</td>\n",
       "      <td>0.929414</td>\n",
       "    </tr>\n",
       "    <tr>\n",
       "      <th>4</th>\n",
       "      <td>0.876495</td>\n",
       "      <td>0.858207</td>\n",
       "      <td>0.997967</td>\n",
       "      <td>0.833617</td>\n",
       "      <td>0.944856</td>\n",
       "      <td>0.901852</td>\n",
       "    </tr>\n",
       "  </tbody>\n",
       "</table>\n",
       "</div>"
      ],
      "text/plain": [
       "   LR scores train  LR scores test  RFC scores train  RFC scores test  \\\n",
       "0         0.876976        0.862821          1.000000         0.897436   \n",
       "1         0.871154        0.860732          1.000000         0.874816   \n",
       "2         0.879000        0.854487          1.000000         0.819231   \n",
       "3         0.885081        0.858399          1.000000         0.852178   \n",
       "4         0.876495        0.858207          0.997967         0.833617   \n",
       "\n",
       "   LinR scores train  LinR scores test  \n",
       "0           0.937824          0.926709  \n",
       "1           0.930943          0.964684  \n",
       "2           0.939616          0.925214  \n",
       "3           0.938893          0.929414  \n",
       "4           0.944856          0.901852  "
      ]
     },
     "execution_count": 62,
     "metadata": {},
     "output_type": "execute_result"
    }
   ],
   "source": [
    "#b\n",
    "from sklearn.linear_model import LinearRegression\n",
    "\n",
    "train_scores_linr = []\n",
    "test_scores_linr = []\n",
    "\n",
    "i=0\n",
    "while i < 5:\n",
    "    test_xi = np.asarray(xi[i]) \n",
    "    train_xi = np.concatenate(xi[:i] + xi[i+1:])\n",
    "    \n",
    "    X_train, X_test = dataX.iloc[train_xi, :], dataX.iloc[test_xi, :]\n",
    "    y_train, y_test = dataY.iloc[train_xi], dataY.iloc[test_xi]\n",
    "    \n",
    "    # Compute stats and normalize data\n",
    "    stats = compute_stats(X_train)\n",
    "    \n",
    "    X_train = normalize(X_train, stats)\n",
    "    X_test = normalize(X_test, stats)\n",
    "    \n",
    "    # Perform Random Forest Classification\n",
    "    regressor = LinearRegression()\n",
    "    regressor.fit(X_train, y_train)\n",
    "    \n",
    "    # Evaluate model\n",
    "    train_linr, test_linr = get_score(regressor, X_train, X_test, y_train, y_test)\n",
    "    \n",
    "    # Store the obtained results for further comparisons\n",
    "    train_scores_linr.append(train_linr)\n",
    "    test_scores_linr.append(test_linr)\n",
    "    \n",
    "    i += 1\n",
    "\n",
    "dataScores['LinR scores train'] = train_scores_linr\n",
    "dataScores['LinR scores test'] = test_scores_linr\n",
    "dataScores.to_csv(root_path + 'scores.csv')\n",
    "dataScores"
   ]
  },
  {
   "cell_type": "markdown",
   "metadata": {},
   "source": [
    "c. It appears Linear Regression worked best on the test set, which is surprizing, since it's the simplest algorithm I tried. I don't know why this happened."
   ]
  },
  {
   "cell_type": "markdown",
   "metadata": {},
   "source": [
    "# Feedback\n",
    "Very interesting lab. I don't think I solved everything the way you wanted us to (see the normalization function) but I tried to get all the tasks done in some way or another. Looking forward to more ML next time :) "
   ]
  }
 ],
 "metadata": {
  "colab": {
   "collapsed_sections": [],
   "name": "Lab11_AI_Solved.ipynb",
   "provenance": []
  },
  "kernelspec": {
   "display_name": "Python 3",
   "language": "python",
   "name": "python3"
  },
  "language_info": {
   "codemirror_mode": {
    "name": "ipython",
    "version": 3
   },
   "file_extension": ".py",
   "mimetype": "text/x-python",
   "name": "python",
   "nbconvert_exporter": "python",
   "pygments_lexer": "ipython3",
   "version": "3.8.3"
  }
 },
 "nbformat": 4,
 "nbformat_minor": 1
}
