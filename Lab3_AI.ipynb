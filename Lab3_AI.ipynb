{
 "cells": [
  {
   "cell_type": "markdown",
   "metadata": {
    "id": "gVtTU731ugud"
   },
   "source": [
    "# Artificial Intelligence - Fall 2020 - Laboratory 03:Python Introduction part III\n",
    "\n",
    "c: Alexandra Dobrescu <alexandramaria.digital@gmail.com>"
   ]
  },
  {
   "cell_type": "markdown",
   "metadata": {
    "id": "18ICxssnuguh"
   },
   "source": [
    "## Classes\n",
    "\n",
    "The object-oriented programming paradigm in Python helps with structuring programs into `individual objects`. But how?\n",
    "\n",
    "* An Object **O** from a class **C** has a set of properties **_p_** and actions **_a_**.\n",
    "\n",
    "* The functions of a class are called `methods`. Their responsibility is to model the data corresponding to a given object.\n",
    "\n",
    "* The objects of a class are known as `instances` and represent the source of collecting data.\n",
    "\n",
    "```python\n",
    "\n",
    "class EmptyClas:\n",
    "    \"\"\"\n",
    "    This is a class without variables and methods\n",
    "    \"\"\"\n",
    "    pass # The keyword pass is a placeholder\n",
    "\n",
    "\n",
    "class MyClass:\n",
    "    # A class variable\n",
    "    name = 'My Class'\n",
    "    \n",
    "    def my_method(self, my_var):\n",
    "        # An instance variable\n",
    "        self.my_instance = my_var\n",
    "```"
   ]
  },
  {
   "cell_type": "code",
   "execution_count": 33,
   "metadata": {
    "id": "XhgoWxJGuguk"
   },
   "outputs": [],
   "source": [
    "class ScientificConference:\n",
    "    \"\"\"\n",
    "    To define the properties of a class, \n",
    "    we use a special method called __init__.\n",
    "    \n",
    "    The special variable called \"self\"\n",
    "    helps with associating the attributes\n",
    "    w\\ the new object: similar to `this`\n",
    "    keyword from other programming languages\n",
    "    and required to address variables from\n",
    "    classes. \n",
    "    \"\"\"\n",
    "    def __init__(self, name, year, papers):\n",
    "        \"\"\"\n",
    "        Establish the attributes of the\n",
    "        class and assign values to the \n",
    "        corresponding parameters.\n",
    "        \"\"\" \n",
    "        self.name = name\n",
    "        self.year = year\n",
    "        \"\"\"\n",
    "        b. Add new attribute `papers`\n",
    "        \"\"\"\n",
    "        \n",
    "        if papers==None :\n",
    "            self.papers = {}\n",
    "        else :\n",
    "            self.papers = papers\n",
    "    \n",
    "    def add_manuscript(self, title, researcher):\n",
    "        self.papers[researcher] = title\n",
    "\n",
    "    def __str__(self):\n",
    "        \"\"\"\n",
    "        To return the String representation of\n",
    "        an object, we use the __str__ method. \n",
    "        \"\"\"\n",
    "        result = self.name + ' ' + str(self.year) + ': \\n'\n",
    "        for author, papers in self.papers.items():\n",
    "            #result += f'{author}: {\", \".join([str(paper) for paper in papers])} \\n'\n",
    "            result += author + \": \" + papers + \"\\n\"\n",
    "        return result"
   ]
  },
  {
   "cell_type": "markdown",
   "metadata": {
    "id": "6xdy3BZ7ugu1"
   },
   "source": [
    "### Task 0\n",
    "\n",
    "**a.** Define two new `instances` of the `class ScientificConference` and return their representations.\n",
    "\n",
    "Your output should look like:\n",
    "\n",
    "`Proposals for ICML and NeurIPS conferences will be accepted until the end of November 2020.`\n",
    "\n",
    "_Hint:_ `instance.attribute` helps you extracting a certain property."
   ]
  },
  {
   "cell_type": "code",
   "execution_count": 34,
   "metadata": {
    "id": "ezLUEAgkugu5"
   },
   "outputs": [
    {
     "name": "stdout",
     "output_type": "stream",
     "text": [
      "ICML 2020: \n",
      "\n",
      "NeurIPS 2020: \n",
      "\n",
      "Proposals for ICML and NeurIPS will be accepted until the end of November 2020.\n"
     ]
    }
   ],
   "source": [
    "# Your implementation here\n",
    "\n",
    "conf1 = ScientificConference(\"ICML\", 2020, None)\n",
    "conf2 = ScientificConference(\"NeurIPS\", 2020, None)\n",
    "\n",
    "print(str(conf1))\n",
    "print(str(conf2))\n",
    "\n",
    "print(\"Proposals for \" + conf1.name + \" and \" + conf2.name + \" will be accepted until the end of November \" + str(conf1.year) +\".\")"
   ]
  },
  {
   "cell_type": "markdown",
   "metadata": {
    "id": "7ZvLz1GZugvC"
   },
   "source": [
    "**b.** Create a new attribute for the `class ScientificConference`, which is a dictionary passed as a parameter to the instances of the class and holds all of the papers of the conference.\n",
    "\n",
    "_Note:_ You should check if `papers` is `None` in `__init__` and set it to `{}` instead.\n",
    "\n",
    "_Please handle duplicate entries by removing them!_"
   ]
  },
  {
   "cell_type": "markdown",
   "metadata": {
    "id": "Tw7tlZtTugvF"
   },
   "source": [
    "**c.** Define the `add_manuscript` method which generates new entries in the dictionary described before. Please consider using the _researcher_ as a `key` and the _manuscript_ as `values`."
   ]
  },
  {
   "cell_type": "code",
   "execution_count": 35,
   "metadata": {
    "id": "yUDsQUowugvH"
   },
   "outputs": [
    {
     "name": "stdout",
     "output_type": "stream",
     "text": [
      "ICML 2020: \n",
      "Peppa Pig: Why I Do Not Like Bacon\n",
      "\n"
     ]
    }
   ],
   "source": [
    "# Your implementation here\n",
    "# Verify if your add_manuscript method works: add an item & print it\n",
    "\n",
    "conf1.add_manuscript('Why I Do Not Like Bacon', 'Peppa Pig')\n",
    "print(str(conf1))"
   ]
  },
  {
   "cell_type": "markdown",
   "metadata": {
    "id": "HUKrHifWugvP"
   },
   "source": [
    "### Task 1\n",
    "\n",
    "**a.** Define the class `Person` which stores the `title`, `name` and `surname` of a person.\n",
    "\n",
    "The _tuple_ `allowed_titles` is a class variable which helps to verify if the title of a person is \"Mr\", \"Mrs\", \"Ms\", \"Senior Researcher\", \"Professor of CS\" or \"Computer Scientist\".\n",
    "\n",
    "An error is returned if the title is not valid.\n",
    "\n",
    "Use `__str__` defined below:\n",
    "\n",
    "```python\n",
    "    def __str__(self):\n",
    "        return self.title + ' ' + self.surname + ' ' + self.name\n",
    "```"
   ]
  },
  {
   "cell_type": "code",
   "execution_count": 194,
   "metadata": {
    "id": "CLYRkzHSugvR"
   },
   "outputs": [],
   "source": [
    "# Your implementation here\n",
    "\n",
    "class Person:\n",
    "    allowed_titles = ['Mr', 'Mrs', 'Ms', 'Senior Researcher', 'Professor of CS', 'Computer Scientist']\n",
    "    \n",
    "    def __init__(self, title, name, surname) :\n",
    "        a = 0\n",
    "        for i in self.allowed_titles :\n",
    "            if i == title :\n",
    "                self.title = title\n",
    "                a = 1\n",
    "        if a == 0 :\n",
    "            raise ValueError(\"Title not allowed.\")\n",
    "        self.name = name\n",
    "        self.surname = surname\n",
    "        \n",
    "    def __str__(self):\n",
    "        return self.title + \" \" + self.surname + \" \" + self.name"
   ]
  },
  {
   "cell_type": "markdown",
   "metadata": {
    "id": "ZcjB03J3ugva"
   },
   "source": [
    "**b.** Create two instances of the class Person and verify if the following entries are valid:\n",
    "\n",
    "* _Mr Ian Goodfellow_,\n",
    "* _SeniorResearcher Tomas Mikolov._"
   ]
  },
  {
   "cell_type": "code",
   "execution_count": 51,
   "metadata": {
    "id": "U8jKwHK8ugvc"
   },
   "outputs": [
    {
     "name": "stdout",
     "output_type": "stream",
     "text": [
      "Ms Pig Peppa\n"
     ]
    },
    {
     "ename": "ValueError",
     "evalue": "Title not allowed.",
     "output_type": "error",
     "traceback": [
      "\u001b[1;31m---------------------------------------------------------------------------\u001b[0m",
      "\u001b[1;31mValueError\u001b[0m                                Traceback (most recent call last)",
      "\u001b[1;32m<ipython-input-51-d57ba5567b0b>\u001b[0m in \u001b[0;36m<module>\u001b[1;34m\u001b[0m\n\u001b[0;32m      3\u001b[0m \u001b[0mpers0\u001b[0m \u001b[1;33m=\u001b[0m \u001b[0mPerson\u001b[0m\u001b[1;33m(\u001b[0m\u001b[1;34m\"Ms\"\u001b[0m\u001b[1;33m,\u001b[0m \u001b[1;34m\"Peppa\"\u001b[0m\u001b[1;33m,\u001b[0m \u001b[1;34m\"Pig\"\u001b[0m\u001b[1;33m)\u001b[0m\u001b[1;33m\u001b[0m\u001b[1;33m\u001b[0m\u001b[0m\n\u001b[0;32m      4\u001b[0m \u001b[0mprint\u001b[0m\u001b[1;33m(\u001b[0m\u001b[0mpers0\u001b[0m\u001b[1;33m)\u001b[0m\u001b[1;33m\u001b[0m\u001b[1;33m\u001b[0m\u001b[0m\n\u001b[1;32m----> 5\u001b[1;33m \u001b[0mpers1\u001b[0m \u001b[1;33m=\u001b[0m \u001b[0mPerson\u001b[0m\u001b[1;33m(\u001b[0m\u001b[1;34m\"_Mr\"\u001b[0m\u001b[1;33m,\u001b[0m \u001b[1;34m\"Ian\"\u001b[0m\u001b[1;33m,\u001b[0m \u001b[1;34m\"Goodfellow_\"\u001b[0m\u001b[1;33m)\u001b[0m\u001b[1;33m\u001b[0m\u001b[1;33m\u001b[0m\u001b[0m\n\u001b[0m\u001b[0;32m      6\u001b[0m \u001b[0mpers2\u001b[0m \u001b[1;33m=\u001b[0m \u001b[0mPerson\u001b[0m\u001b[1;33m(\u001b[0m\u001b[1;34m\"SeniorResearcher\"\u001b[0m\u001b[1;33m,\u001b[0m \u001b[1;34m\"Thomas\"\u001b[0m\u001b[1;33m,\u001b[0m \u001b[1;34m\"Mikolov\"\u001b[0m\u001b[1;33m)\u001b[0m\u001b[1;33m\u001b[0m\u001b[1;33m\u001b[0m\u001b[0m\n",
      "\u001b[1;32m<ipython-input-47-8c3b4c38d9f7>\u001b[0m in \u001b[0;36m__init__\u001b[1;34m(self, title, name, surname)\u001b[0m\n\u001b[0;32m     11\u001b[0m                 \u001b[0ma\u001b[0m \u001b[1;33m=\u001b[0m \u001b[1;36m1\u001b[0m\u001b[1;33m\u001b[0m\u001b[1;33m\u001b[0m\u001b[0m\n\u001b[0;32m     12\u001b[0m         \u001b[1;32mif\u001b[0m \u001b[0ma\u001b[0m \u001b[1;33m==\u001b[0m \u001b[1;36m0\u001b[0m \u001b[1;33m:\u001b[0m\u001b[1;33m\u001b[0m\u001b[1;33m\u001b[0m\u001b[0m\n\u001b[1;32m---> 13\u001b[1;33m             \u001b[1;32mraise\u001b[0m \u001b[0mValueError\u001b[0m\u001b[1;33m(\u001b[0m\u001b[1;34m\"Title not allowed.\"\u001b[0m\u001b[1;33m)\u001b[0m\u001b[1;33m\u001b[0m\u001b[1;33m\u001b[0m\u001b[0m\n\u001b[0m\u001b[0;32m     14\u001b[0m         \u001b[0mself\u001b[0m\u001b[1;33m.\u001b[0m\u001b[0mname\u001b[0m \u001b[1;33m=\u001b[0m \u001b[0mname\u001b[0m\u001b[1;33m\u001b[0m\u001b[1;33m\u001b[0m\u001b[0m\n\u001b[0;32m     15\u001b[0m         \u001b[0mself\u001b[0m\u001b[1;33m.\u001b[0m\u001b[0msurname\u001b[0m \u001b[1;33m=\u001b[0m \u001b[0msurname\u001b[0m\u001b[1;33m\u001b[0m\u001b[1;33m\u001b[0m\u001b[0m\n",
      "\u001b[1;31mValueError\u001b[0m: Title not allowed."
     ]
    }
   ],
   "source": [
    "# Your implementation here\n",
    "\n",
    "pers0 = Person(\"Ms\", \"Peppa\", \"Pig\")\n",
    "print(pers0)\n",
    "pers1 = Person(\"_Mr\", \"Ian\", \"Goodfellow_\")\n",
    "pers2 = Person(\"SeniorResearcher\", \"Thomas\", \"Mikolov\")"
   ]
  },
  {
   "cell_type": "markdown",
   "metadata": {
    "id": "sJGqy2Zxugvm"
   },
   "source": [
    "### Task 2\n",
    "\n",
    "In `ScientificConference` we have been using the paper parameter as a string, but this concept requires a detailed structure.\n",
    "\n",
    "Introduce a new class, `Paper`, which has the following attributes:\n",
    "\n",
    "* `authors`, \n",
    "* `title`, \n",
    "* `a_id`,\n",
    "* `year`, \n",
    "* `status` (published or in development), \n",
    "* `peer_rating` (Excellent, Good, Fair, Poor, Barely Acceptable, Unacceptable)."
   ]
  },
  {
   "cell_type": "code",
   "execution_count": 202,
   "metadata": {
    "id": "1hPZ7q3rugvn"
   },
   "outputs": [],
   "source": [
    "class Paper:\n",
    "    allowed_status = ['published', 'in development']\n",
    "    allowed_peer_rating = ['Excellent', 'Good', 'Fair', 'Poor', 'Barely Acceptable', 'Unacceptable']\n",
    "    \n",
    "    def __init__(self, authors, title, a_id, status, year, peer_rating):\n",
    "        self.authors = []\n",
    "        self.authors.append(authors)\n",
    "        self.title = title\n",
    "        self.a_id = a_id\n",
    "        self.year = year\n",
    "        \n",
    "        a = 0\n",
    "        for i in self.allowed_status :\n",
    "            if i == status :\n",
    "                self.status = status\n",
    "                a = 1\n",
    "        if a == 0 :\n",
    "            raise ValueError(\"Status value not allowed.\")\n",
    "        \n",
    "        a = 0    \n",
    "        for i in self.allowed_peer_rating :\n",
    "            if i == peer_rating :\n",
    "                self.peer_rating = peer_rating\n",
    "                a = 1\n",
    "        if a == 0 :\n",
    "            raise ValueError(\"Peer rating value not allowed.\")\n",
    "        \n",
    "\n",
    "    def __str__(self):\n",
    "        author = self.authors[0]\n",
    "        s = self.title + \" by \" + str(author) + \" et al. (\" + str(self.year) + \"), a_id: \" + str(self.a_id) + \", status: \" + self.status + \", peer rating: \" + self.peer_rating + \".\" \n",
    "        return s"
   ]
  },
  {
   "cell_type": "markdown",
   "metadata": {
    "id": "j82CL54Augvv"
   },
   "source": [
    "## Inheritence\n",
    "\n",
    "In Object-Oriented programming, this concept enables us to transfer the methods and the properties of a class to another class."
   ]
  },
  {
   "cell_type": "markdown",
   "metadata": {
    "id": "rZqutiFsugvw"
   },
   "source": [
    "### Task 3\n",
    "\n",
    "Create a class named `Researcher`, which inherits the properties and methods from the `Person` class. Besides, this class has an additional parameter, `papers` which is `None` by default.\n",
    "\n",
    "_Note:_ You should check if `papers` is `None` in `__init__` and set it to `[]` instead.\n",
    "\n",
    "```python\n",
    "class Researcher(Person):\n",
    "    def __init__('Add arguments'):\n",
    "        super().__init__(title, name, surname)\n",
    "```"
   ]
  },
  {
   "cell_type": "code",
   "execution_count": 196,
   "metadata": {
    "id": "QCfpoVveugvy"
   },
   "outputs": [
    {
     "name": "stdout",
     "output_type": "stream",
     "text": [
      "Senior Researcher Mikolov Tomas\n"
     ]
    }
   ],
   "source": [
    "# Define your first researcher\n",
    "# Expected output: Senior Researcher Tomas Mikolov\n",
    "\n",
    "class Researcher(Person) :\n",
    "    def __init__(self, title, name, surname, papers) :\n",
    "        super().__init__(title, name, surname)\n",
    "        self.papers = papers\n",
    "        if self.papers == None :\n",
    "            self.papers = []\n",
    "            self.co_authored = False\n",
    "        else :\n",
    "            self.co_authored = True\n",
    "            \n",
    "    def get_papers(self):\n",
    "        for i in self.papers:\n",
    "            print(i)\n",
    "    \n",
    "    def add_paper(self, p) :\n",
    "        self.papers.append(p)\n",
    "        self.co_authored = True\n",
    "    \n",
    "    # Task 4 b.\n",
    "    \n",
    "    def verify_co_authorship(self) :\n",
    "        if (self.co_authored) :\n",
    "            a = self.title + \" \" + self.name + \" \" + self.surname + \" is a co-author.\\n\"\n",
    "        else :\n",
    "            a = self.title + \" \" + self.name + \" \" + self.surname + \" is not a co-author.\\n\"\n",
    "        print(a)\n",
    "        \n",
    "    # Task 4 c.\n",
    "    \n",
    "    def get_collab(self, j):\n",
    "        for i in self.papers:\n",
    "            if j in i.authors and self in i.authors:\n",
    "                print(i)\n",
    "                \n",
    "res = Researcher(\"Senior Researcher\", \"Tomas\", \"Mikolov\",None)\n",
    "print(res)"
   ]
  },
  {
   "cell_type": "markdown",
   "metadata": {
    "id": "40nAxy14ugv8"
   },
   "source": [
    "### Task 4\n",
    "\n",
    "Consider the following scientists:\n",
    "\n",
    "1.  Paper _Deep Learning_ published by Yann LeCun, Yoshua Bengio, Geoffrey Hinton, in _nature 521_, id = https://doi.org/10.1038/nature14539, peer_rating = Excelent.\n",
    "\n",
    "2. Paper _On the difficulty of training recurrent neural networks_ by Razvan Pascanu, Tomas Mikolov, Professor of computer science Yoshua Bengio, in ICML 2013, id = https://arxiv.org/abs/1211.5063, peer_rating = Excelent.\n",
    "\n",
    "2. Paper _Generative Adversarial Nets_ by Ian Goodfellow and Yoshua Bengio, NeurIPS 2015, id = http://papers.nips.cc/paper/5423-generative-adversarial-nets.pdf, peer_rating = Excelent.\n",
    "\n",
    "3. Paper _Handwritten Digit Recognition with a Back-Propagation Network_ by Computer Scientist Yan LeCun, NeurIPS 1989, id =  https://papers.nips.cc/paper/293-handwritten-digit-recognition-with-a-back-propagation-network, peer_rating = Excelent.\n",
    "\n",
    "4. Paper _Gated Softmax Classification_ by Geoffrey Hintorn, NeurIPS 2010, id = http://papers.neurips.cc/paper/3895-gated-softmax-classification, peer_rating = Good.\n",
    "\n",
    "_Note:_ Let us consider \"Mr\" as a default title for the researchers without a specific caption. Also, for the id of a paper, please use only integers from the provided links.\n",
    "\n",
    "**a.** Define the next 5 scientists and use them in your `paper` objects.\n",
    "\n",
    "\n",
    "\n",
    "**b.** Create the `verify_co_authorship` function inside the `class Researcher` which checks if a certain researcher ever co-authored a paper.\n",
    "_Hint:_ Use `self.co_authored = False` inside the `__init__` function.\n",
    "\n",
    "**c.** Implement the `get_collab` function inside the `class Researcher` to discover the papers written by two researchers.\n",
    "\n",
    "For instance, if Yoshua Bengio is researcher2 and Ian Goodfellow is researcher3, then:\n",
    "\n",
    "`print_papers(researcher2.get_collab(researcher3))` should output:\n",
    "\n",
    "_Generative Adversarial Nets, Mr Ian Goodfellow et al. (2015), a_id: 5423, status: published, rating: Excelent_\n",
    "\n",
    "_Note:_ This function helps you to print the papers from a given list.\n",
    "\n",
    "```python\n",
    "def print_papers(paper_list):\n",
    "    for paper in paper_list:\n",
    "        print(paper)\n",
    "```\n",
    "\n",
    "**d.** What are the papers written by Yoshua Bengio?\n",
    "\n",
    "Expected output:\n",
    "\n",
    "`Deep Learning, Computer Scientist Yann LeCun et al. (2015), a_id: 14539, status: published, rating: Excelent`\n",
    "\n",
    "`Generative Adversarial Nets, Mr Ian Goodfellow et al. (2015), a_id: 5423, status: published, rating: Excelent`\n",
    "\n",
    "`Paper On the difficulty of training recurrent neural networks, Mr Razvan Pascanu et al. (2013), a_id: 5063, status: published, rating: Excelent`\n",
    "\n",
    "**e.** Did he ever co-author a paper?\n",
    "\n",
    "**f.** Which papers are published by Yann LeCun?\n",
    "\n",
    "Expected output:\n",
    "\n",
    "`Deep Learning, Computer Scientist Yann LeCun et al. (2015), a_id: 14539, status: published, rating: Excelent`\n",
    "\n",
    "`Handwritten Digit Recognition with a Back-Propagation Network, Computer Scientist Yann LeCun et al. (1989), a_id: 293, status: published, rating: Good`"
   ]
  },
  {
   "cell_type": "code",
   "execution_count": 203,
   "metadata": {
    "id": "EDsHycjEugv_"
   },
   "outputs": [
    {
     "name": "stdout",
     "output_type": "stream",
     "text": [
      "a\n",
      "b\n",
      "Computer Scientist Yann LeCun is a co-author.\n",
      "\n",
      "Professor of CS Yoshua Bengio is a co-author.\n",
      "\n",
      "c\n",
      "d\n",
      "Deep Learning by [<__main__.Researcher object at 0x0000010D9F95ED60>, <__main__.Researcher object at 0x0000010D9F990F40>, <__main__.Researcher object at 0x0000010D9F95E880>] et al. (2020), a_id: 14539, status: published, peer rating: Excellent.\n",
      "On the difficulty of training recurrent neural networks by [<__main__.Researcher object at 0x0000010D9F985520>, <__main__.Researcher object at 0x0000010D9F990F40>, <__main__.Researcher object at 0x0000010D9F990820>] et al. (2013), a_id: 1211, status: in development, peer rating: Excellent.\n",
      "Generative Adversarial Nets by [<__main__.Researcher object at 0x0000010D9F990F40>, <__main__.Researcher object at 0x0000010D9F990670>] et al. (2015), a_id: 5423, status: published, peer rating: Excellent.\n",
      "e\n",
      "f\n",
      "Deep Learning by [<__main__.Researcher object at 0x0000010D9F95ED60>, <__main__.Researcher object at 0x0000010D9F990F40>, <__main__.Researcher object at 0x0000010D9F95E880>] et al. (2020), a_id: 14539, status: published, peer rating: Excellent.\n",
      "Handwritten Digit Recognition with a Back-Propagation Network by [<__main__.Researcher object at 0x0000010D9F95ED60>] et al. (1989), a_id: 293, status: published, peer rating: Excellent.\n"
     ]
    }
   ],
   "source": [
    "# a.\n",
    "print(\"a\")\n",
    "res1 = Researcher(\"Computer Scientist\",\"Yann\",\"LeCun\", None)\n",
    "res2 = Researcher(\"Professor of CS\",\"Yoshua\",\"Bengio\", None)\n",
    "res3 = Researcher(\"Mr\",\"Geoffrey\",\"Hinton\", None)\n",
    "res4 = Researcher(\"Mr\",\"Razvan\",\"Pascanu\", None)\n",
    "res5 = Researcher(\"Mr\",\"Ian\",\"Goodfellow\", None)\n",
    "\n",
    "paper1 = Paper([res1,res2,res3],\"Deep Learning\",14539,\"published\",2020,\"Excellent\")\n",
    "paper2 = Paper([res,res2,res4],\"On the difficulty of training recurrent neural networks\",1211,\"in development\",2013,\"Excellent\")\n",
    "paper3 = Paper([res2,res5],\"Generative Adversarial Nets\",5423,\"published\",2015,\"Excellent\")\n",
    "paper4 = Paper([res1],\"Handwritten Digit Recognition with a Back-Propagation Network\",293,\"published\",1989,\"Excellent\")\n",
    "paper5 = Paper([res3],\"Gated Softmax Classification\",3895,\"published\",2010,\"Excellent\")\n",
    "\n",
    "res1.add_paper(paper1)\n",
    "res2.add_paper(paper1)\n",
    "res3.add_paper(paper1)\n",
    "res2.add_paper(paper2)\n",
    "res4.add_paper(paper2)\n",
    "res.add_paper(paper2)\n",
    "res2.add_paper(paper3)\n",
    "res5.add_paper(paper3)\n",
    "res1.add_paper(paper4)\n",
    "res3.add_paper(paper5)\n",
    "\n",
    "# b.\n",
    "print(\"b\")\n",
    "res1.verify_co_authorship()\n",
    "res2.verify_co_authorship()\n",
    "\n",
    "# c.\n",
    "print(\"c\")\n",
    "res2.get_collab(res3)\n",
    "\n",
    "# d.\n",
    "print(\"d\")\n",
    "res2.get_papers()\n",
    "\n",
    "# e.\n",
    "print(\"e\")\n",
    "res2.get_collab(res3)\n",
    "\n",
    "# f.\n",
    "print(\"f\")\n",
    "res1.get_papers()"
   ]
  },
  {
   "cell_type": "markdown",
   "metadata": {
    "id": "AImKzUZgugv9"
   },
   "source": [
    "### Task 5 - Homework\n",
    "\n",
    "Consider an updated version of the `ScientificConference` class, which should have a modified version of the function `add_manuscript`.\n",
    "\n",
    "Use the `status` and the `peer_rating` variables as a **threshold** to add papers in your `papers` dictionary. The conferences will only be accepting `Excelent` papers. For this case, the dictionary has the year of the paper as `key`, and the `values` are stored as a tuple of `(researcher, manuscript)`. For the papers which don't satisfy this condition, the message _\"Please review your submission.\"_ is displayed.\n",
    "\n",
    "For papers submitted in 2015, when printing the conference, the `str` function should output:\n",
    "\n",
    "```\n",
    "NeurIPS 2020: \n",
    "2015: \n",
    "Mr Ian Goodfellow: Generative Adversarial Nets, Mr Ian Goodfellow et al. (2015), id: 5423, status: published, rating: Excelent \n",
    "Computer Scientist Yann LeCun: Deep Learning, Computer Scientist Yann LeCun et al. (2015), id: 14539, status: published, rating: Excelent\n",
    "```"
   ]
  },
  {
   "cell_type": "code",
   "execution_count": 210,
   "metadata": {
    "id": "EDsHycjEugv_"
   },
   "outputs": [],
   "source": [
    "class ScientificConferenceUpdate:\n",
    "    \"\"\"\n",
    "    To define the properties of a class, \n",
    "    we use a special method called __init__.\n",
    "    \n",
    "    The special variable called \"self\"\n",
    "    helps with associating the attributes\n",
    "    w\\ the new object: similar to `this`\n",
    "    keyword from other programming languages\n",
    "    and required to address variables from\n",
    "    classes. \n",
    "    \"\"\"\n",
    "    def __init__(self, name, year):\n",
    "        \"\"\"\n",
    "        Establish the attributes of the\n",
    "        class and assign values to the \n",
    "        corresponding parameters.\n",
    "        \"\"\" \n",
    "        self.name = name\n",
    "        self.year = year\n",
    "        self.papers = {}\n",
    "    \n",
    "    def add_manuscript(self, manuscript, researcher):\n",
    "        if manuscript.status==\"published\" and manuscript.peer_rating==\"Excellent\" :\n",
    "            self.papers[manuscript.year] = (researcher, manuscript)\n",
    "        else :\n",
    "            print(\"Please review your submission.\")\n",
    "        \n",
    "    def __str__(self):\n",
    "        \"\"\"\n",
    "        To return the String representation of\n",
    "        an object, we use the __str__ method. \n",
    "        \"\"\"\n",
    "        result = self.name + ' ' + str(self.year) + ': \\n'\n",
    "        for year, papers in self.papers.items():\n",
    "            result += f'{year}: \\n'\n",
    "            for (author, paper) in papers: \n",
    "                result += f'{str(author)}: {paper} \\n'\n",
    "        return result"
   ]
  },
  {
   "cell_type": "code",
   "execution_count": 211,
   "metadata": {},
   "outputs": [
    {
     "ename": "TypeError",
     "evalue": "cannot unpack non-iterable Researcher object",
     "output_type": "error",
     "traceback": [
      "\u001b[1;31m---------------------------------------------------------------------------\u001b[0m",
      "\u001b[1;31mTypeError\u001b[0m                                 Traceback (most recent call last)",
      "\u001b[1;32m<ipython-input-211-b701527cdcdc>\u001b[0m in \u001b[0;36m<module>\u001b[1;34m\u001b[0m\n\u001b[0;32m      2\u001b[0m \u001b[0mconf\u001b[0m\u001b[1;33m.\u001b[0m\u001b[0madd_manuscript\u001b[0m\u001b[1;33m(\u001b[0m\u001b[0mpaper3\u001b[0m\u001b[1;33m,\u001b[0m\u001b[0mres5\u001b[0m\u001b[1;33m)\u001b[0m\u001b[1;33m\u001b[0m\u001b[1;33m\u001b[0m\u001b[0m\n\u001b[0;32m      3\u001b[0m \u001b[0mconf\u001b[0m\u001b[1;33m.\u001b[0m\u001b[0madd_manuscript\u001b[0m\u001b[1;33m(\u001b[0m\u001b[0mpaper1\u001b[0m\u001b[1;33m,\u001b[0m\u001b[0mres1\u001b[0m\u001b[1;33m)\u001b[0m\u001b[1;33m\u001b[0m\u001b[1;33m\u001b[0m\u001b[0m\n\u001b[1;32m----> 4\u001b[1;33m \u001b[0mprint\u001b[0m\u001b[1;33m(\u001b[0m\u001b[0mconf\u001b[0m\u001b[1;33m)\u001b[0m\u001b[1;33m\u001b[0m\u001b[1;33m\u001b[0m\u001b[0m\n\u001b[0m",
      "\u001b[1;32m<ipython-input-210-8101f471ae5e>\u001b[0m in \u001b[0;36m__str__\u001b[1;34m(self)\u001b[0m\n\u001b[0;32m     35\u001b[0m         \u001b[1;32mfor\u001b[0m \u001b[0myear\u001b[0m\u001b[1;33m,\u001b[0m \u001b[0mpapers\u001b[0m \u001b[1;32min\u001b[0m \u001b[0mself\u001b[0m\u001b[1;33m.\u001b[0m\u001b[0mpapers\u001b[0m\u001b[1;33m.\u001b[0m\u001b[0mitems\u001b[0m\u001b[1;33m(\u001b[0m\u001b[1;33m)\u001b[0m\u001b[1;33m:\u001b[0m\u001b[1;33m\u001b[0m\u001b[1;33m\u001b[0m\u001b[0m\n\u001b[0;32m     36\u001b[0m             \u001b[0mresult\u001b[0m \u001b[1;33m+=\u001b[0m \u001b[1;34mf'{year}: \\n'\u001b[0m\u001b[1;33m\u001b[0m\u001b[1;33m\u001b[0m\u001b[0m\n\u001b[1;32m---> 37\u001b[1;33m             \u001b[1;32mfor\u001b[0m \u001b[1;33m(\u001b[0m\u001b[0mauthor\u001b[0m\u001b[1;33m,\u001b[0m \u001b[0mpaper\u001b[0m\u001b[1;33m)\u001b[0m \u001b[1;32min\u001b[0m \u001b[0mpapers\u001b[0m\u001b[1;33m:\u001b[0m\u001b[1;33m\u001b[0m\u001b[1;33m\u001b[0m\u001b[0m\n\u001b[0m\u001b[0;32m     38\u001b[0m                 \u001b[0mresult\u001b[0m \u001b[1;33m+=\u001b[0m \u001b[1;34mf'{str(author)}: {paper} \\n'\u001b[0m\u001b[1;33m\u001b[0m\u001b[1;33m\u001b[0m\u001b[0m\n\u001b[0;32m     39\u001b[0m         \u001b[1;32mreturn\u001b[0m \u001b[0mresult\u001b[0m\u001b[1;33m\u001b[0m\u001b[1;33m\u001b[0m\u001b[0m\n",
      "\u001b[1;31mTypeError\u001b[0m: cannot unpack non-iterable Researcher object"
     ]
    }
   ],
   "source": [
    "conf = ScientificConferenceUpdate(\"NeurIPS\", 2020)\n",
    "conf.add_manuscript(paper3,res5)\n",
    "conf.add_manuscript(paper1,res1)\n",
    "print(conf)"
   ]
  },
  {
   "cell_type": "code",
   "execution_count": 206,
   "metadata": {},
   "outputs": [
    {
     "name": "stdout",
     "output_type": "stream",
     "text": [
      "This was hard. Couldn't do it. Sorry. Liked the presentations during lab, though.\n"
     ]
    }
   ],
   "source": [
    "print(\"This was hard. Couldn't do it. Sorry. Liked the presentations during lab, though.\")"
   ]
  },
  {
   "cell_type": "code",
   "execution_count": null,
   "metadata": {},
   "outputs": [],
   "source": []
  }
 ],
 "metadata": {
  "colab": {
   "collapsed_sections": [],
   "name": "Lab03_AI.ipynb",
   "provenance": []
  },
  "kernelspec": {
   "display_name": "Python 3",
   "language": "python",
   "name": "python3"
  },
  "language_info": {
   "codemirror_mode": {
    "name": "ipython",
    "version": 3
   },
   "file_extension": ".py",
   "mimetype": "text/x-python",
   "name": "python",
   "nbconvert_exporter": "python",
   "pygments_lexer": "ipython3",
   "version": "3.8.3"
  }
 },
 "nbformat": 4,
 "nbformat_minor": 1
}
